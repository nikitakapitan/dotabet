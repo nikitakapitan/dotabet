{
 "cells": [
  {
   "cell_type": "code",
   "execution_count": 54,
   "id": "1d77dbb7-4af6-4d62-a1da-ac6f5ec662a9",
   "metadata": {},
   "outputs": [],
   "source": [
    "import json\n",
    "file_path = 'single_test.json'\n",
    "\n",
    "with open(file_path, 'r') as file:\n",
    "    data = json.load(file)"
   ]
  },
  {
   "cell_type": "code",
   "execution_count": 65,
   "id": "ac76604f-abdb-4a40-9951-32527b3fbdc6",
   "metadata": {},
   "outputs": [],
   "source": []
  },
  {
   "cell_type": "code",
   "execution_count": 56,
   "id": "186a0221-fc5d-4496-ab55-a23f16f778de",
   "metadata": {},
   "outputs": [],
   "source": [
    "\n",
    "\n",
    "# Example usage:\n",
    "original_dict = {\n",
    "    'bans': [\n",
    "        {'subkey1': 'subvalue1', 'subkey2': 'subvalue2'},\n",
    "        {'subkey1': {'subsubkey1': 'subsubvalue1'}, 'subkey2': 'subvalue2'}\n",
    "    ]\n",
    "}\n",
    "\n",
    "flattened_dict = flatten_dict(data)\n"
   ]
  },
  {
   "cell_type": "code",
   "execution_count": 57,
   "id": "07ef874c-5695-43d4-a8ab-2c03954b5f24",
   "metadata": {},
   "outputs": [],
   "source": [
    "with open('flatten_single_test3.json', 'w') as file:\n",
    "    json.dump(flattened_dict, file)"
   ]
  },
  {
   "cell_type": "code",
   "execution_count": 58,
   "id": "0d46c36e-5397-48bb-b9f4-b8b2694f6b31",
   "metadata": {},
   "outputs": [
    {
     "data": {
      "text/plain": [
       "438"
      ]
     },
     "execution_count": 58,
     "metadata": {},
     "output_type": "execute_result"
    }
   ],
   "source": [
    "len(flattened_dict)"
   ]
  },
  {
   "cell_type": "code",
   "execution_count": 59,
   "id": "0ff0ded8-3bc1-40da-b46c-ee44f4405b74",
   "metadata": {},
   "outputs": [
    {
     "data": {
      "text/plain": [
       "22"
      ]
     },
     "execution_count": 59,
     "metadata": {},
     "output_type": "execute_result"
    }
   ],
   "source": [
    "len(data)"
   ]
  },
  {
   "cell_type": "code",
   "execution_count": 53,
   "id": "9c652ca6-88c2-4b20-8aa3-50f18ad59516",
   "metadata": {},
   "outputs": [
    {
     "data": {
      "text/plain": [
       "487.1081081081081"
      ]
     },
     "execution_count": 53,
     "metadata": {},
     "output_type": "execute_result"
    }
   ],
   "source": [
    "18023/37"
   ]
  },
  {
   "cell_type": "code",
   "execution_count": null,
   "id": "7c45e93c-b435-452a-9ce5-7bc5270cc924",
   "metadata": {},
   "outputs": [],
   "source": []
  }
 ],
 "metadata": {
  "kernelspec": {
   "display_name": "Python 3 (ipykernel)",
   "language": "python",
   "name": "python3"
  },
  "language_info": {
   "codemirror_mode": {
    "name": "ipython",
    "version": 3
   },
   "file_extension": ".py",
   "mimetype": "text/x-python",
   "name": "python",
   "nbconvert_exporter": "python",
   "pygments_lexer": "ipython3",
   "version": "3.11.4"
  }
 },
 "nbformat": 4,
 "nbformat_minor": 5
}
