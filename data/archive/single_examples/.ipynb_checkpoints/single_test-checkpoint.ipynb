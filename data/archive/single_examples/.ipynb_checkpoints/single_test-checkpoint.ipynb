{
 "cells": [
  {
   "cell_type": "code",
   "execution_count": 32,
   "id": "1d77dbb7-4af6-4d62-a1da-ac6f5ec662a9",
   "metadata": {},
   "outputs": [],
   "source": [
    "import json\n",
    "file_path = 'single_test.json'\n",
    "\n",
    "with open(file_path, 'r') as file:\n",
    "    data = json.load(file)"
   ]
  },
  {
   "cell_type": "code",
   "execution_count": 33,
   "id": "ac76604f-abdb-4a40-9951-32527b3fbdc6",
   "metadata": {},
   "outputs": [],
   "source": [
    "keys2skip = \"lane lose multi_kills kill_streaks patch radiant_win win\".split()"
   ]
  },
  {
   "cell_type": "code",
   "execution_count": 35,
   "id": "186a0221-fc5d-4496-ab55-a23f16f778de",
   "metadata": {},
   "outputs": [],
   "source": [
    "def flatten_dict(d, parent_key='', sep='.'):\n",
    "    \"\"\"\n",
    "    Flatten a nested dictionary.\n",
    "\n",
    "    Parameters:\n",
    "    - d: The dictionary to flatten.\n",
    "    - parent_key: The prefix to be added to keys.\n",
    "    - sep: The separator to be used between keys.\n",
    "\n",
    "    Returns:\n",
    "    - The flattened dictionary.\n",
    "    \"\"\"\n",
    "    items = []\n",
    "    for k, v in d.items():\n",
    "        if k in keys2skip:\n",
    "            continue\n",
    "        new_key = parent_key + sep + k if parent_key else k\n",
    "        if isinstance(v, dict):\n",
    "            items.extend(flatten_dict(v, new_key, sep=sep).items())\n",
    "        elif isinstance(v, list):\n",
    "            if new_key.split(sep)[-1] in ['gold_t','lh_t','xp_t', 'radiant_gold_adv', 'radiant_xp_adv']:\n",
    "                items.append((new_key,v))\n",
    "            else:\n",
    "                for i, item in enumerate(v):\n",
    "                    if isinstance(item, dict):\n",
    "                        if new_key == 'picks_bans':\n",
    "                            action = 'pick' if item['is_pick'] else 'ban'\n",
    "                            items.append((f\"team{item['team']}{sep}{action}{item['order']}\", item['hero_id']))\n",
    "                        else:\n",
    "                            items.extend(flatten_dict(item, f\"{new_key}{sep}{i}\", sep=sep).items())\n",
    "                    else:\n",
    "                        items.append((f\"{new_key}{sep}{i}\", item))\n",
    "        else:\n",
    "            items.append((new_key, v))\n",
    "    return dict(items)\n",
    "\n",
    "# Example usage:\n",
    "original_dict = {\n",
    "    'bans': [\n",
    "        {'subkey1': 'subvalue1', 'subkey2': 'subvalue2'},\n",
    "        {'subkey1': {'subsubkey1': 'subsubvalue1'}, 'subkey2': 'subvalue2'}\n",
    "    ]\n",
    "}\n",
    "\n",
    "flattened_dict = flatten_dict(data)\n"
   ]
  },
  {
   "cell_type": "code",
   "execution_count": 36,
   "id": "07ef874c-5695-43d4-a8ab-2c03954b5f24",
   "metadata": {},
   "outputs": [],
   "source": [
    "with open('flatten_single_test3.json', 'w') as file:\n",
    "    json.dump(flattened_dict, file)"
   ]
  },
  {
   "cell_type": "code",
   "execution_count": 21,
   "id": "0d46c36e-5397-48bb-b9f4-b8b2694f6b31",
   "metadata": {},
   "outputs": [
    {
     "data": {
      "text/plain": [
       "37"
      ]
     },
     "execution_count": 21,
     "metadata": {},
     "output_type": "execute_result"
    }
   ],
   "source": [
    "len(nik)"
   ]
  },
  {
   "cell_type": "code",
   "execution_count": 23,
   "id": "0ff0ded8-3bc1-40da-b46c-ee44f4405b74",
   "metadata": {},
   "outputs": [
    {
     "data": {
      "text/plain": [
       "939.3888888888889"
      ]
     },
     "execution_count": 23,
     "metadata": {},
     "output_type": "execute_result"
    }
   ],
   "source": [
    "914*37/36"
   ]
  },
  {
   "cell_type": "code",
   "execution_count": null,
   "id": "9c652ca6-88c2-4b20-8aa3-50f18ad59516",
   "metadata": {},
   "outputs": [],
   "source": []
  }
 ],
 "metadata": {
  "kernelspec": {
   "display_name": "Python 3 (ipykernel)",
   "language": "python",
   "name": "python3"
  },
  "language_info": {
   "codemirror_mode": {
    "name": "ipython",
    "version": 3
   },
   "file_extension": ".py",
   "mimetype": "text/x-python",
   "name": "python",
   "nbconvert_exporter": "python",
   "pygments_lexer": "ipython3",
   "version": "3.11.4"
  }
 },
 "nbformat": 4,
 "nbformat_minor": 5
}
