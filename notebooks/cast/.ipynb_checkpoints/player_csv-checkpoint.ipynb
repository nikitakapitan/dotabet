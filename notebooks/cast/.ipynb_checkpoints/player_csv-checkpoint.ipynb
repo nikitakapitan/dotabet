{
 "cells": [
  {
   "cell_type": "code",
   "execution_count": 8,
   "id": "be7525f6-18da-47c4-ae29-ed5bc25d18f5",
   "metadata": {},
   "outputs": [],
   "source": [
    "import dotabet\n",
    "\n",
    "input_files = [r\"D:\\WORKSPACE\\dotabet\\data\" + fp for fp in [r\"\\1pro_games_2.json\", r\"\\1pro_games_1.json\"]]  \n",
    "teams_csv_path = r\"D:\\WORKSPACE\\dotabet\\constants\\teams.csv\"\n",
    "pro_games_json_path = r\"D:\\WORKSPACE\\dotabet\\data\\top_teams\\1pro_games.json\"\n",
    "all_player_csv_path = r\"D:\\WORKSPACE\\dotabet\\data\\top_teams\\all_players.csv\"\n",
    "all_player_clean_csv_path = r\"D:\\WORKSPACE\\dotabet\\data\\top_teams\\all_players_clean.csv\"\n",
    "features_csv_path = r\"D:\\WORKSPACE\\dotabet\\data\\top_teams\\features.csv\""
   ]
  },
  {
   "cell_type": "code",
   "execution_count": 9,
   "id": "d6991ced-a42c-4c1b-b8fe-cd7860a83c70",
   "metadata": {},
   "outputs": [
    {
     "name": "stdout",
     "output_type": "stream",
     "text": [
      "Total of 3004 pro games\n",
      "✅ Total matches 3004 parsed to D:\\WORKSPACE\\dotabet\\data\\top_teams\\all_players.csv\n"
     ]
    }
   ],
   "source": [
    "dotabet.filter.filter_top_teams(input_files, teams_csv_path, pro_games_json_path) # top_teams\\1pro_games.json\"\n",
    "dotabet.csv.make_csv(pro_games_json_path, all_player_csv_path) # ->all_player.csv"
   ]
  },
  {
   "cell_type": "code",
   "execution_count": 10,
   "id": "f4877b05-df97-4d70-b864-5892d9dbdb7a",
   "metadata": {},
   "outputs": [
    {
     "name": "stdout",
     "output_type": "stream",
     "text": [
      "(filter) Removed non-csv teams: 1660 matches doesnt have opponent\n",
      "-------------------------\n",
      "Cleaning: [nan]\n",
      "radiant_name                   > 3    camps_stacked                  > 29   lh_t                           > 29   sen_placed                     > 29   \n",
      "dire_name                      > 12   gold_t                         > 29   neutral_kills                  > 29   teamfight_participation        > 29   \n",
      "radiant_team_id                > 3    hero_damage                    > 21   observer_kills                 > 29   total_xp                       > 2    \n",
      "dire_team_id                   > 12   hero_healing                   > 21   roshan_kills                   > 29   tower_damage                   > 21   \n",
      "actions_per_min                > 29   hero_kills                     > 29   rune_pickups                   > 29   tower_kills                    > 29   \n",
      "ancient_kills                  > 29   lane_efficiency                > 39   sentry_kills                   > 29   xp_t                           > 29   \n",
      "Total matches removed due to nan : 55 (+55 unique)\n",
      "-------------------------\n",
      "Cleaning: [non_monotonic]\n",
      "Total matches removed due to non_monotonic : 0 (+0 unique)\n",
      "-------------------------\n",
      "Cleaning: [too_high_first]\n",
      "gold_t                         > 89   xp_t                           > 99   lh_t                           > 128  \n",
      "Total matches removed due to too_high_first : 133 (+120 unique)\n",
      "-------------------------\n",
      "Cleaning: [more60]\n",
      "more60                         > 165  \n",
      "Total matches removed due to more60 : 165 (+162 unique)\n",
      "-------------------------\n",
      "Cleaning: [less15]\n",
      "less15                         > 17   \n",
      "Total matches removed due to less15 : 17 (+3 unique)\n",
      "-------------------------\n",
      "TOTAL UNIQUE MATCHES TO CLEAN: 340 / 3004 or 11.32%\n",
      "FINAL NUMBER OF MATCHES: 2664 len(df)=19360\n"
     ]
    }
   ],
   "source": [
    "dotabet.cleanup.clean(all_player_csv_path, all_player_clean_csv_path, teams_csv_path) #->all_players_clean.csv\n",
    "dotabet.features.make_features(all_player_clean_csv_path, features_csv_path) #features.csv\n",
    "dotabet.groupby.groupby_team_composition(features_csv_path)"
   ]
  },
  {
   "cell_type": "code",
   "execution_count": 4,
   "id": "8c15bb9b-ee21-4513-ab40-1a27baf62f89",
   "metadata": {},
   "outputs": [
    {
     "name": "stdout",
     "output_type": "stream",
     "text": [
      "all_players_clean.csv (1/1) ✅ features doesnt have any NaN\n",
      "features.csv (1/3).✅No missing data\n",
      "features.csv (2/3)✅For each composition team, all matches has only 5 different accounts\n",
      "features.csv (3/3)✅ has passed 10rows-consistency\n"
     ]
    }
   ],
   "source": [
    "if False: # require API calls\n",
    "    dotabet.consistency.check_team_csv_consistency(teams_csv_path, features_csv_path)\n",
    "dotabet.consistency.check_all_player_csv_consistency(all_player_csv_path)    \n",
    "dotabet.consistency.check_all_player_clean_csv_consistency(all_player_clean_csv_path)\n",
    "dotabet.consistency.check_features_consistency(features_csv_path)"
   ]
  },
  {
   "cell_type": "code",
   "execution_count": 3,
   "id": "18299615-b8ef-4eca-9874-d2c296ae7235",
   "metadata": {},
   "outputs": [
    {
     "name": "stdout",
     "output_type": "stream",
     "text": [
      "🗑️Content from G:\\My Drive\\dotabet was fully deleted\n",
      "File copied successfully to G:\\My Drive\\dotabet\n",
      "File copied successfully to G:\\My Drive\\dotabet\n"
     ]
    }
   ],
   "source": [
    "# Google Drive\n",
    "dotabet.utils.remove_all(r\"G:\\My Drive\\dotabet\")\n",
    "dotabet.utils.copy_to_drive(r\"D:\\WORKSPACE\\dotabet\\data\\top_teams\\features.csv\", r\"G:\\My Drive\\dotabet\\features.csv\")\n",
    "dotabet.utils.copy_to_drive(r\"D:\\WORKSPACE\\dotabet\\constants\\teams.csv\", r\"G:\\My Drive\\dotabet\\teams.csv\")\n",
    "# dotabet.utils.copy_to_drive(r\"D:\\WORKSPACE\\dotabet\\constants\\teams.csv\", r\"G:\\My Drive\\dotabet\\teams.csv\")"
   ]
  }
 ],
 "metadata": {
  "kernelspec": {
   "display_name": "Python 3 (ipykernel)",
   "language": "python",
   "name": "python3"
  },
  "language_info": {
   "codemirror_mode": {
    "name": "ipython",
    "version": 3
   },
   "file_extension": ".py",
   "mimetype": "text/x-python",
   "name": "python",
   "nbconvert_exporter": "python",
   "pygments_lexer": "ipython3",
   "version": "3.11.4"
  }
 },
 "nbformat": 4,
 "nbformat_minor": 5
}
