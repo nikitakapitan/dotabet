{
 "cells": [
  {
   "cell_type": "code",
   "execution_count": 20,
   "id": "0379fbd4-fa97-4806-b50a-e232fe3abfc1",
   "metadata": {},
   "outputs": [],
   "source": [
    "import pandas as pd\n",
    "import ast\n",
    "import numpy as np\n",
    "import dotabet\n",
    "import plotly.express as px\n",
    "from sklearn.manifold import TSNE\n",
    "from sklearn.preprocessing import StandardScaler\n",
    "\n",
    "input_file = r\"D:\\WORKSPACE\\dotabet\\data\\top_teams\\features.csv\"\n",
    "\n",
    "df= pd.read_csv(input_file)\n",
    "\n",
    "# team_ids_to_include = [8255888, 8261500,8599101,9247354,36,8382433,39,2163,2586976,8291895,1838315,7119388,8724984,9255039,8574561,5,9303484]\n",
    "# df = df[df['dire_team_id'].isin(team_ids_to_include) | df['radiant_team_id'].isin(team_ids_to_include)]\n",
    "\n",
    "assert all(df['missing_data'] == 0), \"Missing data present!\"\n",
    "df = df.drop(['missing_data', 'league_name', 'dire_name', 'radiant_name', 'dire_team_id', 'radiant_team_id', 'match_id', 'game_mode',\\\n",
    "        'leagueid', 'start_time', 'hero_id' ], axis=1)"
   ]
  },
  {
   "cell_type": "code",
   "execution_count": 21,
   "id": "82566f33-7c36-4b53-afa7-3269ad88f8d0",
   "metadata": {},
   "outputs": [],
   "source": [
    "string_agg = lambda x: x.mode().iloc[0]\n",
    "\n",
    "num_cols = df.select_dtypes(include=['int', 'float']).columns\n",
    "str_cols = df.select_dtypes(include=['object']).columns\n",
    "\n",
    "agg_dict = {col: 'mean' for col in num_cols}\n",
    "agg_dict.update({col: string_agg for col in str_cols})"
   ]
  },
  {
   "cell_type": "code",
   "execution_count": 22,
   "id": "2a17c36c-46de-4348-8a22-954afb0a505c",
   "metadata": {},
   "outputs": [],
   "source": [
    "dfplayer = df.drop('player_team_id')\n",
    "df_group_by_player = df.groupby('account_id')\n",
    "dfplayer = df_group_by_player.agg(agg_dict)\n",
    "\n",
    "features = dfplayer.drop(['player_name'], axis=1)\n",
    "features = StandardScaler().fit_transform(features)\n",
    "\n",
    "df = dfplayer\n",
    "\n",
    "# We'll use the already standardized features from the PCA example\n",
    "tsne = TSNE(n_components=2, verbose=1, perplexity=40, n_iter=300)\n",
    "tsne_results = tsne.fit_transform(features)\n",
    "\n",
    "tsneDf = pd.DataFrame(data=tsne_results, columns=['TSNE 1', 'TSNE 2'])\n",
    "\n",
    "tsneDf['player_name'] = df['player_name'].values\n",
    "\n",
    "# Using Plotly for an interactive scatter plot\n",
    "fig = px.scatter(tsneDf, x='TSNE 1', y='TSNE 2',\n",
    "                 hover_name='player_name',\n",
    "                 title='TSNE of Player Data with Player Names')\n",
    "\n",
    "# Adjust the figure size\n",
    "fig.update_layout(width=1000, height=800)  # Adjust the size as needed\n",
    "\n",
    "# Hide the player_name from being constantly displayed\n",
    "fig.update_traces(textposition='top center', mode='markers')\n",
    "\n",
    "fig.show()"
   ]
  },
  {
   "cell_type": "code",
   "execution_count": 26,
   "id": "f7a68d38-b515-4c5d-93e5-8ca29aa820d1",
   "metadata": {},
   "outputs": [
    {
     "data": {
      "text/plain": [
       "41673196.0"
      ]
     },
     "execution_count": 26,
     "metadata": {},
     "output_type": "execute_result"
    }
   ],
   "source": [
    "features.iloc[15]['account_id']"
   ]
  },
  {
   "cell_type": "code",
   "execution_count": 24,
   "id": "b6ef6fc7-30b5-4e96-8214-4cc4ebccc44c",
   "metadata": {},
   "outputs": [
    {
     "data": {
      "text/plain": [
       "account_id                 False\n",
       "actions_per_min            False\n",
       "ancient_kills              False\n",
       "assists                    False\n",
       "camps_stacked              False\n",
       "deaths                     False\n",
       "denies                     False\n",
       "gold_per_min               False\n",
       "hero_damage                False\n",
       "hero_healing               False\n",
       "hero_kills                 False\n",
       "kda                        False\n",
       "lane_efficiency            False\n",
       "win                        False\n",
       "last_hits                  False\n",
       "net_worth                  False\n",
       "neutral_kills              False\n",
       "observer_kills             False\n",
       "roshan_kills               False\n",
       "rune_pickups               False\n",
       "sentry_kills               False\n",
       "sen_placed                 False\n",
       "teamfight_participation    False\n",
       "total_gold                 False\n",
       "total_xp                   False\n",
       "tower_damage               False\n",
       "tower_kills                False\n",
       "xp_per_min                 False\n",
       "player_team_id              True\n",
       "gpm10                      False\n",
       "xpm10                      False\n",
       "lhpm10                     False\n",
       "gpm15                      False\n",
       "xpm15                      False\n",
       "lhpm15                     False\n",
       "gpm20                      False\n",
       "xpm20                      False\n",
       "lhpm20                     False\n",
       "gpm25                      False\n",
       "xpm25                      False\n",
       "lhpm25                     False\n",
       "gpm30                      False\n",
       "xpm30                      False\n",
       "lhpm30                     False\n",
       "gpm40                      False\n",
       "xpm40                      False\n",
       "lhpm40                     False\n",
       "dtype: bool"
      ]
     },
     "execution_count": 24,
     "metadata": {},
     "output_type": "execute_result"
    }
   ],
   "source": [
    "import numpy as np\n",
    "\n",
    "np.isnan(features).any()"
   ]
  },
  {
   "cell_type": "code",
   "execution_count": 25,
   "id": "c50913fb-cecc-4a81-b53a-b961e9b86b15",
   "metadata": {},
   "outputs": [
    {
     "data": {
      "text/plain": [
       "(array([ 15,  19,  30, 138, 141, 216, 219, 237, 287, 307, 313, 356, 358,\n",
       "        394, 407, 437, 441, 457, 466, 474], dtype=int64),\n",
       " array([28, 28, 28, 28, 28, 28, 28, 28, 28, 28, 28, 28, 28, 28, 28, 28, 28,\n",
       "        28, 28, 28], dtype=int64))"
      ]
     },
     "execution_count": 25,
     "metadata": {},
     "output_type": "execute_result"
    }
   ],
   "source": [
    "np.where(np.isnan(features))"
   ]
  },
  {
   "cell_type": "code",
   "execution_count": null,
   "id": "f2f46f4f-0307-49e3-8c86-3adca1018424",
   "metadata": {},
   "outputs": [],
   "source": []
  }
 ],
 "metadata": {
  "kernelspec": {
   "display_name": "Python 3 (ipykernel)",
   "language": "python",
   "name": "python3"
  },
  "language_info": {
   "codemirror_mode": {
    "name": "ipython",
    "version": 3
   },
   "file_extension": ".py",
   "mimetype": "text/x-python",
   "name": "python",
   "nbconvert_exporter": "python",
   "pygments_lexer": "ipython3",
   "version": "3.11.4"
  }
 },
 "nbformat": 4,
 "nbformat_minor": 5
}
