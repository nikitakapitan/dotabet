{
 "cells": [
  {
   "cell_type": "code",
   "execution_count": null,
   "id": "1ce117da-5c31-463c-8419-afd39625d7dc",
   "metadata": {},
   "outputs": [],
   "source": [
    "odds_path = r\"G:\\My Drive\\dotabet\\odds\\the_odds.csv\"\n",
    "matches_path = r\"D:\\WORKSPACE\\dotabet\\data\\simple_matches.csv\"\n",
    "output_file = r\"G:\\My Drive\\dotabet\\odds\\the_odds_updated.csv\""
   ]
  },
  {
   "cell_type": "code",
   "execution_count": null,
   "id": "bd3b293d-d62f-448b-94e7-859c2ba48ca2",
   "metadata": {},
   "outputs": [],
   "source": [
    "import pandas as pd\n",
    "from datetime import datetime\n",
    "\n",
    "# Load the datasets\n",
    "odds_df = pd.read_csv(odds_path)\n",
    "matches_df = pd.read_csv(matches_path)\n",
    "\n",
    "# Convert 'Match_Date' and 'start_time' to datetime.date for easier comparison\n",
    "odds_df['Match_Date'] = pd.to_datetime(odds_df['Match_Date']).dt.date\n",
    "matches_df['start_time'] = pd.to_datetime(matches_df['start_time'], format='%d-%m-%Y').dt.date\n",
    "\n",
    "# Ensure team names are treated case-insensitively and as trimmed strings\n",
    "odds_df['Team_1'] = odds_df['Team_1'].str.strip().str.lower()\n",
    "odds_df['Team_2'] = odds_df['Team_2'].str.strip().str.lower()\n",
    "matches_df['radiant_name'] = matches_df['radiant_name'].str.strip().str.lower()\n",
    "matches_df['dire_name'] = matches_df['dire_name'].str.strip().str.lower()\n",
    "\n",
    "# Create helper columns to facilitate easy comparison\n",
    "odds_df['Teams'] = odds_df.apply(lambda x: frozenset([x['Team_1'], x['Team_2']]), axis=1)\n",
    "matches_df['Teams'] = matches_df.apply(lambda x: frozenset([x['radiant_name'], x['dire_name']]), axis=1)\n",
    "\n",
    "# Merge the DataFrames based on the 'Teams' and 'Match_Date'/'start_time'\n",
    "combined_df = pd.merge(\n",
    "    odds_df,\n",
    "    matches_df,\n",
    "    left_on=['Teams', 'Match_Date'],\n",
    "    right_on=['Teams', 'start_time'],\n",
    "    how='left'\n",
    ")\n",
    "\n",
    "# Select the columns to keep in the final output\n",
    "final_columns = [\n",
    "    'Date', 'League_Name', 'Team_1', 'Odd_1', 'Team_2', 'Odd_2', 'Match_Date',\n",
    "    'match_id', 'duration', 'radiant_score', 'dire_score', 'radiant_win'\n",
    "]\n",
    "final_df = combined_df[final_columns]\n",
    "\n",
    "# Fill NaN match details with appropriate values if no match is found\n",
    "final_df[['match_id', 'duration', 'radiant_score', 'dire_score', 'radiant_win']] = final_df[['match_id', 'duration', 'radiant_score', 'dire_score', 'radiant_win']].fillna('No Match Found')\n",
    "\n",
    "# Save the updated DataFrame to a new CSV file\n",
    "final_df.to_csv(output_file, index=False)\n"
   ]
  }
 ],
 "metadata": {
  "kernelspec": {
   "display_name": "Python 3 (ipykernel)",
   "language": "python",
   "name": "python3"
  },
  "language_info": {
   "codemirror_mode": {
    "name": "ipython",
    "version": 3
   },
   "file_extension": ".py",
   "mimetype": "text/x-python",
   "name": "python",
   "nbconvert_exporter": "python",
   "pygments_lexer": "ipython3",
   "version": "3.11.4"
  }
 },
 "nbformat": 4,
 "nbformat_minor": 5
}
