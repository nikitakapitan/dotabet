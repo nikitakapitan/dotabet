{
 "cells": [
  {
   "cell_type": "code",
   "execution_count": 1,
   "id": "ddcb86ad-14c1-4889-ab4e-9e6239f9a1aa",
   "metadata": {},
   "outputs": [],
   "source": [
    "import datetime\n",
    "datetime.datetime.utcfromtimestamp(1713120612)"
   ]
  },
  {
   "cell_type": "code",
   "execution_count": 3,
   "id": "9ab136f4-2773-4f0a-bec4-6122ad6e141b",
   "metadata": {},
   "outputs": [],
   "source": [
    "# manually remove last K dicts \n",
    "K = 6\n",
    "\n",
    "with open('../../data/1pro_games.json', 'r', encoding='utf-8') as file:\n",
    "        data = file.read()\n",
    "        data = '[' + data[:-1] + ']'\n",
    "        data = json.loads(data)\n",
    "\n",
    "with open('../../data/1pro_games_AAA.json', 'w') as file:\n",
    "    json.dump(data[:-K], file)"
   ]
  },
  {
   "cell_type": "code",
   "execution_count": 4,
   "id": "b7128e9b-b8c4-4fe2-8683-66d6bce14057",
   "metadata": {},
   "outputs": [],
   "source": [
    "# CAST [{},{}] to {},{},\n",
    "with open('../../data/1pro_games_new.json', 'r') as file:\n",
    "    data = file.read()\n",
    "\n",
    "data = data[1:]\n",
    "data = data[:-1] + ','\n",
    "\n",
    "with open('../../data/1pro_games_new.json', 'w') as file:\n",
    "    file.write(data)\n"
   ]
  },
  {
   "cell_type": "code",
   "execution_count": null,
   "id": "a77c356e-8c19-4b40-8a1c-905dcb12d2c3",
   "metadata": {},
   "outputs": [],
   "source": [
    "# MERGE (without very last match, to keep tmp file non-empty)\n",
    "import shutil\n",
    "import json\n",
    "import os\n",
    "\n",
    "file_to_merge = r\"D:\\WORKSPACE\\dotabet\\data\\1pro_games_2.json\"\n",
    "tmp_file = r\"D:\\WORKSPACE\\dotabet\\data\\1pro_games_tmp.json\"\n",
    "\n",
    "directory = os.path.dirname(file_to_merge)\n",
    "backup_file = os.path.join(directory, 'backup_' + os.path.basename(file_to_merge))\n",
    "shutil.copyfile(file_to_merge, backup_file)\n",
    "\n",
    "with open(file_to_merge, 'r', encoding='utf-8') as file:\n",
    "        data1 = json.load(file)\n",
    "    \n",
    "mids1 = [m['match_id'] for m in data1]\n",
    "\n",
    "with open(tmp_file, 'r', encoding='utf-8') as file:\n",
    "        data2 = file.read()\n",
    "        data2 = '[' + data2[:-1] + ']'\n",
    "        data2 = json.loads(data2)\n",
    "\n",
    "for match2 in data2:\n",
    "    if match2['match_id'] in mids1:\n",
    "        print(f\"❌ Match {match2['match_id']} from {tmp_file} is already present in {file_to_merge}\")\n",
    "    \n",
    "with open(file_to_merge, 'w') as file:\n",
    "    json.dump(data1+data2[:-1], file, separators=(',', ':'))\n",
    "\n",
    "json_string = json.dumps(data2[-1], ensure_ascii=False, separators=(',', ': '), default=lambda x: None if x is None else str(x).lower())\n",
    "with open(tmp_file, 'w') as file:\n",
    "    file.write(json_string+',')"
   ]
  },
  {
   "cell_type": "code",
   "execution_count": 4,
   "id": "7d7b441f-2bc8-4868-a877-51e09dce4050",
   "metadata": {},
   "outputs": [
    {
     "data": {
      "text/plain": [
       "(4413, 4413)"
      ]
     },
     "execution_count": 4,
     "metadata": {},
     "output_type": "execute_result"
    }
   ],
   "source": [
    "# CHECK UNIQUE\n",
    "file_path = r\"D:\\WORKSPACE\\dotabet\\data\\1pro_games_2.json\"\n",
    "\n",
    "with open(file_path, 'r', encoding='utf-8') as file:\n",
    "        data = json.load(file)\n",
    "    \n",
    "mids = [m['match_id'] for m in data]\n",
    "len(mids), len(set(mids))"
   ]
  },
  {
   "cell_type": "code",
   "execution_count": null,
   "id": "c047866f-7d7d-4627-97fe-574b9bd23627",
   "metadata": {},
   "outputs": [],
   "source": [
    "(4533, 4413)"
   ]
  },
  {
   "cell_type": "code",
   "execution_count": null,
   "id": "85b69686-ccfe-48f3-a7aa-4688c672e75b",
   "metadata": {},
   "outputs": [],
   "source": [
    "# FILTER (REMOVE DUPLICATS)\n",
    "import json\n",
    "file_to_modify = r\"D:\\WORKSPACE\\dotabet\\data\\1pro_games_2.json\"\n",
    "\n",
    "with open(file_to_modify, 'r', encoding='utf-8') as file:\n",
    "        data = json.load(file)\n",
    "\n",
    "mids = []\n",
    "modified_data = []\n",
    "for d in data:\n",
    "    if d.get('match_id') not in mids:\n",
    "        modified_data.append(d)\n",
    "        mids.append(d.get('match_id'))\n",
    "    else:\n",
    "        print(f\"Find duplicat {d.get('match_id')}\")\n",
    "    \n",
    "with open(file_to_modify, 'w') as file:\n",
    "    json.dump(modified_data, file, separators=(',', ':'))"
   ]
  },
  {
   "cell_type": "code",
   "execution_count": null,
   "id": "75bbf6d4-08ef-4e80-a7af-886f12eb1501",
   "metadata": {},
   "outputs": [],
   "source": []
  }
 ],
 "metadata": {
  "kernelspec": {
   "display_name": "Python 3 (ipykernel)",
   "language": "python",
   "name": "python3"
  },
  "language_info": {
   "codemirror_mode": {
    "name": "ipython",
    "version": 3
   },
   "file_extension": ".py",
   "mimetype": "text/x-python",
   "name": "python",
   "nbconvert_exporter": "python",
   "pygments_lexer": "ipython3",
   "version": "3.11.4"
  }
 },
 "nbformat": 4,
 "nbformat_minor": 5
}
