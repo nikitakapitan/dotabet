{
 "cells": [
  {
   "cell_type": "code",
   "execution_count": 2,
   "id": "1ce117da-5c31-463c-8419-afd39625d7dc",
   "metadata": {},
   "outputs": [],
   "source": [
    "odds_path = r\"G:\\My Drive\\dotabet\\odds\\the_odds.csv\"\n",
    "matches_path = r\"D:\\WORKSPACE\\dotabet\\data\\simple_matches.csv\"\n",
    "output_file = r\"G:\\My Drive\\dotabet\\odds\\the_odds_updated.csv\""
   ]
  },
  {
   "cell_type": "code",
   "execution_count": 4,
   "id": "f9db160e-2ca5-44d6-b1e6-6d060743ba96",
   "metadata": {},
   "outputs": [],
   "source": [
    "import pandas as pd\n",
    "from datetime import datetime\n",
    "\n",
    "# Load the datasets\n",
    "odds_df = pd.read_csv(odds_path)\n",
    "matches_df = pd.read_csv(matches_path)\n",
    "\n",
    "# Convert 'Match_Date' and 'start_time' to datetime.date for easier comparison\n",
    "odds_df['Match_Date'] = pd.to_datetime(odds_df['Match_Date']).dt.date\n",
    "matches_df['start_time'] = pd.to_datetime(matches_df['start_time'], format='%d-%m-%Y').dt.date\n",
    "\n",
    "# Normalize team names\n",
    "odds_df['Team_1'] = odds_df['Team_1'].str.strip().str.lower()\n",
    "odds_df['Team_2'] = odds_df['Team_2'].str.strip().str.lower()\n",
    "matches_df['radiant_name'] = matches_df['radiant_name'].str.strip().str.lower()\n",
    "matches_df['dire_name'] = matches_df['dire_name'].str.strip().str.lower()\n",
    "\n",
    "# Create sets of teams for comparison\n",
    "odds_df['Teams'] = odds_df.apply(lambda x: frozenset([x['Team_1'], x['Team_2']]), axis=1)\n",
    "matches_df['Teams'] = matches_df.apply(lambda x: frozenset([x['radiant_name'], x['dire_name']]), axis=1)\n",
    "\n",
    "# Determine the winning and losing teams\n",
    "matches_df['win_team_name'] = matches_df.apply(lambda x: x['radiant_name'] if x['radiant_win'] == 'TRUE' else x['dire_name'], axis=1)\n",
    "matches_df['win_team_id'] = matches_df.apply(lambda x: x['radiant_team_id'] if x['radiant_win'] == 'TRUE' else x['dire_team_id'], axis=1)\n",
    "matches_df['lost_team_id'] = matches_df.apply(lambda x: x['radiant_team_id'] if x['radiant_win'] == 'FALSE' else x['dire_team_id'], axis=1)\n",
    "\n",
    "# Merge the DataFrames\n",
    "combined_df = pd.merge(\n",
    "    odds_df,\n",
    "    matches_df,\n",
    "    left_on=['Teams', 'Match_Date'],\n",
    "    right_on=['Teams', 'start_time'],\n",
    "    how='left'\n",
    ")\n",
    "\n",
    "# Select and rename columns to include in the final output\n",
    "final_columns = [\n",
    "    'Date', 'League_Name', 'Team_1', 'Odd_1', 'Team_2', 'Odd_2', 'Match_Date',\n",
    "    'match_id', 'duration', 'radiant_score', 'dire_score', 'radiant_win',\n",
    "    'win_team_name', 'win_team_id', 'lost_team_id'\n",
    "]\n",
    "final_df = combined_df[final_columns]\n",
    "\n",
    "# Fill NaN for matches that did not find any corresponding records\n",
    "final_df.update(final_df[['match_id', 'duration', 'radiant_score', 'dire_score', 'radiant_win', 'win_team_name', 'win_team_id', 'lost_team_id']].fillna('No Match Found'))\n",
    "\n",
    "# Save the updated DataFrame to a new CSV file\n",
    "final_df.to_csv(output_file, index=False)\n"
   ]
  },
  {
   "cell_type": "code",
   "execution_count": null,
   "id": "29232df0-dc72-441b-a28c-12cc4cf62a91",
   "metadata": {},
   "outputs": [],
   "source": []
  }
 ],
 "metadata": {
  "kernelspec": {
   "display_name": "Python 3 (ipykernel)",
   "language": "python",
   "name": "python3"
  },
  "language_info": {
   "codemirror_mode": {
    "name": "ipython",
    "version": 3
   },
   "file_extension": ".py",
   "mimetype": "text/x-python",
   "name": "python",
   "nbconvert_exporter": "python",
   "pygments_lexer": "ipython3",
   "version": "3.11.4"
  }
 },
 "nbformat": 4,
 "nbformat_minor": 5
}
