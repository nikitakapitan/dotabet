{
 "cells": [
  {
   "cell_type": "code",
   "execution_count": 1,
   "id": "1ce117da-5c31-463c-8419-afd39625d7dc",
   "metadata": {},
   "outputs": [],
   "source": [
    "pinnacle_path = r\"D:\\WORKSPACE\\dotabet\\data\\odds\\pinnacle.csv\"\n",
    "odds_path = r\"D:\\WORKSPACE\\dotabet\\data\\odds\\odds.csv\""
   ]
  },
  {
   "cell_type": "code",
   "execution_count": 2,
   "id": "80ae220a-c665-4e57-8230-d8c0d31b6e87",
   "metadata": {},
   "outputs": [],
   "source": [
    "import dotabet\n",
    "import requests\n",
    "import csv\n",
    "import pandas as pd\n",
    "from datetime import datetime\n",
    "\n",
    "def format_timestamp(ts):\n",
    "    return datetime.utcfromtimestamp(ts).strftime('%Y-%m-%d')\n",
    "\n",
    "def determine_winner(row):\n",
    "    if row['radiant_win']:\n",
    "        return row['radiant_name']\n",
    "    else:\n",
    "        return row['dire_name']\n",
    "\n",
    "def get_team_id(row, team_name_key):\n",
    "    if row[team_name_key] == row['radiant_name']:\n",
    "        return row['radiant_team_id']\n",
    "    elif row[team_name_key] == row['dire_name']:\n",
    "        return row['dire_team_id']\n",
    "    return None"
   ]
  },
  {
   "cell_type": "code",
   "execution_count": 3,
   "id": "4f6056fb-8eb1-43d8-8417-3a2bd79c9fb7",
   "metadata": {},
   "outputs": [],
   "source": [
    "df = pd.read_csv(pinnacle_path)\n",
    "df['Team_1'] = df['Team_1'].apply(dotabet.utils.format_team_name)\n",
    "df['Team_2'] = df['Team_2'].apply(dotabet.utils.format_team_name)\n",
    "df['Teams'] = df.apply(lambda x: frozenset([x['Team_1'], x['Team_2']]), axis=1)\n",
    "df.set_index(['Match_Date', 'Teams'], inplace=True)"
   ]
  },
  {
   "cell_type": "code",
   "execution_count": 4,
   "id": "39295485-21a6-4fb8-b5a1-6f17df3f613a",
   "metadata": {},
   "outputs": [],
   "source": [
    "endpoint_matches = \"https://api.opendota.com/api/proMatches\"\n",
    "completed_dfs = []\n",
    "for _ in range(5):\n",
    "    fetched_matches = dotabet.fetch.fetch_data(endpoint_matches)\n",
    "\n",
    "    api_df = pd.DataFrame(fetched_matches)\n",
    "    api_df['Match_Date'] = api_df['start_time'].apply(format_timestamp)\n",
    "    api_df['radiant_name'] = api_df['radiant_name'].apply(dotabet.utils.format_team_name)\n",
    "    api_df['dire_name'] = api_df['dire_name'].apply(dotabet.utils.format_team_name)\n",
    "    api_df['Teams'] = api_df.apply(lambda x: frozenset([x['radiant_name'], x['dire_name']]), axis=1)\n",
    "    api_df = api_df.drop_duplicates(subset=['Match_Date', 'Teams'], keep='first')\n",
    "    api_df.set_index(['Match_Date', 'Teams'], inplace=True)\n",
    "\n",
    "    merged_df = df.merge(api_df, how='inner', left_index=True, right_index=True)\n",
    "\n",
    "    df = df.drop(merged_df.index)\n",
    "\n",
    "    completed_dfs.append(merged_df)\n",
    "    endpoint_matches = f\"https://api.opendota.com/api/proMatches?less_than_match_id={fetched_matches[-1]['match_id']}\"\n",
    "\n",
    "final = pd.concat(completed_dfs)\n",
    "final.reset_index(inplace=True)\n",
    "final['team1_team_id'] = final.apply(lambda row: get_team_id(row, 'Team_1'), axis=1)\n",
    "final['team2_team_id'] = final.apply(lambda row: get_team_id(row, 'Team_2'), axis=1)\n",
    "final['winner'] = final.apply(determine_winner, axis=1)\n",
    "final = final.drop(['Teams', 'League_Name', 'duration', 'start_time', 'radiant_team_id', 'radiant_name', 'version',\\\n",
    "                   'dire_team_id', 'dire_name', 'series_id', 'series_type', 'radiant_score', 'dire_score', 'radiant_win'],axis=1)\n",
    "odds = pd.read_csv(odds_path)\n",
    "output = pd.concat([final, odds])\n",
    "output.to_csv(odds_path, index=False)\n",
    "\n",
    "\n",
    "df.reset_index(inplace=True)\n",
    "df = df.drop('Teams',axis=1)\n",
    "df.to_csv(pinnacle_path, index=False)"
   ]
  },
  {
   "cell_type": "code",
   "execution_count": 30,
   "id": "3e5c41e7-8d7f-4969-b129-235a10a7138d",
   "metadata": {},
   "outputs": [
    {
     "data": {
      "text/plain": [
       "['a', 'b', 'c']"
      ]
     },
     "execution_count": 30,
     "metadata": {},
     "output_type": "execute_result"
    }
   ],
   "source": [
    "nik = ['a', 'b'] + ['c']\n",
    "nik"
   ]
  },
  {
   "cell_type": "code",
   "execution_count": 84,
   "id": "b96603ce-5150-4dc7-a240-4816460d9b20",
   "metadata": {},
   "outputs": [],
   "source": [
    "import json\n",
    "df = final\n",
    "\n",
    "def elo_probability(rating1, rating2):\n",
    "    if rating1 and rating1:\n",
    "        return 1 / (1 + 10 ** ((rating2 - rating1) / 400))\n",
    "\n",
    "with open(r\"D:\\WORKSPACE\\dotabet\\data\\top_teams\\PGL_Wallachia_2024_Season_16669\\api_snapshots\\api_leagues_16669_teams_group.json\", 'r') as f:\n",
    "    team_info = json.load(f)\n",
    "\n",
    "team_ratings = {team['team_id']: team['rating'] for team in team_info}\n",
    "\n",
    "df['team1_rating'] = df['team1_team_id'].map(team_ratings)\n",
    "df['team2_rating'] = df['team2_team_id'].map(team_ratings)\n",
    "\n",
    "df['team1_proba'] = df.apply(lambda row: elo_probability(row['team1_rating'], row['team2_rating']), axis=1)\n",
    "df['team2_proba'] = df.apply(lambda row: elo_probability(row['team2_rating'], row['team1_rating']), axis=1)\n",
    "\n",
    "def compute_coefficient(probability):\n",
    "    if probability is None or probability == 0:\n",
    "        return None  # Or a large value like float('inf') if you prefer\n",
    "    else:\n",
    "        return 1 / probability\n",
    "\n",
    "df['team1_coef'] = df['team1_proba'].apply(compute_coefficient)\n",
    "df['team2_coef'] = df['team2_proba'].apply(compute_coefficient)"
   ]
  },
  {
   "cell_type": "code",
   "execution_count": 85,
   "id": "649873ae-9c42-431f-b3d1-828f56336bcd",
   "metadata": {},
   "outputs": [],
   "source": [
    "df.to_csv(r\"D:\\WORKSPACE\\dotabet\\data\\odds\\nikita.csv\")"
   ]
  },
  {
   "cell_type": "code",
   "execution_count": null,
   "id": "c373541a-10db-4c25-a90f-66f11d388a91",
   "metadata": {},
   "outputs": [],
   "source": []
  }
 ],
 "metadata": {
  "kernelspec": {
   "display_name": "Python 3 (ipykernel)",
   "language": "python",
   "name": "python3"
  },
  "language_info": {
   "codemirror_mode": {
    "name": "ipython",
    "version": 3
   },
   "file_extension": ".py",
   "mimetype": "text/x-python",
   "name": "python",
   "nbconvert_exporter": "python",
   "pygments_lexer": "ipython3",
   "version": "3.11.4"
  }
 },
 "nbformat": 4,
 "nbformat_minor": 5
}
