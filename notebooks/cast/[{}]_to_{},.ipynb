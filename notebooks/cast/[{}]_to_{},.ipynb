{
 "cells": [
  {
   "cell_type": "code",
   "execution_count": 44,
   "id": "ddcb86ad-14c1-4889-ab4e-9e6239f9a1aa",
   "metadata": {},
   "outputs": [
    {
     "data": {
      "text/plain": [
       "datetime.datetime(2023, 11, 14, 22, 13, 20)"
      ]
     },
     "execution_count": 44,
     "metadata": {},
     "output_type": "execute_result"
    }
   ],
   "source": [
    "import datetime\n",
    "datetime.datetime.utcfromtimestamp(1700000000)"
   ]
  },
  {
   "cell_type": "code",
   "execution_count": 3,
   "id": "9ab136f4-2773-4f0a-bec4-6122ad6e141b",
   "metadata": {},
   "outputs": [],
   "source": [
    "# manually remove last K dicts \n",
    "K = 6\n",
    "\n",
    "with open(r\"D:\\WORKSPACE\\dotabet\\data\\1pro_games_tmp.json\", 'r', encoding='utf-8') as file:\n",
    "        data = file.read()\n",
    "        data = '[' + data[:-1] + ']'\n",
    "        data = json.loads(data)\n",
    "\n",
    "with open('../../data/1pro_games_AAA.json', 'w') as file:\n",
    "    json.dump(data[:-K], file)"
   ]
  },
  {
   "cell_type": "code",
   "execution_count": 4,
   "id": "b7128e9b-b8c4-4fe2-8683-66d6bce14057",
   "metadata": {},
   "outputs": [],
   "source": [
    "# CAST [{},{}] to {},{},\n",
    "with open(r\"D:\\WORKSPACE\\dotabet\\data\\1pro_games_tmp.json\", 'r') as file:\n",
    "    data = file.read()\n",
    "\n",
    "data = data[1:]\n",
    "data = data[:-1] + ','\n",
    "\n",
    "with open('../../data/1pro_games_new.json', 'w') as file:\n",
    "    file.write(data)\n"
   ]
  },
  {
   "cell_type": "code",
   "execution_count": null,
   "id": "f6a415a4-0525-42c0-ac7a-28fcf09bbf34",
   "metadata": {},
   "outputs": [],
   "source": [
    "# MERGE (without very last match, to keep tmp file non-empty)\n",
    "import dotabet\n",
    "file_to_merge = r\"D:\\WORKSPACE\\dotabet\\data\\1pro_games_2.json\"\n",
    "tmp_file = r\"D:\\WORKSPACE\\dotabet\\data\\1pro_games_tmp.json\"\n",
    "\n",
    "dotabet.utils.merge_fetched_data(tmp_file, file_to_merge)"
   ]
  },
  {
   "cell_type": "code",
   "execution_count": 1,
   "id": "7d7b441f-2bc8-4868-a877-51e09dce4050",
   "metadata": {},
   "outputs": [
    {
     "name": "stdout",
     "output_type": "stream",
     "text": [
      "✅\n"
     ]
    }
   ],
   "source": [
    "# CHECK UNIQUE\n",
    "import json\n",
    "file_path = r\"D:\\WORKSPACE\\dotabet\\data\\1pro_games_2.json\"\n",
    "\n",
    "with open(file_path, 'r', encoding='utf-8') as file:\n",
    "        if 'tmp' in file_path:\n",
    "            data = file.read()\n",
    "            data = '[' + data[:-1] + ']'\n",
    "            data = json.loads(data)\n",
    "        else:\n",
    "            data = json.load(file)\n",
    "    \n",
    "mids = [m['match_id'] for m in data]\n",
    "len(mids), len(set(mids)) \n",
    "if len(mids) == len(set(mids)):\n",
    "    print(\"✅\")\n",
    "else:\n",
    "    print(f\"❌ {len(mids)=} {len(set(mids))=}\")"
   ]
  },
  {
   "cell_type": "code",
   "execution_count": 6,
   "id": "c047866f-7d7d-4627-97fe-574b9bd23627",
   "metadata": {},
   "outputs": [
    {
     "name": "stdout",
     "output_type": "stream",
     "text": [
      "overlap: 0\n"
     ]
    }
   ],
   "source": [
    "# CHECK OVERLAP\n",
    "import json\n",
    "file_path1 = r\"D:\\WORKSPACE\\dotabet\\data\\1pro_games_2.json\"\n",
    "file_path2 = r\"D:\\WORKSPACE\\dotabet\\data\\1pro_games_tmp.json\"\n",
    "\n",
    "with open(file_path1, 'r', encoding='utf-8') as file:\n",
    "        data1 = json.load(file)\n",
    "\n",
    "with open(file_path2, 'r', encoding='utf-8') as file:\n",
    "    if 'tmp' in file_path2:\n",
    "        data2 = file.read()\n",
    "        data2 = '[' + data2[:-1] + ']'\n",
    "        data2 = json.loads(data2)\n",
    "    else:\n",
    "        data2 = json.load(file)\n",
    "    \n",
    "mids1 = [m['match_id'] for m in data1]\n",
    "mids2 = [m['match_id'] for m in data2]\n",
    "print(f\"overlap: {len(set(mids1) & set(mids2))}\")"
   ]
  },
  {
   "cell_type": "code",
   "execution_count": null,
   "id": "85b69686-ccfe-48f3-a7aa-4688c672e75b",
   "metadata": {},
   "outputs": [],
   "source": [
    "# FILTER (REMOVE DUPLICATS)\n",
    "import json\n",
    "file_to_modify = r\"D:\\WORKSPACE\\dotabet\\data\\1pro_games_2.json\"\n",
    "\n",
    "with open(file_to_modify, 'r', encoding='utf-8') as file:\n",
    "        data = json.load(file)\n",
    "\n",
    "mids = []\n",
    "modified_data = []\n",
    "c=0\n",
    "for d in data:\n",
    "    if d.get('match_id') not in mids:\n",
    "        modified_data.append(d)\n",
    "        mids.append(d.get('match_id'))\n",
    "    else:\n",
    "        c+=1\n",
    "print(f\"Found {c} duplicats\")\n",
    "    \n",
    "with open(file_to_modify, 'w') as file:\n",
    "    json.dump(modified_data, file, separators=(',', ':'))"
   ]
  },
  {
   "cell_type": "code",
   "execution_count": 1,
   "id": "362a603e-9d76-47e1-8f1b-cda34054911a",
   "metadata": {},
   "outputs": [],
   "source": [
    "from dotabet.script.rating import add_rating\n",
    "add_rating()"
   ]
  },
  {
   "cell_type": "code",
   "execution_count": 3,
   "id": "8f0abb1e-1904-424d-9472-4468f08bb9a5",
   "metadata": {},
   "outputs": [],
   "source": [
    "import pandas as pd\n",
    "import dotabet\n",
    "\n",
    "def get_team_rating(name):\n",
    "    team_id = dotabet.utils.get_team_id(name)\n",
    "    if team_id:\n",
    "        endpoint = f\"https://www.opendota.com/api/teams/{team_id}\"\n",
    "        rating = dotabet.fetch.fetch_data(endpoint)['rating']\n",
    "        return rating\n",
    "\n",
    "\n",
    "pinnacle_path = r\"D:\\WORKSPACE\\dotabet\\data\\odds\\pinnacle.csv\"\n",
    "df = pd.read_csv(pinnacle_path)\n",
    "    \n",
    "df['rating1'] = df['Team_1'].apply(get_team_rating)\n",
    "df['rating2'] = df['Team_2'].apply(get_team_rating)\n",
    "df.to_csv(pinnacle_path)"
   ]
  },
  {
   "cell_type": "code",
   "execution_count": 1,
   "id": "479fe605-5014-4d42-afb0-83b0192d0a46",
   "metadata": {},
   "outputs": [
    {
     "ename": "NameError",
     "evalue": "name 'tg_msg' is not defined",
     "output_type": "error",
     "traceback": [
      "\u001b[1;31m---------------------------------------------------------------------------\u001b[0m",
      "\u001b[1;31mNameError\u001b[0m                                 Traceback (most recent call last)",
      "Cell \u001b[1;32mIn[1], line 12\u001b[0m\n\u001b[0;32m     10\u001b[0m \u001b[38;5;66;03m# tg_msg = scrape_dota2_odds()\u001b[39;00m\n\u001b[0;32m     11\u001b[0m add_rating()     \u001b[38;5;66;03m# update pinnacle.csv with team ratings\u001b[39;00m\n\u001b[1;32m---> 12\u001b[0m send_telegram_message(token, chat_id, \u001b[38;5;124m'\u001b[39m\u001b[38;5;124m'\u001b[39m\u001b[38;5;241m.\u001b[39mjoin(\u001b[43mtg_msg\u001b[49m))\n\u001b[0;32m     14\u001b[0m token_rec \u001b[38;5;241m=\u001b[39m \u001b[38;5;124m\"\u001b[39m\u001b[38;5;124m7109559904:AAFIoKm_jJUnzjtEUQJ5TN8ukd5Pc4Go0A0\u001b[39m\u001b[38;5;124m\"\u001b[39m\n\u001b[0;32m     15\u001b[0m chat_id_rec \u001b[38;5;241m=\u001b[39m \u001b[38;5;124m\"\u001b[39m\u001b[38;5;124m333091706\u001b[39m\u001b[38;5;124m\"\u001b[39m\n",
      "\u001b[1;31mNameError\u001b[0m: name 'tg_msg' is not defined"
     ]
    }
   ],
   "source": [
    "from dotabet.ui import send_telegram_message\n",
    "from dotabet.script.pinnacle import scrape_dota2_odds   \n",
    "from dotabet.script.rating import add_rating   \n",
    "from dotabet.script.recommend import recommend_elo    \n",
    "\n",
    "if __name__ == \"__main__\":\n",
    "    token = \"6056809505:AAEci0XQUkG86E0PV1P0ujabDfYqkyUHtso\"\n",
    "    chat_id = \"333091706\"\n",
    "    \n",
    "    # tg_msg = scrape_dota2_odds()\n",
    "    add_rating()     # update pinnacle.csv with team ratings\n",
    "    send_telegram_message(token, chat_id, ''.join(tg_msg))\n",
    "    \n",
    "    token_rec = \"7109559904:AAFIoKm_jJUnzjtEUQJ5TN8ukd5Pc4Go0A0\"\n",
    "    chat_id_rec = \"333091706\"\n",
    "    tg_msg_rec = recommend_elo()  # compute elo coef and make recommendation\n",
    "    send_telegram_message(token_rec, chat_id_rec, ''.join(tg_msg_rec))\n",
    "    \n"
   ]
  },
  {
   "cell_type": "code",
   "execution_count": 1,
   "id": "1d6aea5a-74f4-4d93-ad90-31b9ede378d2",
   "metadata": {},
   "outputs": [
    {
     "data": {
      "text/plain": [
       "['Bet on psg quest @ 2.490(>2.176) vs gaimin gladiators Odds diff: 0.314',\n",
       " 'Bet on psg quest @ 1.709(>1.544) vs heroic Odds diff: 0.165',\n",
       " 'Bet on aurora @ 2.430(>2.295) vs liquid Odds diff: 0.135',\n",
       " 'Bet on xtreme @ 1.478(>1.343) vs gaimin gladiators Odds diff: 0.135',\n",
       " 'Bet on falcons @ 1.350(>1.235) vs azure Odds diff: 0.115',\n",
       " 'Bet on liquid @ 1.400(>1.354) vs heroic Odds diff: 0.046',\n",
       " 'Bet on betboom @ 1.571(>1.539) vs azure Odds diff: 0.032',\n",
       " 'Bet on shopify rebellion @ 1.662(>1.649) vs natus vincere Odds diff: 0.013']"
      ]
     },
     "execution_count": 1,
     "metadata": {},
     "output_type": "execute_result"
    }
   ],
   "source": [
    "from dotabet.script.recommend import recommend_elo  \n",
    "recommend_elo()"
   ]
  },
  {
   "cell_type": "code",
   "execution_count": 1,
   "id": "d94c02c6-7689-4756-b0ef-c37385884d9e",
   "metadata": {},
   "outputs": [
    {
     "name": "stdout",
     "output_type": "stream",
     "text": [
      "block[0/12]=Match_date: 2024-05-24\n",
      "block[1/12]=League_name: DREAMLEAGUE\n",
      "❗Data already exist in CSV: \n",
      "block[2/12]=Match_odds: data=['2024-05-24', 'DREAMLEAGUE', 'azure', '1.666', 'heroic', '2.240', '(Match)', 1368.52, 1364.54, None, None]\n",
      "❗Data already exist in CSV: \n",
      "block[3/12]=Match_odds: data=['2024-05-24', 'DREAMLEAGUE', 'azure', '1.719', 'heroic', '2.140', '(Map 1)', 1368.52, 1364.54, None, None]\n",
      "block[4/12]=<Skip non-(Match)> \n",
      "block[5/12]=<Skip non-(Match)> \n",
      "block[6/12]=Match_date: 2024-05-25\n",
      "block[7/12]=League_name: DREAMLEAGUE\n",
      "❗Data already exist in CSV: \n",
      "block[8/12]=Match_odds: data=['2024-05-25', 'DREAMLEAGUE', 'gaimin gladiators', '2.830', 'falcons', '1.440', '(Match)', 1546.13, 1680.69, None, None]\n",
      "❗Data already exist in CSV: \n",
      "block[9/12]=Match_odds: data=['2024-05-25', 'DREAMLEAGUE', 'gaimin gladiators', '2.470', 'falcons', '1.555', '(Map 1)', 1546.13, 1680.69, None, None]\n",
      "block[10/12]=<Skip non-(Match)> \n",
      "block[11/12]=<Skip non-(Match)> \n",
      "Message sent successfully.\n",
      "Message sent successfully.\n"
     ]
    }
   ],
   "source": [
    "from dotabet.ui import send_telegram_message\n",
    "from dotabet.script.pinnacle import scrape_dota2_odds    \n",
    "from dotabet.script.recommend import recommend_elo    \n",
    "\n",
    "if __name__ == \"__main__\":\n",
    "    token = \"6056809505:AAEci0XQUkG86E0PV1P0ujabDfYqkyUHtso\"\n",
    "    chat_id = \"333091706\"\n",
    "    \n",
    "    tg_msg = scrape_dota2_odds()\n",
    "    send_telegram_message(token, chat_id, ''.join(tg_msg))\n",
    "    \n",
    "    token_rec = \"7109559904:AAFIoKm_jJUnzjtEUQJ5TN8ukd5Pc4Go0A0\"\n",
    "    chat_id_rec = \"333091706\"\n",
    "    tg_msg_rec = recommend_elo()  # compute elo coef and make recommendation\n",
    "    send_telegram_message(token_rec, chat_id_rec, ''.join(tg_msg_rec))"
   ]
  },
  {
   "cell_type": "code",
   "execution_count": 1,
   "id": "5ac8da54-f195-48eb-9541-a58b3f36ace7",
   "metadata": {},
   "outputs": [
    {
     "name": "stdout",
     "output_type": "stream",
     "text": [
      "Message sent successfully.\n"
     ]
    }
   ],
   "source": [
    "from dotabet.ui import send_telegram_message\n",
    "from dotabet.script.pinnacle import scrape_dota2_odds   \n",
    "from dotabet.script.recommend import recommend_elo    \n",
    "\n",
    "token = \"6056809505:AAEci0XQUkG86E0PV1P0ujabDfYqkyUHtso\"\n",
    "chat_id = \"333091706\"\n",
    "\n",
    "\n",
    "\n",
    "# dota2_log_bot\n",
    "rec_token = \"7109559904:AAFIoKm_jJUnzjtEUQJ5TN8ukd5Pc4Go0A0\"\n",
    "tg_msg_rec = recommend_elo()  # compute elo coef and make recommendation\n",
    "send_telegram_message(rec_token, chat_id, ''.join(tg_msg_rec))\n"
   ]
  },
  {
   "cell_type": "code",
   "execution_count": 1,
   "id": "7c60bdbc-4ffe-4a5b-ba82-f78c7cc178cd",
   "metadata": {},
   "outputs": [],
   "source": [
    "import argparse\n",
    "from dotabet.ui import send_telegram_message\n",
    "from dotabet.script.get_new import get_new_matches  \n",
    "from dotabet.script.link import link  \n",
    "from dotabet.script.pinnacle import scrape_dota2_odds   \n",
    "from dotabet.script.recommend import recommend_elo    \n",
    "import dotabet\n",
    "\n",
    "def get_new_matches_action(chat_id, token):\n",
    "    log_msg = get_new_matches()\n",
    "    send_telegram_message(token, chat_id, ''.join(log_msg))\n",
    "\n",
    "def link_action(chat_id, link_token, checkout_token):\n",
    "    link_msg = link()\n",
    "    send_telegram_message(link_token, chat_id, ''.join(link_msg))\n",
    "    checkout_msg = dotabet.checkout.compute_elo_results()\n",
    "    send_telegram_message(checkout_token, chat_id, ''.join(checkout_msg))\n",
    "\n",
    "def scrape_odds_action(chat_id, parse_token, rec_token):\n",
    "    tg_msg = scrape_dota2_odds()\n",
    "    send_telegram_message(parse_token, chat_id, ''.join(tg_msg))\n",
    "    tg_msg_rec = recommend_elo()\n",
    "    send_telegram_message(rec_token, chat_id, ''.join(tg_msg_rec))\n",
    "\n",
    "\n",
    "\n",
    "chat_id = '333091706'\n"
   ]
  },
  {
   "cell_type": "code",
   "execution_count": 2,
   "id": "63b33884-2f0f-4e97-8a50-3ff6cb7b28d9",
   "metadata": {},
   "outputs": [
    {
     "name": "stdout",
     "output_type": "stream",
     "text": [
      "Ready to fetch the Newest. Most recent id: 7768649413 (31 May 2024 10:48)\n",
      "Finish 🏁 Reached match_id=7767152528\n",
      "Message sent successfully.\n"
     ]
    }
   ],
   "source": [
    "log_token = '7109559904:AAFIoKm_jJUnzjtEUQJ5TN8ukd5Pc4Go0A0'\n",
    "get_new_matches_action(chat_id, log_token)"
   ]
  },
  {
   "cell_type": "code",
   "execution_count": 4,
   "id": "9b391251-7113-447a-94de-4c693ed7a2ba",
   "metadata": {},
   "outputs": [
    {
     "name": "stdout",
     "output_type": "stream",
     "text": [
      "Failed to send message.\n",
      "Message sent successfully.\n"
     ]
    }
   ],
   "source": [
    "link_token = '7074261020:AAG5hh_xsFvGXW7gBDnwH4ocwJzrmCGYSPY'\n",
    "checkout_token = '7311473809:AAFqyhg7HIbtTu7UawrGCU5qr5v2XMmT9No'\n",
    "link_action(chat_id, link_token, checkout_token)"
   ]
  },
  {
   "cell_type": "code",
   "execution_count": 5,
   "id": "b6a5beec-ef10-4e82-897d-00cb611f96fc",
   "metadata": {},
   "outputs": [
    {
     "name": "stdout",
     "output_type": "stream",
     "text": [
      "block[0/10]=Match_date: 2024-05-31\n",
      "block[1/10]=League_name: RIYADH MASTERS: EASTERN EUROPE QUALIFIER\n",
      "❗Data already exist in CSV: \n",
      "block[2/10]=Match_odds: data=['2024-05-31', 'RIYADH MASTERS: EASTERN EUROPE QUALIFIER', '1win', '1.268', 'yellow submarine', '3.850', '(Match)', 1282.67, None, None, None]\n",
      "❗Data already exist in CSV: \n",
      "block[3/10]=Match_odds: data=['2024-05-31', 'RIYADH MASTERS: EASTERN EUROPE QUALIFIER', '1win', '1.383', 'yellow submarine', '3.080', '(Map 1)', 1282.67, None, None, None]\n",
      "block[4/10]=<Skip non-(Match)> \n",
      "block[5/10]=<Skip non-(Match)> \n",
      "❗Data already exist in CSV: \n",
      "block[6/10]=Match_odds: data=['2024-05-31', 'RIYADH MASTERS: EASTERN EUROPE QUALIFIER', 'natus vincere', '1.146', 'sibe', '5.750', '(Match)', 1311.13, 1187.7, None, None]\n",
      "❗Data already exist in CSV: \n",
      "block[7/10]=Match_odds: data=['2024-05-31', 'RIYADH MASTERS: EASTERN EUROPE QUALIFIER', 'natus vincere', '1.268', 'sibe', '3.850', '(Map 1)', 1311.13, 1187.7, None, None]\n",
      "block[8/10]=<Skip non-(Match)> \n",
      "block[9/10]=<Skip non-(Match)> \n",
      "Message sent successfully.\n",
      "Message sent successfully.\n"
     ]
    }
   ],
   "source": [
    "parse_token = \"7416284654:AAGhRdKNgUlwDrBRPp_xRaMO151aMMh11jY\"\n",
    "rec_token = \"7227209457:AAHHtQ2mSnHyK6zzyIjQZFyrLd4CXBZn3_o\"\n",
    "scrape_odds_action(chat_id, parse_token, rec_token)"
   ]
  },
  {
   "cell_type": "code",
   "execution_count": 10,
   "id": "22f5def7-2abb-4885-8aa3-6a2084a8869c",
   "metadata": {},
   "outputs": [
    {
     "data": {
      "text/plain": [
       "{'match_id': 7660501638,\n",
       " 'dire_captain': 1202267677,\n",
       " 'dire_name': 'Nemiga Gaming',\n",
       " 'dire_team_id': 5014799,\n",
       " 'game_mode': 2,\n",
       " 'leagueid': 16343,\n",
       " 'start_time': 1711717186,\n",
       " 'lobby_type': 1,\n",
       " 'metadata': None,\n",
       " 'patch': 54,\n",
       " 'picks_bans': [{'is_pick': False, 'hero_id': 137, 'team': 0, 'order': 0},\n",
       "  {'is_pick': False, 'hero_id': 66, 'team': 1, 'order': 1},\n",
       "  {'is_pick': False, 'hero_id': 98, 'team': 1, 'order': 2},\n",
       "  {'is_pick': False, 'hero_id': 33, 'team': 0, 'order': 3},\n",
       "  {'is_pick': False, 'hero_id': 96, 'team': 1, 'order': 4},\n",
       "  {'is_pick': False, 'hero_id': 129, 'team': 1, 'order': 5},\n",
       "  {'is_pick': False, 'hero_id': 49, 'team': 0, 'order': 6},\n",
       "  {'is_pick': True, 'hero_id': 72, 'team': 0, 'order': 7},\n",
       "  {'is_pick': True, 'hero_id': 19, 'team': 1, 'order': 8},\n",
       "  {'is_pick': False, 'hero_id': 18, 'team': 0, 'order': 9},\n",
       "  {'is_pick': False, 'hero_id': 48, 'team': 0, 'order': 10},\n",
       "  {'is_pick': False, 'hero_id': 78, 'team': 1, 'order': 11},\n",
       "  {'is_pick': True, 'hero_id': 105, 'team': 1, 'order': 12},\n",
       "  {'is_pick': True, 'hero_id': 87, 'team': 0, 'order': 13},\n",
       "  {'is_pick': True, 'hero_id': 22, 'team': 0, 'order': 14},\n",
       "  {'is_pick': True, 'hero_id': 54, 'team': 1, 'order': 15},\n",
       "  {'is_pick': True, 'hero_id': 38, 'team': 1, 'order': 16},\n",
       "  {'is_pick': True, 'hero_id': 94, 'team': 0, 'order': 17},\n",
       "  {'is_pick': False, 'hero_id': 120, 'team': 0, 'order': 18},\n",
       "  {'is_pick': False, 'hero_id': 69, 'team': 1, 'order': 19},\n",
       "  {'is_pick': False, 'hero_id': 57, 'team': 1, 'order': 20},\n",
       "  {'is_pick': False, 'hero_id': 13, 'team': 0, 'order': 21},\n",
       "  {'is_pick': True, 'hero_id': 28, 'team': 0, 'order': 22},\n",
       "  {'is_pick': True, 'hero_id': 90, 'team': 1, 'order': 23}],\n",
       " 'players': [{'account_id': 165110440,\n",
       "   'assists': 8,\n",
       "   'benchmarks': {'gold_per_min': {'raw': 713, 'pct': 0.754055807916937},\n",
       "    'xp_per_min': {'raw': 729, 'pct': 0.4289422452952628},\n",
       "    'kills_per_min': {'raw': 0.07323026851098455, 'pct': 0.2511356262167424},\n",
       "    'last_hits_per_min': {'raw': 12.91293734743694, 'pct': 0.9610642439974043},\n",
       "    'hero_damage_per_min': {'raw': 721.6842961757527,\n",
       "     'pct': 0.5859831278390656},\n",
       "    'hero_healing_per_min': {'raw': 0, 'pct': 0.9539260220635951},\n",
       "    'tower_damage': {'raw': 2433, 'pct': 0.40947436729396497}},\n",
       "   'cluster': 272,\n",
       "   'deaths': 3,\n",
       "   'denies': 18,\n",
       "   'gold_per_min': 713,\n",
       "   'hero_damage': 29565,\n",
       "   'hero_healing': 0,\n",
       "   'hero_id': 94,\n",
       "   'kda': 2.75,\n",
       "   'kills': 3,\n",
       "   'kills_per_min': 0.07323026851098453,\n",
       "   'last_hits': 529,\n",
       "   'lose': 1,\n",
       "   'net_worth': 24926,\n",
       "   'patch': 54,\n",
       "   'radiant_win': False,\n",
       "   'rank_tier': 80,\n",
       "   'total_gold': 29209,\n",
       "   'total_xp': 29864,\n",
       "   'tower_damage': 2433,\n",
       "   'win': 0,\n",
       "   'xp_per_min': 729},\n",
       "  {'account_id': 120613892,\n",
       "   'assists': 8,\n",
       "   'benchmarks': {'gold_per_min': {'raw': 552, 'pct': 0.6524338172502135},\n",
       "    'xp_per_min': {'raw': 541, 'pct': 0.2596071733561059},\n",
       "    'kills_per_min': {'raw': 0.07323026851098455, 'pct': 0.07045260461144322},\n",
       "    'last_hits_per_min': {'raw': 8.641171684296175, 'pct': 0.9660546541417592},\n",
       "    'hero_damage_per_min': {'raw': 930.1708706265256,\n",
       "     'pct': 0.42207514944491886},\n",
       "    'hero_healing_per_min': {'raw': 0, 'pct': 0.8277113578138343},\n",
       "    'tower_damage': {'raw': 0, 'pct': 0.17399658411614005}},\n",
       "   'cluster': 272,\n",
       "   'deaths': 3,\n",
       "   'denies': 14,\n",
       "   'gold_per_min': 552,\n",
       "   'hero_damage': 38106,\n",
       "   'hero_healing': 0,\n",
       "   'hero_id': 22,\n",
       "   'kda': 2.75,\n",
       "   'kills': 3,\n",
       "   'kills_per_min': 0.07323026851098453,\n",
       "   'last_hits': 354,\n",
       "   'lose': 1,\n",
       "   'net_worth': 20620,\n",
       "   'patch': 54,\n",
       "   'radiant_win': False,\n",
       "   'rank_tier': 80,\n",
       "   'total_gold': 22613,\n",
       "   'total_xp': 22162,\n",
       "   'tower_damage': 0,\n",
       "   'win': 0,\n",
       "   'xp_per_min': 541},\n",
       "  {'account_id': 90423751,\n",
       "   'assists': 11,\n",
       "   'benchmarks': {'gold_per_min': {'raw': 202, 'pct': 0.031133250311332503},\n",
       "    'xp_per_min': {'raw': 370, 'pct': 0.1855541718555417},\n",
       "    'kills_per_min': {'raw': 0.02441008950366151, 'pct': 0.11457036114570361},\n",
       "    'last_hits_per_min': {'raw': 0.46379170056956875,\n",
       "     'pct': 0.10004151100041511},\n",
       "    'hero_damage_per_min': {'raw': 215.12611879576892,\n",
       "     'pct': 0.10709838107098381},\n",
       "    'hero_healing_per_min': {'raw': 0, 'pct': 0.6450809464508095},\n",
       "    'tower_damage': {'raw': 0, 'pct': 0.2548775425487754}},\n",
       "   'cluster': 272,\n",
       "   'deaths': 9,\n",
       "   'denies': 3,\n",
       "   'gold_per_min': 202,\n",
       "   'hero_damage': 8813,\n",
       "   'hero_healing': 0,\n",
       "   'hero_id': 87,\n",
       "   'kda': 1.2,\n",
       "   'kills': 1,\n",
       "   'kills_per_min': 0.02441008950366151,\n",
       "   'last_hits': 19,\n",
       "   'lose': 1,\n",
       "   'net_worth': 6709,\n",
       "   'patch': 54,\n",
       "   'radiant_win': False,\n",
       "   'rank_tier': 80,\n",
       "   'total_gold': 8275,\n",
       "   'total_xp': 15157,\n",
       "   'tower_damage': 0,\n",
       "   'win': 0,\n",
       "   'xp_per_min': 370},\n",
       "  {'account_id': 891521610,\n",
       "   'assists': 4,\n",
       "   'benchmarks': {'gold_per_min': {'raw': 409, 'pct': 0.2523809523809524},\n",
       "    'xp_per_min': {'raw': 560, 'pct': 0.3104166666666667},\n",
       "    'kills_per_min': {'raw': 0.09764035801464604, 'pct': 0.19791666666666666},\n",
       "    'last_hits_per_min': {'raw': 5.199349064279902, 'pct': 0.7360119047619048},\n",
       "    'hero_damage_per_min': {'raw': 261.67615947925145, 'pct': 0.125},\n",
       "    'hero_healing_per_min': {'raw': 0, 'pct': 0.9657738095238095},\n",
       "    'tower_damage': {'raw': 171, 'pct': 0.20684523809523808}},\n",
       "   'cluster': 272,\n",
       "   'deaths': 8,\n",
       "   'denies': 7,\n",
       "   'gold_per_min': 409,\n",
       "   'hero_damage': 10720,\n",
       "   'hero_healing': 0,\n",
       "   'hero_id': 28,\n",
       "   'kda': 0.89,\n",
       "   'kills': 4,\n",
       "   'kills_per_min': 0.09764035801464604,\n",
       "   'last_hits': 213,\n",
       "   'lose': 1,\n",
       "   'net_worth': 17161,\n",
       "   'patch': 54,\n",
       "   'radiant_win': False,\n",
       "   'rank_tier': 80,\n",
       "   'total_gold': 16755,\n",
       "   'total_xp': 22941,\n",
       "   'tower_damage': 171,\n",
       "   'win': 0,\n",
       "   'xp_per_min': 560},\n",
       "  {'account_id': 35504297,\n",
       "   'assists': 8,\n",
       "   'benchmarks': {'gold_per_min': {'raw': 258, 'pct': 0.04081632653061224},\n",
       "    'xp_per_min': {'raw': 397, 'pct': 0.11331901181525242},\n",
       "    'kills_per_min': {'raw': 0.07323026851098455, 'pct': 0.1364124597207304},\n",
       "    'last_hits_per_min': {'raw': 1.1960943856794142,\n",
       "     'pct': 0.08485499462943072},\n",
       "    'hero_damage_per_min': {'raw': 385.58177379983726,\n",
       "     'pct': 0.09774436090225563},\n",
       "    'hero_healing_per_min': {'raw': 3.051261187957689,\n",
       "     'pct': 0.8281417830290011},\n",
       "    'tower_damage': {'raw': 0, 'pct': 0.14339419978517723}},\n",
       "   'cluster': 272,\n",
       "   'deaths': 6,\n",
       "   'denies': 4,\n",
       "   'gold_per_min': 258,\n",
       "   'hero_damage': 15796,\n",
       "   'hero_healing': 125,\n",
       "   'hero_id': 72,\n",
       "   'kda': 1.57,\n",
       "   'kills': 3,\n",
       "   'kills_per_min': 0.07323026851098453,\n",
       "   'last_hits': 49,\n",
       "   'lose': 1,\n",
       "   'net_worth': 8363,\n",
       "   'patch': 54,\n",
       "   'radiant_win': False,\n",
       "   'rank_tier': 80,\n",
       "   'total_gold': 10569,\n",
       "   'total_xp': 16263,\n",
       "   'tower_damage': 0,\n",
       "   'win': 0,\n",
       "   'xp_per_min': 397},\n",
       "  {'account_id': 294135421,\n",
       "   'assists': 19,\n",
       "   'benchmarks': {'gold_per_min': {'raw': 676, 'pct': 0.9488188976377953},\n",
       "    'xp_per_min': {'raw': 891, 'pct': 0.9041994750656168},\n",
       "    'kills_per_min': {'raw': 0.1464605370219691, 'pct': 0.6128608923884514},\n",
       "    'last_hits_per_min': {'raw': 9.51993490642799, 'pct': 0.9829396325459318},\n",
       "    'hero_damage_per_min': {'raw': 414.5565500406835,\n",
       "     'pct': 0.2782152230971129},\n",
       "    'hero_healing_per_min': {'raw': 360.14646053702194,\n",
       "     'pct': 0.9593175853018373},\n",
       "    'tower_damage': {'raw': 2285, 'pct': 0.9291338582677166}},\n",
       "   'cluster': 272,\n",
       "   'deaths': 1,\n",
       "   'denies': 2,\n",
       "   'gold_per_min': 676,\n",
       "   'hero_damage': 16983,\n",
       "   'hero_healing': 14754,\n",
       "   'hero_id': 90,\n",
       "   'kda': 12.5,\n",
       "   'kills': 6,\n",
       "   'kills_per_min': 0.14646053702196907,\n",
       "   'last_hits': 390,\n",
       "   'lose': 0,\n",
       "   'net_worth': 28158,\n",
       "   'patch': 54,\n",
       "   'radiant_win': False,\n",
       "   'rank_tier': 80,\n",
       "   'total_gold': 27693,\n",
       "   'total_xp': 36501,\n",
       "   'tower_damage': 2285,\n",
       "   'win': 1,\n",
       "   'xp_per_min': 891},\n",
       "  {'account_id': 1202267677,\n",
       "   'assists': 18,\n",
       "   'benchmarks': {'gold_per_min': {'raw': 434, 'pct': 0.6551120448179272},\n",
       "    'xp_per_min': {'raw': 571, 'pct': 0.5647759103641457},\n",
       "    'kills_per_min': {'raw': 0.1952807160292921, 'pct': 0.6677170868347339},\n",
       "    'last_hits_per_min': {'raw': 2.611879576891782, 'pct': 0.6053921568627451},\n",
       "    'hero_damage_per_min': {'raw': 452.7339300244101,\n",
       "     'pct': 0.11099439775910364},\n",
       "    'hero_healing_per_min': {'raw': 195.52481692432872,\n",
       "     'pct': 0.9891456582633054},\n",
       "    'tower_damage': {'raw': 2712, 'pct': 0.8361344537815126}},\n",
       "   'cluster': 272,\n",
       "   'deaths': 6,\n",
       "   'denies': 1,\n",
       "   'gold_per_min': 434,\n",
       "   'hero_damage': 18547,\n",
       "   'hero_healing': 8010,\n",
       "   'hero_id': 105,\n",
       "   'kda': 3.71,\n",
       "   'kills': 8,\n",
       "   'kills_per_min': 0.1952807160292921,\n",
       "   'last_hits': 107,\n",
       "   'lose': 0,\n",
       "   'net_worth': 14201,\n",
       "   'patch': 54,\n",
       "   'radiant_win': False,\n",
       "   'rank_tier': 80,\n",
       "   'total_gold': 17779,\n",
       "   'total_xp': 23391,\n",
       "   'tower_damage': 2712,\n",
       "   'win': 1,\n",
       "   'xp_per_min': 571},\n",
       "  {'account_id': 374875067,\n",
       "   'assists': 13,\n",
       "   'benchmarks': {'gold_per_min': {'raw': 665, 'pct': 0.9072463768115943},\n",
       "    'xp_per_min': {'raw': 892, 'pct': 0.8782608695652174},\n",
       "    'kills_per_min': {'raw': 0.1952807160292921, 'pct': 0.6260869565217392},\n",
       "    'last_hits_per_min': {'raw': 8.812042310821807, 'pct': 0.9797101449275363},\n",
       "    'hero_damage_per_min': {'raw': 424.71114727420667,\n",
       "     'pct': 0.28405797101449276},\n",
       "    'hero_healing_per_min': {'raw': 0, 'pct': 0.6521739130434783},\n",
       "    'tower_damage': {'raw': 5449, 'pct': 0.7623188405797101}},\n",
       "   'cluster': 272,\n",
       "   'deaths': 0,\n",
       "   'denies': 2,\n",
       "   'gold_per_min': 665,\n",
       "   'hero_damage': 17399,\n",
       "   'hero_healing': 0,\n",
       "   'hero_id': 38,\n",
       "   'kda': 21,\n",
       "   'kills': 8,\n",
       "   'kills_per_min': 0.1952807160292921,\n",
       "   'last_hits': 361,\n",
       "   'lose': 0,\n",
       "   'net_worth': 26894,\n",
       "   'patch': 54,\n",
       "   'radiant_win': False,\n",
       "   'rank_tier': 80,\n",
       "   'total_gold': 27242,\n",
       "   'total_xp': 36542,\n",
       "   'tower_damage': 5449,\n",
       "   'win': 1,\n",
       "   'xp_per_min': 892},\n",
       "  {'account_id': 206097366,\n",
       "   'assists': 16,\n",
       "   'benchmarks': {'gold_per_min': {'raw': 306, 'pct': 0.1341521020311762},\n",
       "    'xp_per_min': {'raw': 447, 'pct': 0.1917808219178082},\n",
       "    'kills_per_min': {'raw': 0, 'pct': 0.0410958904109589},\n",
       "    'last_hits_per_min': {'raw': 2.148087876322213, 'pct': 0.2942843646669816},\n",
       "    'hero_damage_per_min': {'raw': 195.45158665581772,\n",
       "     'pct': 0.03306565895134624},\n",
       "    'hero_healing_per_min': {'raw': 9.764035801464605,\n",
       "     'pct': 0.9650448748228625},\n",
       "    'tower_damage': {'raw': 326, 'pct': 0.32923948984411905}},\n",
       "   'cluster': 272,\n",
       "   'deaths': 6,\n",
       "   'denies': 3,\n",
       "   'gold_per_min': 306,\n",
       "   'hero_damage': 8007,\n",
       "   'hero_healing': 400,\n",
       "   'hero_id': 19,\n",
       "   'kda': 2.29,\n",
       "   'kills': 0,\n",
       "   'last_hits': 88,\n",
       "   'lose': 0,\n",
       "   'net_worth': 11217,\n",
       "   'patch': 54,\n",
       "   'radiant_win': False,\n",
       "   'rank_tier': 80,\n",
       "   'total_gold': 12535,\n",
       "   'total_xp': 18312,\n",
       "   'tower_damage': 326,\n",
       "   'win': 1,\n",
       "   'xp_per_min': 447},\n",
       "  {'account_id': 345509021,\n",
       "   'assists': 13,\n",
       "   'benchmarks': {'gold_per_min': {'raw': 725, 'pct': 0.8723500225529995},\n",
       "    'xp_per_min': {'raw': 808, 'pct': 0.5640505187189896},\n",
       "    'kills_per_min': {'raw': 0.1708706265256306, 'pct': 0.37235002255299954},\n",
       "    'last_hits_per_min': {'raw': 10.64279902359642, 'pct': 0.9934596301308074},\n",
       "    'hero_damage_per_min': {'raw': 416.4361269324654,\n",
       "     'pct': 0.23116824537663508},\n",
       "    'hero_healing_per_min': {'raw': 1.9039869812855983,\n",
       "     'pct': 0.5660802886783942},\n",
       "    'tower_damage': {'raw': 13976, 'pct': 0.8299503834009924}},\n",
       "   'cluster': 272,\n",
       "   'deaths': 2,\n",
       "   'denies': 26,\n",
       "   'gold_per_min': 725,\n",
       "   'hero_damage': 17060,\n",
       "   'hero_healing': 78,\n",
       "   'hero_id': 54,\n",
       "   'kda': 6.67,\n",
       "   'kills': 7,\n",
       "   'kills_per_min': 0.1708706265256306,\n",
       "   'last_hits': 436,\n",
       "   'lose': 0,\n",
       "   'net_worth': 30331,\n",
       "   'patch': 54,\n",
       "   'radiant_win': False,\n",
       "   'rank_tier': 80,\n",
       "   'total_gold': 29700,\n",
       "   'total_xp': 33101,\n",
       "   'tower_damage': 13976,\n",
       "   'win': 1,\n",
       "   'xp_per_min': 808}],\n",
       " 'radiant_captain': 35504297,\n",
       " 'radiant_gold_adv': None,\n",
       " 'radiant_name': 'MarsBet Team',\n",
       " 'radiant_score': 14,\n",
       " 'radiant_team_id': 9175409,\n",
       " 'radiant_win': False,\n",
       " 'radiant_xp_adv': None,\n",
       " 'tower_status_dire': 1974,\n",
       " 'tower_status_radiant': 512,\n",
       " 'version': None}"
      ]
     },
     "execution_count": 10,
     "metadata": {},
     "output_type": "execute_result"
    }
   ],
   "source": [
    "data[0]"
   ]
  },
  {
   "cell_type": "code",
   "execution_count": 24,
   "id": "2ce06e17-e541-4131-8282-6fcf6f05db13",
   "metadata": {},
   "outputs": [],
   "source": [
    "import dotabet\n",
    "import os\n",
    "\n",
    "teams_csv_path = r\"D:\\WORKSPACE\\dotabet\\constants\\teams.csv\"\n",
    "current_ids = dotabet.utils.get_teams_composition_ids(teams_csv_path)"
   ]
  },
  {
   "cell_type": "code",
   "execution_count": 27,
   "id": "f8a15794-53df-4277-ae5e-9a0dafae7662",
   "metadata": {},
   "outputs": [
    {
     "data": {
      "text/plain": [
       "32"
      ]
     },
     "execution_count": 27,
     "metadata": {},
     "output_type": "execute_result"
    }
   ],
   "source": [
    "len(set(current_ids))"
   ]
  },
  {
   "cell_type": "code",
   "execution_count": 36,
   "id": "4beaa16b-8b6d-4f2e-b45e-56347cb68c4c",
   "metadata": {},
   "outputs": [
    {
     "data": {
      "text/plain": [
       "{0, 950760809, 1248263093, 1340615589, 2117989629, 2368818725}"
      ]
     },
     "execution_count": 36,
     "metadata": {},
     "output_type": "execute_result"
    }
   ],
   "source": [
    "set(current_ids) - set(excel)"
   ]
  },
  {
   "cell_type": "code",
   "execution_count": 70,
   "id": "9f7e20b9-8ec7-41cb-a85f-a686c69dcacf",
   "metadata": {},
   "outputs": [],
   "source": [
    "import pandas as pd\n",
    "from datetime import datetime\n",
    "features_csv_path = r\"D:\\WORKSPACE\\dotabet\\data\\top_teams\\features.csv\"\n",
    "df = pd.read_csv(features_csv_path)\n",
    "df = df.sort_values(by='start_time', ascending=True)\n",
    "\n",
    "str_agg = lambda x: x.mode()[0] if not x.empty else None\n",
    "agg_dict = {col: 'mean' for col in df.select_dtypes(include=['int', 'float']).columns}  \n",
    "agg_dict.update({col: str_agg for col in df.select_dtypes(include=['object']).columns}) \n",
    "\n",
    "dfg = df.groupby(['match_id']) \n",
    "ndf = dfg.agg(agg_dict)\n",
    "ndf=ndf.drop('match_id', axis=1)\n",
    "ndf=ndf.reset_index()"
   ]
  },
  {
   "cell_type": "code",
   "execution_count": 72,
   "id": "545dd102-c8fa-495d-a842-de4e6a97b082",
   "metadata": {},
   "outputs": [],
   "source": [
    "ndf.to_csv(r\"D:\\WORKSPACE\\dotabet\\data\\top_teams\\lol.csv\", index=False)"
   ]
  },
  {
   "cell_type": "code",
   "execution_count": null,
   "id": "cff42f9a-dd7a-499d-b524-6f3848f3eb83",
   "metadata": {},
   "outputs": [],
   "source": []
  }
 ],
 "metadata": {
  "kernelspec": {
   "display_name": "Python 3 (ipykernel)",
   "language": "python",
   "name": "python3"
  },
  "language_info": {
   "codemirror_mode": {
    "name": "ipython",
    "version": 3
   },
   "file_extension": ".py",
   "mimetype": "text/x-python",
   "name": "python",
   "nbconvert_exporter": "python",
   "pygments_lexer": "ipython3",
   "version": "3.11.4"
  }
 },
 "nbformat": 4,
 "nbformat_minor": 5
}
