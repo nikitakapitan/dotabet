{
 "cells": [
  {
   "cell_type": "code",
   "execution_count": 8,
   "id": "be7525f6-18da-47c4-ae29-ed5bc25d18f5",
   "metadata": {},
   "outputs": [],
   "source": [
    "import dotabet\n",
    "\n",
    "input_files = [r\"D:\\WORKSPACE\\dotabet\\data\" + fp for fp in [r\"\\1pro_games_2.json\", r\"\\1pro_games_1.json\"]]  \n",
    "teams_csv_path = r\"D:\\WORKSPACE\\dotabet\\constants\\teams.csv\"\n",
    "pro_games_json_path = r\"D:\\WORKSPACE\\dotabet\\data\\top_teams\\1pro_games.json\"\n",
    "all_player_csv_path = r\"D:\\WORKSPACE\\dotabet\\data\\top_teams\\all_players.csv\"\n",
    "all_player_clean_csv_path = r\"D:\\WORKSPACE\\dotabet\\data\\top_teams\\all_players_clean.csv\"\n",
    "features_csv_path = r\"D:\\WORKSPACE\\dotabet\\data\\top_teams\\features.csv\""
   ]
  },
  {
   "cell_type": "code",
   "execution_count": 9,
   "id": "d6991ced-a42c-4c1b-b8fe-cd7860a83c70",
   "metadata": {},
   "outputs": [
    {
     "name": "stdout",
     "output_type": "stream",
     "text": [
      "Total of 3004 pro games\n",
      "✅ Total matches 3004 parsed to D:\\WORKSPACE\\dotabet\\data\\top_teams\\all_players.csv\n"
     ]
    }
   ],
   "source": [
    "dotabet.filter.filter_top_teams(input_files, teams_csv_path, pro_games_json_path) # top_teams\\1pro_games.json\"\n",
    "dotabet.csv.make_csv(pro_games_json_path, all_player_csv_path) # ->all_player.csv"
   ]
  },
  {
   "cell_type": "code",
   "execution_count": 10,
   "id": "f4877b05-df97-4d70-b864-5892d9dbdb7a",
   "metadata": {},
   "outputs": [
    {
     "name": "stdout",
     "output_type": "stream",
     "text": [
      "(filter) Removed non-csv teams: 1660 matches doesnt have opponent\n",
      "-------------------------\n",
      "Cleaning: [nan]\n",
      "radiant_name                   > 3    camps_stacked                  > 29   lh_t                           > 29   sen_placed                     > 29   \n",
      "dire_name                      > 12   gold_t                         > 29   neutral_kills                  > 29   teamfight_participation        > 29   \n",
      "radiant_team_id                > 3    hero_damage                    > 21   observer_kills                 > 29   total_xp                       > 2    \n",
      "dire_team_id                   > 12   hero_healing                   > 21   roshan_kills                   > 29   tower_damage                   > 21   \n",
      "actions_per_min                > 29   hero_kills                     > 29   rune_pickups                   > 29   tower_kills                    > 29   \n",
      "ancient_kills                  > 29   lane_efficiency                > 39   sentry_kills                   > 29   xp_t                           > 29   \n",
      "Total matches removed due to nan : 55 (+55 unique)\n",
      "-------------------------\n",
      "Cleaning: [non_monotonic]\n",
      "Total matches removed due to non_monotonic : 0 (+0 unique)\n",
      "-------------------------\n",
      "Cleaning: [too_high_first]\n",
      "gold_t                         > 89   xp_t                           > 99   lh_t                           > 128  \n",
      "Total matches removed due to too_high_first : 133 (+120 unique)\n",
      "-------------------------\n",
      "Cleaning: [more60]\n",
      "more60                         > 165  \n",
      "Total matches removed due to more60 : 165 (+162 unique)\n",
      "-------------------------\n",
      "Cleaning: [less15]\n",
      "less15                         > 17   \n",
      "Total matches removed due to less15 : 17 (+3 unique)\n",
      "-------------------------\n",
      "TOTAL UNIQUE MATCHES TO CLEAN: 340 / 3004 or 11.32%\n",
      "FINAL NUMBER OF MATCHES: 2664 len(df)=19360\n"
     ]
    }
   ],
   "source": [
    "dotabet.cleanup.clean(all_player_csv_path, all_player_clean_csv_path, teams_csv_path) #->all_players_clean.csv\n",
    "dotabet.features.make_features(all_player_clean_csv_path, features_csv_path) #features.csv\n",
    "dotabet.groupby.groupby_team_composition(features_csv_path)"
   ]
  },
  {
   "cell_type": "code",
   "execution_count": 4,
   "id": "8c15bb9b-ee21-4513-ab40-1a27baf62f89",
   "metadata": {},
   "outputs": [
    {
     "name": "stdout",
     "output_type": "stream",
     "text": [
      "all_players_clean.csv (1/1) ✅ features doesnt have any NaN\n",
      "features.csv (1/3).✅No missing data\n",
      "features.csv (2/3)✅For each composition team, all matches has only 5 different accounts\n",
      "features.csv (3/3)✅ has passed 10rows-consistency\n"
     ]
    }
   ],
   "source": [
    "if False: # require API calls\n",
    "    dotabet.consistency.check_team_csv_consistency(teams_csv_path, features_csv_path)\n",
    "dotabet.consistency.check_all_player_csv_consistency(all_player_csv_path)    \n",
    "dotabet.consistency.check_all_player_clean_csv_consistency(all_player_clean_csv_path)\n",
    "dotabet.consistency.check_features_consistency(features_csv_path)"
   ]
  },
  {
   "cell_type": "code",
   "execution_count": 3,
   "id": "0e9fb179-9b92-4ce3-8065-8ea6674de836",
   "metadata": {},
   "outputs": [],
   "source": [
    "import pandas as pd\n",
    "teams_df = pd.read_csv(teams_csv_path)"
   ]
  },
  {
   "cell_type": "code",
   "execution_count": 4,
   "id": "021dc1a9-ec2c-45f9-983c-44bc511437c1",
   "metadata": {},
   "outputs": [],
   "source": [
    "nik_row = teams_df[teams_df['Team ID'] == 8261500]"
   ]
  },
  {
   "cell_type": "code",
   "execution_count": 12,
   "id": "ffab7e79-5f81-4282-a223-5fb0aba3784a",
   "metadata": {},
   "outputs": [],
   "source": [
    "nik_row0 = teams_df[teams_df['Team ID'] == 8291895]"
   ]
  },
  {
   "cell_type": "code",
   "execution_count": 3,
   "id": "bf60559a-0e0f-4502-8c86-e0e410e3cebd",
   "metadata": {},
   "outputs": [],
   "source": [
    "from dotabet.fetch import fetch_data\n",
    "player_endpoint = f\"https://opendota.com/api/players/{10366616}\"\n",
    "fetched_data = fetch_data(player_endpoint)"
   ]
  },
  {
   "cell_type": "code",
   "execution_count": 3,
   "id": "d3ae7a5f-3c6c-474d-b61b-f0cfb05193f3",
   "metadata": {},
   "outputs": [
    {
     "ename": "TypeError",
     "evalue": "'<' not supported between instances of 'NoneType' and 'int'",
     "output_type": "error",
     "traceback": [
      "\u001b[1;31m---------------------------------------------------------------------------\u001b[0m",
      "\u001b[1;31mTypeError\u001b[0m                                 Traceback (most recent call last)",
      "Cell \u001b[1;32mIn[3], line 1\u001b[0m\n\u001b[1;32m----> 1\u001b[0m \u001b[38;5;28;43;01mNone\u001b[39;49;00m\u001b[43m \u001b[49m\u001b[38;5;241;43m<\u001b[39;49m\u001b[43m \u001b[49m\u001b[38;5;241;43m15\u001b[39;49m\n",
      "\u001b[1;31mTypeError\u001b[0m: '<' not supported between instances of 'NoneType' and 'int'"
     ]
    }
   ],
   "source": [
    "None < 15"
   ]
  },
  {
   "cell_type": "code",
   "execution_count": 3,
   "id": "18299615-b8ef-4eca-9874-d2c296ae7235",
   "metadata": {},
   "outputs": [
    {
     "name": "stdout",
     "output_type": "stream",
     "text": [
      "🗑️Content from G:\\My Drive\\dotabet was fully deleted\n",
      "File copied successfully to G:\\My Drive\\dotabet\n",
      "File copied successfully to G:\\My Drive\\dotabet\n"
     ]
    }
   ],
   "source": [
    "# Google Drive\n",
    "dotabet.utils.remove_all(r\"G:\\My Drive\\dotabet\")\n",
    "dotabet.utils.copy_to_drive(r\"D:\\WORKSPACE\\dotabet\\data\\top_teams\\features.csv\", r\"G:\\My Drive\\dotabet\\features.csv\")\n",
    "dotabet.utils.copy_to_drive(r\"D:\\WORKSPACE\\dotabet\\constants\\teams.csv\", r\"G:\\My Drive\\dotabet\\teams.csv\")\n",
    "# dotabet.utils.copy_to_drive(r\"D:\\WORKSPACE\\dotabet\\constants\\teams.csv\", r\"G:\\My Drive\\dotabet\\teams.csv\")"
   ]
  },
  {
   "cell_type": "code",
   "execution_count": null,
   "id": "9bac32ea-5962-4072-8f06-96de5e75a2cf",
   "metadata": {},
   "outputs": [],
   "source": [
    "\"\"\" Notes\n",
    "Pos1:\n",
    "arriverderci -> 171097887\n",
    "Munkishi == glimpse -> 904131336\n",
    "\n",
    "Talon\n",
    "Pos1:\n",
    "akashi -> 330534326\n",
    "[temp stands in] V-Tune\n",
    "\"\"\""
   ]
  },
  {
   "cell_type": "code",
   "execution_count": 2,
   "id": "9c5b433d-9a22-45aa-b3e4-89a38e1cdec4",
   "metadata": {},
   "outputs": [
    {
     "name": "stdout",
     "output_type": "stream",
     "text": [
      "Total rows analyzed: 27852\n",
      "\n",
      "gold_t - Total rows removed: 675\n",
      "\t empty: 290 (1.04% of total rows)\n",
      "\t high_start: 385 (1.38% of total rows)\n",
      "\t non_increasing: 0 (0.00% of total rows)\n",
      "\n",
      "xp_t - Total rows removed: 619\n",
      "\t empty: 290 (1.04% of total rows)\n",
      "\t high_start: 329 (1.18% of total rows)\n",
      "\t non_increasing: 0 (0.00% of total rows)\n",
      "\n",
      "lh_t - Total rows removed: 824\n",
      "\t empty: 290 (1.04% of total rows)\n",
      "\t high_start: 534 (1.92% of total rows)\n",
      "\t non_increasing: 0 (0.00% of total rows)\n"
     ]
    }
   ],
   "source": [
    "dotabet.filter.filter_and_preprocess(all_player_csv_path) #all_players_clean.csv\n"
   ]
  },
  {
   "cell_type": "code",
   "execution_count": 5,
   "id": "ab03ea12-3fb7-4a40-9c0e-051129c285d7",
   "metadata": {},
   "outputs": [],
   "source": [
    "import json\n",
    "with open(pro_games_json_path) as file:\n",
    "        matches = json.load(file)"
   ]
  },
  {
   "cell_type": "code",
   "execution_count": 8,
   "id": "0f425d40-3fa2-4c0f-ac4f-6cf3fc64d056",
   "metadata": {},
   "outputs": [
    {
     "data": {
      "text/plain": [
       "dict_keys(['match_id', 'dire_captain', 'dire_name', 'dire_team_id', 'game_mode', 'leagueid', 'start_time', 'lobby_type', 'metadata', 'patch', 'picks_bans', 'players', 'radiant_captain', 'radiant_gold_adv', 'radiant_name', 'radiant_score', 'radiant_team_id', 'radiant_win', 'radiant_xp_adv', 'tower_status_dire', 'tower_status_radiant', 'version'])"
      ]
     },
     "execution_count": 8,
     "metadata": {},
     "output_type": "execute_result"
    }
   ],
   "source": [
    "matches[0].keys()"
   ]
  },
  {
   "cell_type": "code",
   "execution_count": 11,
   "id": "9997a96a-8bbd-4a00-a03f-92c7bcab9fa3",
   "metadata": {},
   "outputs": [
    {
     "data": {
      "text/plain": [
       "dict_keys(['account_id', 'actions_per_min', 'ancient_kills', 'assists', 'benchmarks', 'buyback_count', 'camps_stacked', 'cluster', 'creeps_stacked', 'deaths', 'denies', 'firstblood_claimed', 'gold_per_min', 'gold_t', 'hero_damage', 'hero_healing', 'hero_id', 'hero_kills', 'kda', 'kill_streaks', 'kills', 'kills_per_min', 'lane', 'lane_efficiency', 'lane_efficiency_pct', 'lane_kills', 'lane_role', 'last_hits', 'lh_t', 'life_state_dead', 'lose', 'multi_kills', 'net_worth', 'neutral_kills', 'observers_placed', 'observer_kills', 'patch', 'pings', 'radiant_win', 'rank_tier', 'roshan_kills', 'rune_pickups', 'sentry_kills', 'sen_placed', 'teamfight_participation', 'total_gold', 'total_xp', 'tower_damage', 'tower_kills', 'win', 'xp_per_min', 'xp_t'])"
      ]
     },
     "execution_count": 11,
     "metadata": {},
     "output_type": "execute_result"
    }
   ],
   "source": [
    "matches[0]['players'][0].keys()"
   ]
  },
  {
   "cell_type": "code",
   "execution_count": 1,
   "id": "18c20673-efc8-44d3-acd5-cdeb275ec969",
   "metadata": {},
   "outputs": [
    {
     "data": {
      "text/plain": [
       "'3'"
      ]
     },
     "execution_count": 1,
     "metadata": {},
     "output_type": "execute_result"
    }
   ],
   "source": [
    "'Pos3ID'[3]"
   ]
  },
  {
   "cell_type": "code",
   "execution_count": 2,
   "id": "ab979c9b-c2e4-412e-81ba-2fb77e63c5a7",
   "metadata": {},
   "outputs": [
    {
     "ename": "ValueError",
     "evalue": "invalid literal for int() with base 10: 'Pos3ID'",
     "output_type": "error",
     "traceback": [
      "\u001b[1;31m---------------------------------------------------------------------------\u001b[0m",
      "\u001b[1;31mValueError\u001b[0m                                Traceback (most recent call last)",
      "Cell \u001b[1;32mIn[2], line 1\u001b[0m\n\u001b[1;32m----> 1\u001b[0m \u001b[38;5;28;43mint\u001b[39;49m\u001b[43m(\u001b[49m\u001b[38;5;124;43m'\u001b[39;49m\u001b[38;5;124;43mPos3ID\u001b[39;49m\u001b[38;5;124;43m'\u001b[39;49m\u001b[43m)\u001b[49m\n",
      "\u001b[1;31mValueError\u001b[0m: invalid literal for int() with base 10: 'Pos3ID'"
     ]
    }
   ],
   "source": [
    "int('Pos3ID')"
   ]
  },
  {
   "cell_type": "code",
   "execution_count": 4,
   "id": "e815deee-beac-4fc8-ad8e-93655e973740",
   "metadata": {},
   "outputs": [],
   "source": [
    "nik=str([1,2,3])"
   ]
  },
  {
   "cell_type": "code",
   "execution_count": 5,
   "id": "ba6495a8-f1a1-4990-a669-aef83de39e47",
   "metadata": {},
   "outputs": [
    {
     "data": {
      "text/plain": [
       "str"
      ]
     },
     "execution_count": 5,
     "metadata": {},
     "output_type": "execute_result"
    }
   ],
   "source": [
    "type(nik)"
   ]
  },
  {
   "cell_type": "code",
   "execution_count": null,
   "id": "f810094e-2348-42b9-a4c3-aa9f74ceb2c3",
   "metadata": {},
   "outputs": [],
   "source": []
  }
 ],
 "metadata": {
  "kernelspec": {
   "display_name": "Python 3 (ipykernel)",
   "language": "python",
   "name": "python3"
  },
  "language_info": {
   "codemirror_mode": {
    "name": "ipython",
    "version": 3
   },
   "file_extension": ".py",
   "mimetype": "text/x-python",
   "name": "python",
   "nbconvert_exporter": "python",
   "pygments_lexer": "ipython3",
   "version": "3.11.4"
  }
 },
 "nbformat": 4,
 "nbformat_minor": 5
}
