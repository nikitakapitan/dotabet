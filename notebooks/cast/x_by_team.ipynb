{
 "cells": [
  {
   "cell_type": "code",
   "execution_count": 14,
   "id": "0379fbd4-fa97-4806-b50a-e232fe3abfc1",
   "metadata": {},
   "outputs": [],
   "source": [
    "import pandas as pd\n",
    "import ast\n",
    "import numpy as np\n",
    "import dotabet\n",
    "\n",
    "input_file = r\"D:\\WORKSPACE\\dotabet\\data\\top_teams\\features.csv\"\n",
    "\n",
    "df= pd.read_csv(input_file)\n",
    "\n",
    "team_ids_to_include = [8255888, 8261500,8599101,9247354,36,8382433,39,2163,2586976,8291895,1838315,7119388,8724984,9255039,8574561,5,9303484]\n",
    "df = df[df['dire_team_id'].isin(team_ids_to_include) & df['radiant_team_id'].isin(team_ids_to_include)]\n",
    "\n",
    "assert all(df['missing_data'] == 0), \"Missing data present!\"\n",
    "df = df.drop(['missing_data', 'league_name', 'dire_name', 'radiant_name', 'dire_team_id', 'radiant_team_id', 'match_id', 'game_mode',\\\n",
    "        'leagueid', 'start_time', 'hero_id' ], axis=1)"
   ]
  },
  {
   "cell_type": "code",
   "execution_count": 3,
   "id": "82566f33-7c36-4b53-afa7-3269ad88f8d0",
   "metadata": {},
   "outputs": [],
   "source": [
    "string_agg = lambda x: x.mode().iloc[0]\n",
    "\n",
    "num_cols = df.select_dtypes(include=['int', 'float']).columns\n",
    "str_cols = df.select_dtypes(include=['object']).columns\n",
    "\n",
    "agg_dict = {col: 'mean' for col in num_cols}\n",
    "agg_dict.update({col: string_agg for col in str_cols})\n",
    "\n",
    "dfgroup = df.groupby('account_id')\n",
    "df = dfgroup.agg(agg_dict)"
   ]
  },
  {
   "cell_type": "code",
   "execution_count": 9,
   "id": "d43efddd-d675-4df6-8b65-bfd825af9eba",
   "metadata": {},
   "outputs": [
    {
     "data": {
      "application/vnd.plotly.v1+json": {
       "config": {
        "plotlyServerURL": "https://plot.ly"
       },
       "data": [
        {
         "hovertemplate": "<b>%{hovertext}</b><br><br>principal component 1=%{x}<br>principal component 2=%{y}<extra></extra>",
         "hovertext": [
          "suchislife",
          "sneyking",
          "tofu",
          "cr1t",
          "mc",
          "aui2",
          "mellojul",
          "insania",
          "dm",
          "noname73562326",
          "boxi",
          "All muted",
          "noname86698277.0",
          "arteezy",
          "puppey",
          "ceb",
          "seleri",
          "bzm",
          "malady",
          "fng",
          "topson",
          "fly",
          "xnova",
          "noname94738847",
          "noname94786276",
          "ace",
          "timado",
          "skiter",
          "fy",
          "thiolicor",
          "larl",
          "noname106863163",
          "ori",
          "wzayac",
          "suma1l",
          "miposhka",
          "nefrit",
          "sololeveling",
          "dyrachyo",
          "destroyed",
          "bach",
          "noname119576842",
          "squad1x",
          "respect",
          "nightfall",
          "v1olent",
          "saberlight",
          "crystallis",
          "xxs",
          "sonmorre",
          "noname136421659",
          "whitemon",
          "xm",
          "noname137193239",
          "pyw",
          "jt",
          "davailama",
          "noname140288368",
          "dy",
          "sayuw",
          "zeal",
          "monet",
          "m1cke",
          "abed",
          "knight",
          "fbz",
          "xinq",
          "scofield",
          "yftx",
          "9class",
          "ljcute",
          "k1",
          "miero",
          "yuragi",
          "cloud",
          "kiritych",
          "nothingtosay",
          "swedenstrong",
          "atf",
          "freestariybog",
          "lou",
          "kitrak",
          "boom",
          "shigetsu",
          "noticed",
          "noname199222238",
          "nisha",
          "noname202217968",
          "malik",
          "ghost",
          "boboka",
          "quinn",
          "noname228516683",
          "ekki",
          "noname238239590",
          "mira",
          "kordan",
          "wisper",
          "noname295697470",
          "collapse",
          "chirajunior",
          "noname317880638",
          "yatoro",
          "yopaj",
          "wild",
          "pure",
          "ari",
          "sanctity",
          "taiga",
          "torontotokyo",
          "gpk",
          "malr1ne",
          "ame",
          "munkushi",
          "daze"
         ],
         "legendgroup": "",
         "marker": {
          "color": "#636efa",
          "symbol": "circle"
         },
         "mode": "markers",
         "name": "",
         "orientation": "v",
         "showlegend": false,
         "textposition": "top center",
         "type": "scatter",
         "x": [
          -7.407071769160026,
          -6.48673428502022,
          -6.524394016067294,
          -5.975662626048856,
          0.3449633921285446,
          -6.725716257860596,
          2.168580034413759,
          -7.509562921291726,
          1.4000290832020768,
          1.8899471210893501,
          -6.1750102395699376,
          -6.738232122993813,
          3.1629963833115755,
          7.008313583724559,
          -6.5543923987006965,
          -6.347988865321708,
          -7.365784607192652,
          3.4784111311703314,
          -7.209242177345047,
          -7.336529517867048,
          3.391014567875003,
          -6.978120836620028,
          -7.827331527060487,
          0.3915567990274974,
          -1.7944005854603438,
          2.6619431144577224,
          5.919529279179581,
          7.93230956949694,
          -4.832146983663199,
          -6.658535329086813,
          4.601145925872395,
          2.8981319261834444,
          4.378304829856159,
          -7.165192664563581,
          2.4002220888100636,
          -7.361407185286322,
          2.727949642099669,
          3.0301604779204308,
          6.052687448986864,
          2.036199597322724,
          1.77026592373972,
          -8.004174337239201,
          6.256722750789753,
          -7.661169394296905,
          8.125221324928436,
          11.617635399957367,
          1.9627341578449793,
          4.8637087737461435,
          2.548885719128467,
          3.6936177110645336,
          -10.11943776231119,
          -7.406550884232141,
          3.9895495975841326,
          1.0960826632737377,
          -8.353353455708568,
          2.6100658068499816,
          1.3783919772626403,
          0.47980696697026,
          -7.495108602382104,
          -6.02878257197228,
          -0.8593195548864355,
          8.128409939832181,
          6.614032381186272,
          4.2261781506533245,
          7.992303100798087,
          2.4336398981678764,
          -5.69438602814804,
          -7.323114355532834,
          -7.413864114700615,
          -6.696050592479824,
          4.070749951567408,
          9.337788396290161,
          2.0653729042036346,
          7.059600332080842,
          2.380773472626329,
          7.603369390217517,
          2.2594327087854933,
          -5.9993064573734785,
          3.5935168115771083,
          4.296917163350574,
          7.5955071356132855,
          -7.976439008540546,
          2.430791436769649,
          6.839701362685457,
          2.538335488580958,
          -0.006543303777447945,
          5.109241498404448,
          2.246630583279152,
          1.4241956715619533,
          4.938149982882909,
          -5.488023882210918,
          4.176174568485017,
          2.2253292644246243,
          -7.230402213338446,
          4.672481122229575,
          -6.581945182384144,
          3.3625652442117144,
          1.3617987172402273,
          -6.626849349912356,
          3.268383269183784,
          3.2216447709757956,
          -6.5683845631209214,
          9.301152961170557,
          4.46081984075033,
          -8.585414946872634,
          6.524998853539854,
          -5.850238399322279,
          4.1661922047690645,
          -8.345033849901009,
          -6.757537178180548,
          5.543697308379673,
          5.528989240847281,
          7.028248369536552,
          8.5186907916978,
          -6.768002152820064
         ],
         "xaxis": "x",
         "y": [
          0.05178443636870575,
          1.408105446006297,
          0.20067445090900807,
          0.0010685788219559175,
          -0.9122952457147278,
          1.9299613744225683,
          -1.759145319760454,
          1.0290867335498441,
          -0.41841500189022474,
          -0.5674246467805971,
          -0.01865423070381887,
          1.478473364943482,
          -0.2548242073719893,
          1.9794932206798057,
          0.5151188926589808,
          0.5599470675350791,
          0.699476697024757,
          -1.8999560624935128,
          1.0343599478999081,
          1.9166868433908868,
          -1.9642248634719284,
          0.9847215061239822,
          1.9848863712414837,
          -0.9091243487510152,
          -1.260215062343476,
          -0.050071790241566015,
          0.9689712380352304,
          1.7729649386136381,
          0.4057490699166314,
          -0.0739532690912327,
          -1.5934992655015943,
          -2.093840629660547,
          -1.38267095361407,
          1.093011990164622,
          -3.484197178094728,
          2.055641672679442,
          -0.7580040605788692,
          -1.7785523885753725,
          1.7022436142512896,
          -0.7990949229234059,
          -0.36196342250496183,
          -0.26808915333588784,
          -1.4096916830519146,
          0.9298971264992717,
          2.7199147122763145,
          4.4842943631034595,
          -0.9406868748585077,
          0.47317968134788385,
          -1.3577977544136506,
          -2.767139621886791,
          0.5963261745837288,
          0.1893710618943611,
          -1.4647840575450002,
          -3.6355654361411136,
          -1.6866096078110435,
          0.14740750643076359,
          -1.2997345283173591,
          -2.201396575059682,
          0.6811669378342974,
          0.8137841453442606,
          -0.6184311915225246,
          2.906006706730541,
          0.9660082448876514,
          -2.1496538710259236,
          4.082220815549215,
          -0.22012348701115889,
          0.08301096110764908,
          -0.4078348518212861,
          1.0685226178697935,
          0.07340043679116752,
          -1.4112874837246567,
          3.7766461397404383,
          -0.8672050268797732,
          1.7324007617801689,
          -0.41246713931589296,
          2.6528121474113866,
          -1.942472769603464,
          0.09119843567249449,
          -1.0054496889002047,
          -1.4027774207395431,
          2.7557252289281875,
          0.7779535559982599,
          -1.3584002764178966,
          2.601056635575284,
          -0.47366041107705353,
          -2.7302817521374854,
          -1.699163809433473,
          -1.2469951453085966,
          0.5561820828724746,
          0.05547662233477737,
          0.9333269726803112,
          -2.2018944505585316,
          2.515320866690649,
          0.28649573755503394,
          -2.6503082802197966,
          0.5959478018238563,
          -1.7503226874757052,
          -1.5042860701566265,
          -0.4531212876375745,
          -0.6131626831629942,
          -2.085296544293943,
          0.2152717545537973,
          3.6202019449560012,
          -2.6388444574304697,
          1.1564334977023807,
          1.0841443058735043,
          -0.37334010526468575,
          -2.4350401853112875,
          -0.3968229020709073,
          1.7439720184645038,
          -1.7115473806966397,
          -0.9162143390319212,
          3.1014102434943434,
          2.8428057398252835,
          -0.03369358070202806
         ],
         "yaxis": "y"
        }
       ],
       "layout": {
        "height": 800,
        "legend": {
         "tracegroupgap": 0
        },
        "template": {
         "data": {
          "bar": [
           {
            "error_x": {
             "color": "#2a3f5f"
            },
            "error_y": {
             "color": "#2a3f5f"
            },
            "marker": {
             "line": {
              "color": "#E5ECF6",
              "width": 0.5
             },
             "pattern": {
              "fillmode": "overlay",
              "size": 10,
              "solidity": 0.2
             }
            },
            "type": "bar"
           }
          ],
          "barpolar": [
           {
            "marker": {
             "line": {
              "color": "#E5ECF6",
              "width": 0.5
             },
             "pattern": {
              "fillmode": "overlay",
              "size": 10,
              "solidity": 0.2
             }
            },
            "type": "barpolar"
           }
          ],
          "carpet": [
           {
            "aaxis": {
             "endlinecolor": "#2a3f5f",
             "gridcolor": "white",
             "linecolor": "white",
             "minorgridcolor": "white",
             "startlinecolor": "#2a3f5f"
            },
            "baxis": {
             "endlinecolor": "#2a3f5f",
             "gridcolor": "white",
             "linecolor": "white",
             "minorgridcolor": "white",
             "startlinecolor": "#2a3f5f"
            },
            "type": "carpet"
           }
          ],
          "choropleth": [
           {
            "colorbar": {
             "outlinewidth": 0,
             "ticks": ""
            },
            "type": "choropleth"
           }
          ],
          "contour": [
           {
            "colorbar": {
             "outlinewidth": 0,
             "ticks": ""
            },
            "colorscale": [
             [
              0,
              "#0d0887"
             ],
             [
              0.1111111111111111,
              "#46039f"
             ],
             [
              0.2222222222222222,
              "#7201a8"
             ],
             [
              0.3333333333333333,
              "#9c179e"
             ],
             [
              0.4444444444444444,
              "#bd3786"
             ],
             [
              0.5555555555555556,
              "#d8576b"
             ],
             [
              0.6666666666666666,
              "#ed7953"
             ],
             [
              0.7777777777777778,
              "#fb9f3a"
             ],
             [
              0.8888888888888888,
              "#fdca26"
             ],
             [
              1,
              "#f0f921"
             ]
            ],
            "type": "contour"
           }
          ],
          "contourcarpet": [
           {
            "colorbar": {
             "outlinewidth": 0,
             "ticks": ""
            },
            "type": "contourcarpet"
           }
          ],
          "heatmap": [
           {
            "colorbar": {
             "outlinewidth": 0,
             "ticks": ""
            },
            "colorscale": [
             [
              0,
              "#0d0887"
             ],
             [
              0.1111111111111111,
              "#46039f"
             ],
             [
              0.2222222222222222,
              "#7201a8"
             ],
             [
              0.3333333333333333,
              "#9c179e"
             ],
             [
              0.4444444444444444,
              "#bd3786"
             ],
             [
              0.5555555555555556,
              "#d8576b"
             ],
             [
              0.6666666666666666,
              "#ed7953"
             ],
             [
              0.7777777777777778,
              "#fb9f3a"
             ],
             [
              0.8888888888888888,
              "#fdca26"
             ],
             [
              1,
              "#f0f921"
             ]
            ],
            "type": "heatmap"
           }
          ],
          "heatmapgl": [
           {
            "colorbar": {
             "outlinewidth": 0,
             "ticks": ""
            },
            "colorscale": [
             [
              0,
              "#0d0887"
             ],
             [
              0.1111111111111111,
              "#46039f"
             ],
             [
              0.2222222222222222,
              "#7201a8"
             ],
             [
              0.3333333333333333,
              "#9c179e"
             ],
             [
              0.4444444444444444,
              "#bd3786"
             ],
             [
              0.5555555555555556,
              "#d8576b"
             ],
             [
              0.6666666666666666,
              "#ed7953"
             ],
             [
              0.7777777777777778,
              "#fb9f3a"
             ],
             [
              0.8888888888888888,
              "#fdca26"
             ],
             [
              1,
              "#f0f921"
             ]
            ],
            "type": "heatmapgl"
           }
          ],
          "histogram": [
           {
            "marker": {
             "pattern": {
              "fillmode": "overlay",
              "size": 10,
              "solidity": 0.2
             }
            },
            "type": "histogram"
           }
          ],
          "histogram2d": [
           {
            "colorbar": {
             "outlinewidth": 0,
             "ticks": ""
            },
            "colorscale": [
             [
              0,
              "#0d0887"
             ],
             [
              0.1111111111111111,
              "#46039f"
             ],
             [
              0.2222222222222222,
              "#7201a8"
             ],
             [
              0.3333333333333333,
              "#9c179e"
             ],
             [
              0.4444444444444444,
              "#bd3786"
             ],
             [
              0.5555555555555556,
              "#d8576b"
             ],
             [
              0.6666666666666666,
              "#ed7953"
             ],
             [
              0.7777777777777778,
              "#fb9f3a"
             ],
             [
              0.8888888888888888,
              "#fdca26"
             ],
             [
              1,
              "#f0f921"
             ]
            ],
            "type": "histogram2d"
           }
          ],
          "histogram2dcontour": [
           {
            "colorbar": {
             "outlinewidth": 0,
             "ticks": ""
            },
            "colorscale": [
             [
              0,
              "#0d0887"
             ],
             [
              0.1111111111111111,
              "#46039f"
             ],
             [
              0.2222222222222222,
              "#7201a8"
             ],
             [
              0.3333333333333333,
              "#9c179e"
             ],
             [
              0.4444444444444444,
              "#bd3786"
             ],
             [
              0.5555555555555556,
              "#d8576b"
             ],
             [
              0.6666666666666666,
              "#ed7953"
             ],
             [
              0.7777777777777778,
              "#fb9f3a"
             ],
             [
              0.8888888888888888,
              "#fdca26"
             ],
             [
              1,
              "#f0f921"
             ]
            ],
            "type": "histogram2dcontour"
           }
          ],
          "mesh3d": [
           {
            "colorbar": {
             "outlinewidth": 0,
             "ticks": ""
            },
            "type": "mesh3d"
           }
          ],
          "parcoords": [
           {
            "line": {
             "colorbar": {
              "outlinewidth": 0,
              "ticks": ""
             }
            },
            "type": "parcoords"
           }
          ],
          "pie": [
           {
            "automargin": true,
            "type": "pie"
           }
          ],
          "scatter": [
           {
            "fillpattern": {
             "fillmode": "overlay",
             "size": 10,
             "solidity": 0.2
            },
            "type": "scatter"
           }
          ],
          "scatter3d": [
           {
            "line": {
             "colorbar": {
              "outlinewidth": 0,
              "ticks": ""
             }
            },
            "marker": {
             "colorbar": {
              "outlinewidth": 0,
              "ticks": ""
             }
            },
            "type": "scatter3d"
           }
          ],
          "scattercarpet": [
           {
            "marker": {
             "colorbar": {
              "outlinewidth": 0,
              "ticks": ""
             }
            },
            "type": "scattercarpet"
           }
          ],
          "scattergeo": [
           {
            "marker": {
             "colorbar": {
              "outlinewidth": 0,
              "ticks": ""
             }
            },
            "type": "scattergeo"
           }
          ],
          "scattergl": [
           {
            "marker": {
             "colorbar": {
              "outlinewidth": 0,
              "ticks": ""
             }
            },
            "type": "scattergl"
           }
          ],
          "scattermapbox": [
           {
            "marker": {
             "colorbar": {
              "outlinewidth": 0,
              "ticks": ""
             }
            },
            "type": "scattermapbox"
           }
          ],
          "scatterpolar": [
           {
            "marker": {
             "colorbar": {
              "outlinewidth": 0,
              "ticks": ""
             }
            },
            "type": "scatterpolar"
           }
          ],
          "scatterpolargl": [
           {
            "marker": {
             "colorbar": {
              "outlinewidth": 0,
              "ticks": ""
             }
            },
            "type": "scatterpolargl"
           }
          ],
          "scatterternary": [
           {
            "marker": {
             "colorbar": {
              "outlinewidth": 0,
              "ticks": ""
             }
            },
            "type": "scatterternary"
           }
          ],
          "surface": [
           {
            "colorbar": {
             "outlinewidth": 0,
             "ticks": ""
            },
            "colorscale": [
             [
              0,
              "#0d0887"
             ],
             [
              0.1111111111111111,
              "#46039f"
             ],
             [
              0.2222222222222222,
              "#7201a8"
             ],
             [
              0.3333333333333333,
              "#9c179e"
             ],
             [
              0.4444444444444444,
              "#bd3786"
             ],
             [
              0.5555555555555556,
              "#d8576b"
             ],
             [
              0.6666666666666666,
              "#ed7953"
             ],
             [
              0.7777777777777778,
              "#fb9f3a"
             ],
             [
              0.8888888888888888,
              "#fdca26"
             ],
             [
              1,
              "#f0f921"
             ]
            ],
            "type": "surface"
           }
          ],
          "table": [
           {
            "cells": {
             "fill": {
              "color": "#EBF0F8"
             },
             "line": {
              "color": "white"
             }
            },
            "header": {
             "fill": {
              "color": "#C8D4E3"
             },
             "line": {
              "color": "white"
             }
            },
            "type": "table"
           }
          ]
         },
         "layout": {
          "annotationdefaults": {
           "arrowcolor": "#2a3f5f",
           "arrowhead": 0,
           "arrowwidth": 1
          },
          "autotypenumbers": "strict",
          "coloraxis": {
           "colorbar": {
            "outlinewidth": 0,
            "ticks": ""
           }
          },
          "colorscale": {
           "diverging": [
            [
             0,
             "#8e0152"
            ],
            [
             0.1,
             "#c51b7d"
            ],
            [
             0.2,
             "#de77ae"
            ],
            [
             0.3,
             "#f1b6da"
            ],
            [
             0.4,
             "#fde0ef"
            ],
            [
             0.5,
             "#f7f7f7"
            ],
            [
             0.6,
             "#e6f5d0"
            ],
            [
             0.7,
             "#b8e186"
            ],
            [
             0.8,
             "#7fbc41"
            ],
            [
             0.9,
             "#4d9221"
            ],
            [
             1,
             "#276419"
            ]
           ],
           "sequential": [
            [
             0,
             "#0d0887"
            ],
            [
             0.1111111111111111,
             "#46039f"
            ],
            [
             0.2222222222222222,
             "#7201a8"
            ],
            [
             0.3333333333333333,
             "#9c179e"
            ],
            [
             0.4444444444444444,
             "#bd3786"
            ],
            [
             0.5555555555555556,
             "#d8576b"
            ],
            [
             0.6666666666666666,
             "#ed7953"
            ],
            [
             0.7777777777777778,
             "#fb9f3a"
            ],
            [
             0.8888888888888888,
             "#fdca26"
            ],
            [
             1,
             "#f0f921"
            ]
           ],
           "sequentialminus": [
            [
             0,
             "#0d0887"
            ],
            [
             0.1111111111111111,
             "#46039f"
            ],
            [
             0.2222222222222222,
             "#7201a8"
            ],
            [
             0.3333333333333333,
             "#9c179e"
            ],
            [
             0.4444444444444444,
             "#bd3786"
            ],
            [
             0.5555555555555556,
             "#d8576b"
            ],
            [
             0.6666666666666666,
             "#ed7953"
            ],
            [
             0.7777777777777778,
             "#fb9f3a"
            ],
            [
             0.8888888888888888,
             "#fdca26"
            ],
            [
             1,
             "#f0f921"
            ]
           ]
          },
          "colorway": [
           "#636efa",
           "#EF553B",
           "#00cc96",
           "#ab63fa",
           "#FFA15A",
           "#19d3f3",
           "#FF6692",
           "#B6E880",
           "#FF97FF",
           "#FECB52"
          ],
          "font": {
           "color": "#2a3f5f"
          },
          "geo": {
           "bgcolor": "white",
           "lakecolor": "white",
           "landcolor": "#E5ECF6",
           "showlakes": true,
           "showland": true,
           "subunitcolor": "white"
          },
          "hoverlabel": {
           "align": "left"
          },
          "hovermode": "closest",
          "mapbox": {
           "style": "light"
          },
          "paper_bgcolor": "white",
          "plot_bgcolor": "#E5ECF6",
          "polar": {
           "angularaxis": {
            "gridcolor": "white",
            "linecolor": "white",
            "ticks": ""
           },
           "bgcolor": "#E5ECF6",
           "radialaxis": {
            "gridcolor": "white",
            "linecolor": "white",
            "ticks": ""
           }
          },
          "scene": {
           "xaxis": {
            "backgroundcolor": "#E5ECF6",
            "gridcolor": "white",
            "gridwidth": 2,
            "linecolor": "white",
            "showbackground": true,
            "ticks": "",
            "zerolinecolor": "white"
           },
           "yaxis": {
            "backgroundcolor": "#E5ECF6",
            "gridcolor": "white",
            "gridwidth": 2,
            "linecolor": "white",
            "showbackground": true,
            "ticks": "",
            "zerolinecolor": "white"
           },
           "zaxis": {
            "backgroundcolor": "#E5ECF6",
            "gridcolor": "white",
            "gridwidth": 2,
            "linecolor": "white",
            "showbackground": true,
            "ticks": "",
            "zerolinecolor": "white"
           }
          },
          "shapedefaults": {
           "line": {
            "color": "#2a3f5f"
           }
          },
          "ternary": {
           "aaxis": {
            "gridcolor": "white",
            "linecolor": "white",
            "ticks": ""
           },
           "baxis": {
            "gridcolor": "white",
            "linecolor": "white",
            "ticks": ""
           },
           "bgcolor": "#E5ECF6",
           "caxis": {
            "gridcolor": "white",
            "linecolor": "white",
            "ticks": ""
           }
          },
          "title": {
           "x": 0.05
          },
          "xaxis": {
           "automargin": true,
           "gridcolor": "white",
           "linecolor": "white",
           "ticks": "",
           "title": {
            "standoff": 15
           },
           "zerolinecolor": "white",
           "zerolinewidth": 2
          },
          "yaxis": {
           "automargin": true,
           "gridcolor": "white",
           "linecolor": "white",
           "ticks": "",
           "title": {
            "standoff": 15
           },
           "zerolinecolor": "white",
           "zerolinewidth": 2
          }
         }
        },
        "title": {
         "text": "PCA of Player Data with Player Names"
        },
        "width": 1000,
        "xaxis": {
         "anchor": "y",
         "autorange": true,
         "domain": [
          0,
          1
         ],
         "range": [
          -11.44805646261017,
          12.946254100256347
         ],
         "title": {
          "text": "principal component 1"
         },
         "type": "linear"
        },
        "yaxis": {
         "anchor": "x",
         "autorange": true,
         "domain": [
          0,
          1
         ],
         "range": [
          -4.1481269766020565,
          4.996855903564402
         ],
         "title": {
          "text": "principal component 2"
         },
         "type": "linear"
        }
       }
      },
      "image/png": "[encoded data removed]",
      "text/html": [
       "<div>                            <div id=\"bda0d6ae-6ead-4697-9d85-9dda31ed4792\" class=\"plotly-graph-div\" style=\"height:800px; width:1000px;\"></div>            <script type=\"text/javascript\">                require([\"plotly\"], function(Plotly) {                    window.PLOTLYENV=window.PLOTLYENV || {};                                    if (document.getElementById(\"bda0d6ae-6ead-4697-9d85-9dda31ed4792\")) {                    Plotly.newPlot(                        \"bda0d6ae-6ead-4697-9d85-9dda31ed4792\",                        [{\"hovertemplate\":\"\\u003cb\\u003e%{hovertext}\\u003c\\u002fb\\u003e\\u003cbr\\u003e\\u003cbr\\u003eprincipal component 1=%{x}\\u003cbr\\u003eprincipal component 2=%{y}\\u003cextra\\u003e\\u003c\\u002fextra\\u003e\",\"hovertext\":[\"suchislife\",\"sneyking\",\"tofu\",\"cr1t\",\"mc\",\"aui2\",\"mellojul\",\"insania\",\"dm\",\"noname73562326\",\"boxi\",\"All muted\",\"noname86698277.0\",\"arteezy\",\"puppey\",\"ceb\",\"seleri\",\"bzm\",\"malady\",\"fng\",\"topson\",\"fly\",\"xnova\",\"noname94738847\",\"noname94786276\",\"ace\",\"timado\",\"skiter\",\"fy\",\"thiolicor\",\"larl\",\"noname106863163\",\"ori\",\"wzayac\",\"suma1l\",\"miposhka\",\"nefrit\",\"sololeveling\",\"dyrachyo\",\"destroyed\",\"bach\",\"noname119576842\",\"squad1x\",\"respect\",\"nightfall\",\"v1olent\",\"saberlight\",\"crystallis\",\"xxs\",\"sonmorre\",\"noname136421659\",\"whitemon\",\"xm\",\"noname137193239\",\"pyw\",\"jt\",\"davailama\",\"noname140288368\",\"dy\",\"sayuw\",\"zeal\",\"monet\",\"m1cke\",\"abed\",\"knight\",\"fbz\",\"xinq\",\"scofield\",\"yftx\",\"9class\",\"ljcute\",\"k1\",\"miero\",\"yuragi\",\"cloud\",\"kiritych\",\"nothingtosay\",\"swedenstrong\",\"atf\",\"freestariybog\",\"lou\",\"kitrak\",\"boom\",\"shigetsu\",\"noticed\",\"noname199222238\",\"nisha\",\"noname202217968\",\"malik\",\"ghost\",\"boboka\",\"quinn\",\"noname228516683\",\"ekki\",\"noname238239590\",\"mira\",\"kordan\",\"wisper\",\"noname295697470\",\"collapse\",\"chirajunior\",\"noname317880638\",\"yatoro\",\"yopaj\",\"wild\",\"pure\",\"ari\",\"sanctity\",\"taiga\",\"torontotokyo\",\"gpk\",\"malr1ne\",\"ame\",\"munkushi\",\"daze\"],\"legendgroup\":\"\",\"marker\":{\"color\":\"#636efa\",\"symbol\":\"circle\"},\"mode\":\"markers\",\"name\":\"\",\"orientation\":\"v\",\"showlegend\":false,\"x\":[-7.407071769160026,-6.48673428502022,-6.524394016067294,-5.975662626048856,0.3449633921285446,-6.725716257860596,2.168580034413759,-7.509562921291726,1.4000290832020768,1.8899471210893501,-6.1750102395699376,-6.738232122993813,3.1629963833115755,7.008313583724559,-6.5543923987006965,-6.347988865321708,-7.365784607192652,3.4784111311703314,-7.209242177345047,-7.336529517867048,3.391014567875003,-6.978120836620028,-7.827331527060487,0.3915567990274974,-1.7944005854603438,2.6619431144577224,5.919529279179581,7.93230956949694,-4.832146983663199,-6.658535329086813,4.601145925872395,2.8981319261834444,4.378304829856159,-7.165192664563581,2.4002220888100636,-7.361407185286322,2.727949642099669,3.0301604779204308,6.052687448986864,2.036199597322724,1.77026592373972,-8.004174337239201,6.256722750789753,-7.661169394296905,8.125221324928436,11.617635399957367,1.9627341578449793,4.8637087737461435,2.548885719128467,3.6936177110645336,-10.11943776231119,-7.406550884232141,3.9895495975841326,1.0960826632737377,-8.353353455708568,2.6100658068499816,1.3783919772626403,0.47980696697026,-7.495108602382104,-6.02878257197228,-0.8593195548864355,8.128409939832181,6.614032381186272,4.2261781506533245,7.992303100798087,2.4336398981678764,-5.69438602814804,-7.323114355532834,-7.413864114700615,-6.696050592479824,4.070749951567408,9.337788396290161,2.0653729042036346,7.059600332080842,2.380773472626329,7.603369390217517,2.2594327087854933,-5.9993064573734785,3.5935168115771083,4.296917163350574,7.5955071356132855,-7.976439008540546,2.430791436769649,6.839701362685457,2.538335488580958,-0.006543303777447945,5.109241498404448,2.246630583279152,1.4241956715619533,4.938149982882909,-5.488023882210918,4.176174568485017,2.2253292644246243,-7.230402213338446,4.672481122229575,-6.581945182384144,3.3625652442117144,1.3617987172402273,-6.626849349912356,3.268383269183784,3.2216447709757956,-6.5683845631209214,9.301152961170557,4.46081984075033,-8.585414946872634,6.524998853539854,-5.850238399322279,4.1661922047690645,-8.345033849901009,-6.757537178180548,5.543697308379673,5.528989240847281,7.028248369536552,8.5186907916978,-6.768002152820064],\"xaxis\":\"x\",\"y\":[0.05178443636870575,1.408105446006297,0.20067445090900807,0.0010685788219559175,-0.9122952457147278,1.9299613744225683,-1.759145319760454,1.0290867335498441,-0.41841500189022474,-0.5674246467805971,-0.01865423070381887,1.478473364943482,-0.2548242073719893,1.9794932206798057,0.5151188926589808,0.5599470675350791,0.699476697024757,-1.8999560624935128,1.0343599478999081,1.9166868433908868,-1.9642248634719284,0.9847215061239822,1.9848863712414837,-0.9091243487510152,-1.260215062343476,-0.050071790241566015,0.9689712380352304,1.7729649386136381,0.4057490699166314,-0.0739532690912327,-1.5934992655015943,-2.093840629660547,-1.38267095361407,1.093011990164622,-3.484197178094728,2.055641672679442,-0.7580040605788692,-1.7785523885753725,1.7022436142512896,-0.7990949229234059,-0.36196342250496183,-0.26808915333588784,-1.4096916830519146,0.9298971264992717,2.7199147122763145,4.4842943631034595,-0.9406868748585077,0.47317968134788385,-1.3577977544136506,-2.767139621886791,0.5963261745837288,0.1893710618943611,-1.4647840575450002,-3.6355654361411136,-1.6866096078110435,0.14740750643076359,-1.2997345283173591,-2.201396575059682,0.6811669378342974,0.8137841453442606,-0.6184311915225246,2.906006706730541,0.9660082448876514,-2.1496538710259236,4.082220815549215,-0.22012348701115889,0.08301096110764908,-0.4078348518212861,1.0685226178697935,0.07340043679116752,-1.4112874837246567,3.7766461397404383,-0.8672050268797732,1.7324007617801689,-0.41246713931589296,2.6528121474113866,-1.942472769603464,0.09119843567249449,-1.0054496889002047,-1.4027774207395431,2.7557252289281875,0.7779535559982599,-1.3584002764178966,2.601056635575284,-0.47366041107705353,-2.7302817521374854,-1.699163809433473,-1.2469951453085966,0.5561820828724746,0.05547662233477737,0.9333269726803112,-2.2018944505585316,2.515320866690649,0.28649573755503394,-2.6503082802197966,0.5959478018238563,-1.7503226874757052,-1.5042860701566265,-0.4531212876375745,-0.6131626831629942,-2.085296544293943,0.2152717545537973,3.6202019449560012,-2.6388444574304697,1.1564334977023807,1.0841443058735043,-0.37334010526468575,-2.4350401853112875,-0.3968229020709073,1.7439720184645038,-1.7115473806966397,-0.9162143390319212,3.1014102434943434,2.8428057398252835,-0.03369358070202806],\"yaxis\":\"y\",\"type\":\"scatter\",\"textposition\":\"top center\"}],                        {\"template\":{\"data\":{\"histogram2dcontour\":[{\"type\":\"histogram2dcontour\",\"colorbar\":{\"outlinewidth\":0,\"ticks\":\"\"},\"colorscale\":[[0.0,\"#0d0887\"],[0.1111111111111111,\"#46039f\"],[0.2222222222222222,\"#7201a8\"],[0.3333333333333333,\"#9c179e\"],[0.4444444444444444,\"#bd3786\"],[0.5555555555555556,\"#d8576b\"],[0.6666666666666666,\"#ed7953\"],[0.7777777777777778,\"#fb9f3a\"],[0.8888888888888888,\"#fdca26\"],[1.0,\"#f0f921\"]]}],\"choropleth\":[{\"type\":\"choropleth\",\"colorbar\":{\"outlinewidth\":0,\"ticks\":\"\"}}],\"histogram2d\":[{\"type\":\"histogram2d\",\"colorbar\":{\"outlinewidth\":0,\"ticks\":\"\"},\"colorscale\":[[0.0,\"#0d0887\"],[0.1111111111111111,\"#46039f\"],[0.2222222222222222,\"#7201a8\"],[0.3333333333333333,\"#9c179e\"],[0.4444444444444444,\"#bd3786\"],[0.5555555555555556,\"#d8576b\"],[0.6666666666666666,\"#ed7953\"],[0.7777777777777778,\"#fb9f3a\"],[0.8888888888888888,\"#fdca26\"],[1.0,\"#f0f921\"]]}],\"heatmap\":[{\"type\":\"heatmap\",\"colorbar\":{\"outlinewidth\":0,\"ticks\":\"\"},\"colorscale\":[[0.0,\"#0d0887\"],[0.1111111111111111,\"#46039f\"],[0.2222222222222222,\"#7201a8\"],[0.3333333333333333,\"#9c179e\"],[0.4444444444444444,\"#bd3786\"],[0.5555555555555556,\"#d8576b\"],[0.6666666666666666,\"#ed7953\"],[0.7777777777777778,\"#fb9f3a\"],[0.8888888888888888,\"#fdca26\"],[1.0,\"#f0f921\"]]}],\"heatmapgl\":[{\"type\":\"heatmapgl\",\"colorbar\":{\"outlinewidth\":0,\"ticks\":\"\"},\"colorscale\":[[0.0,\"#0d0887\"],[0.1111111111111111,\"#46039f\"],[0.2222222222222222,\"#7201a8\"],[0.3333333333333333,\"#9c179e\"],[0.4444444444444444,\"#bd3786\"],[0.5555555555555556,\"#d8576b\"],[0.6666666666666666,\"#ed7953\"],[0.7777777777777778,\"#fb9f3a\"],[0.8888888888888888,\"#fdca26\"],[1.0,\"#f0f921\"]]}],\"contourcarpet\":[{\"type\":\"contourcarpet\",\"colorbar\":{\"outlinewidth\":0,\"ticks\":\"\"}}],\"contour\":[{\"type\":\"contour\",\"colorbar\":{\"outlinewidth\":0,\"ticks\":\"\"},\"colorscale\":[[0.0,\"#0d0887\"],[0.1111111111111111,\"#46039f\"],[0.2222222222222222,\"#7201a8\"],[0.3333333333333333,\"#9c179e\"],[0.4444444444444444,\"#bd3786\"],[0.5555555555555556,\"#d8576b\"],[0.6666666666666666,\"#ed7953\"],[0.7777777777777778,\"#fb9f3a\"],[0.8888888888888888,\"#fdca26\"],[1.0,\"#f0f921\"]]}],\"surface\":[{\"type\":\"surface\",\"colorbar\":{\"outlinewidth\":0,\"ticks\":\"\"},\"colorscale\":[[0.0,\"#0d0887\"],[0.1111111111111111,\"#46039f\"],[0.2222222222222222,\"#7201a8\"],[0.3333333333333333,\"#9c179e\"],[0.4444444444444444,\"#bd3786\"],[0.5555555555555556,\"#d8576b\"],[0.6666666666666666,\"#ed7953\"],[0.7777777777777778,\"#fb9f3a\"],[0.8888888888888888,\"#fdca26\"],[1.0,\"#f0f921\"]]}],\"mesh3d\":[{\"type\":\"mesh3d\",\"colorbar\":{\"outlinewidth\":0,\"ticks\":\"\"}}],\"scatter\":[{\"fillpattern\":{\"fillmode\":\"overlay\",\"size\":10,\"solidity\":0.2},\"type\":\"scatter\"}],\"parcoords\":[{\"type\":\"parcoords\",\"line\":{\"colorbar\":{\"outlinewidth\":0,\"ticks\":\"\"}}}],\"scatterpolargl\":[{\"type\":\"scatterpolargl\",\"marker\":{\"colorbar\":{\"outlinewidth\":0,\"ticks\":\"\"}}}],\"bar\":[{\"error_x\":{\"color\":\"#2a3f5f\"},\"error_y\":{\"color\":\"#2a3f5f\"},\"marker\":{\"line\":{\"color\":\"#E5ECF6\",\"width\":0.5},\"pattern\":{\"fillmode\":\"overlay\",\"size\":10,\"solidity\":0.2}},\"type\":\"bar\"}],\"scattergeo\":[{\"type\":\"scattergeo\",\"marker\":{\"colorbar\":{\"outlinewidth\":0,\"ticks\":\"\"}}}],\"scatterpolar\":[{\"type\":\"scatterpolar\",\"marker\":{\"colorbar\":{\"outlinewidth\":0,\"ticks\":\"\"}}}],\"histogram\":[{\"marker\":{\"pattern\":{\"fillmode\":\"overlay\",\"size\":10,\"solidity\":0.2}},\"type\":\"histogram\"}],\"scattergl\":[{\"type\":\"scattergl\",\"marker\":{\"colorbar\":{\"outlinewidth\":0,\"ticks\":\"\"}}}],\"scatter3d\":[{\"type\":\"scatter3d\",\"line\":{\"colorbar\":{\"outlinewidth\":0,\"ticks\":\"\"}},\"marker\":{\"colorbar\":{\"outlinewidth\":0,\"ticks\":\"\"}}}],\"scattermapbox\":[{\"type\":\"scattermapbox\",\"marker\":{\"colorbar\":{\"outlinewidth\":0,\"ticks\":\"\"}}}],\"scatterternary\":[{\"type\":\"scatterternary\",\"marker\":{\"colorbar\":{\"outlinewidth\":0,\"ticks\":\"\"}}}],\"scattercarpet\":[{\"type\":\"scattercarpet\",\"marker\":{\"colorbar\":{\"outlinewidth\":0,\"ticks\":\"\"}}}],\"carpet\":[{\"aaxis\":{\"endlinecolor\":\"#2a3f5f\",\"gridcolor\":\"white\",\"linecolor\":\"white\",\"minorgridcolor\":\"white\",\"startlinecolor\":\"#2a3f5f\"},\"baxis\":{\"endlinecolor\":\"#2a3f5f\",\"gridcolor\":\"white\",\"linecolor\":\"white\",\"minorgridcolor\":\"white\",\"startlinecolor\":\"#2a3f5f\"},\"type\":\"carpet\"}],\"table\":[{\"cells\":{\"fill\":{\"color\":\"#EBF0F8\"},\"line\":{\"color\":\"white\"}},\"header\":{\"fill\":{\"color\":\"#C8D4E3\"},\"line\":{\"color\":\"white\"}},\"type\":\"table\"}],\"barpolar\":[{\"marker\":{\"line\":{\"color\":\"#E5ECF6\",\"width\":0.5},\"pattern\":{\"fillmode\":\"overlay\",\"size\":10,\"solidity\":0.2}},\"type\":\"barpolar\"}],\"pie\":[{\"automargin\":true,\"type\":\"pie\"}]},\"layout\":{\"autotypenumbers\":\"strict\",\"colorway\":[\"#636efa\",\"#EF553B\",\"#00cc96\",\"#ab63fa\",\"#FFA15A\",\"#19d3f3\",\"#FF6692\",\"#B6E880\",\"#FF97FF\",\"#FECB52\"],\"font\":{\"color\":\"#2a3f5f\"},\"hovermode\":\"closest\",\"hoverlabel\":{\"align\":\"left\"},\"paper_bgcolor\":\"white\",\"plot_bgcolor\":\"#E5ECF6\",\"polar\":{\"bgcolor\":\"#E5ECF6\",\"angularaxis\":{\"gridcolor\":\"white\",\"linecolor\":\"white\",\"ticks\":\"\"},\"radialaxis\":{\"gridcolor\":\"white\",\"linecolor\":\"white\",\"ticks\":\"\"}},\"ternary\":{\"bgcolor\":\"#E5ECF6\",\"aaxis\":{\"gridcolor\":\"white\",\"linecolor\":\"white\",\"ticks\":\"\"},\"baxis\":{\"gridcolor\":\"white\",\"linecolor\":\"white\",\"ticks\":\"\"},\"caxis\":{\"gridcolor\":\"white\",\"linecolor\":\"white\",\"ticks\":\"\"}},\"coloraxis\":{\"colorbar\":{\"outlinewidth\":0,\"ticks\":\"\"}},\"colorscale\":{\"sequential\":[[0.0,\"#0d0887\"],[0.1111111111111111,\"#46039f\"],[0.2222222222222222,\"#7201a8\"],[0.3333333333333333,\"#9c179e\"],[0.4444444444444444,\"#bd3786\"],[0.5555555555555556,\"#d8576b\"],[0.6666666666666666,\"#ed7953\"],[0.7777777777777778,\"#fb9f3a\"],[0.8888888888888888,\"#fdca26\"],[1.0,\"#f0f921\"]],\"sequentialminus\":[[0.0,\"#0d0887\"],[0.1111111111111111,\"#46039f\"],[0.2222222222222222,\"#7201a8\"],[0.3333333333333333,\"#9c179e\"],[0.4444444444444444,\"#bd3786\"],[0.5555555555555556,\"#d8576b\"],[0.6666666666666666,\"#ed7953\"],[0.7777777777777778,\"#fb9f3a\"],[0.8888888888888888,\"#fdca26\"],[1.0,\"#f0f921\"]],\"diverging\":[[0,\"#8e0152\"],[0.1,\"#c51b7d\"],[0.2,\"#de77ae\"],[0.3,\"#f1b6da\"],[0.4,\"#fde0ef\"],[0.5,\"#f7f7f7\"],[0.6,\"#e6f5d0\"],[0.7,\"#b8e186\"],[0.8,\"#7fbc41\"],[0.9,\"#4d9221\"],[1,\"#276419\"]]},\"xaxis\":{\"gridcolor\":\"white\",\"linecolor\":\"white\",\"ticks\":\"\",\"title\":{\"standoff\":15},\"zerolinecolor\":\"white\",\"automargin\":true,\"zerolinewidth\":2},\"yaxis\":{\"gridcolor\":\"white\",\"linecolor\":\"white\",\"ticks\":\"\",\"title\":{\"standoff\":15},\"zerolinecolor\":\"white\",\"automargin\":true,\"zerolinewidth\":2},\"scene\":{\"xaxis\":{\"backgroundcolor\":\"#E5ECF6\",\"gridcolor\":\"white\",\"linecolor\":\"white\",\"showbackground\":true,\"ticks\":\"\",\"zerolinecolor\":\"white\",\"gridwidth\":2},\"yaxis\":{\"backgroundcolor\":\"#E5ECF6\",\"gridcolor\":\"white\",\"linecolor\":\"white\",\"showbackground\":true,\"ticks\":\"\",\"zerolinecolor\":\"white\",\"gridwidth\":2},\"zaxis\":{\"backgroundcolor\":\"#E5ECF6\",\"gridcolor\":\"white\",\"linecolor\":\"white\",\"showbackground\":true,\"ticks\":\"\",\"zerolinecolor\":\"white\",\"gridwidth\":2}},\"shapedefaults\":{\"line\":{\"color\":\"#2a3f5f\"}},\"annotationdefaults\":{\"arrowcolor\":\"#2a3f5f\",\"arrowhead\":0,\"arrowwidth\":1},\"geo\":{\"bgcolor\":\"white\",\"landcolor\":\"#E5ECF6\",\"subunitcolor\":\"white\",\"showland\":true,\"showlakes\":true,\"lakecolor\":\"white\"},\"title\":{\"x\":0.05},\"mapbox\":{\"style\":\"light\"}}},\"xaxis\":{\"anchor\":\"y\",\"domain\":[0.0,1.0],\"title\":{\"text\":\"principal component 1\"}},\"yaxis\":{\"anchor\":\"x\",\"domain\":[0.0,1.0],\"title\":{\"text\":\"principal component 2\"}},\"legend\":{\"tracegroupgap\":0},\"title\":{\"text\":\"PCA of Player Data with Player Names\"},\"width\":1000,\"height\":800},                        {\"responsive\": true}                    ).then(function(){\n",
       "                            \n",
       "var gd = document.getElementById('bda0d6ae-6ead-4697-9d85-9dda31ed4792');\n",
       "var x = new MutationObserver(function (mutations, observer) {{\n",
       "        var display = window.getComputedStyle(gd).display;\n",
       "        if (!display || display === 'none') {{\n",
       "            console.log([gd, 'removed!']);\n",
       "            Plotly.purge(gd);\n",
       "            observer.disconnect();\n",
       "        }}\n",
       "}});\n",
       "\n",
       "// Listen for the removal of the full notebook cells\n",
       "var notebookContainer = gd.closest('#notebook-container');\n",
       "if (notebookContainer) {{\n",
       "    x.observe(notebookContainer, {childList: true});\n",
       "}}\n",
       "\n",
       "// Listen for the clearing of the current output cell\n",
       "var outputEl = gd.closest('.output');\n",
       "if (outputEl) {{\n",
       "    x.observe(outputEl, {childList: true});\n",
       "}}\n",
       "\n",
       "                        })                };                });            </script>        </div>"
      ]
     },
     "metadata": {},
     "output_type": "display_data"
    }
   ],
   "source": [
    "import pandas as pd\n",
    "import plotly.express as px\n",
    "from sklearn.decomposition import PCA\n",
    "from sklearn.preprocessing import StandardScaler\n",
    "\n",
    "# Assuming df is your DataFrame\n",
    "\n",
    "# Separating out the features\n",
    "features = df.drop(['player_name'], axis=1)\n",
    "# Standardizing the features\n",
    "features = StandardScaler().fit_transform(features)\n",
    "\n",
    "pca = PCA(n_components=2)\n",
    "principalComponents = pca.fit_transform(features)\n",
    "\n",
    "# Convert the principal components into a DataFrame\n",
    "principalDf = pd.DataFrame(data=principalComponents, columns=['principal component 1', 'principal component 2'])\n",
    "\n",
    "# Add back the player_name for labeling purposes\n",
    "principalDf['player_name'] = df['player_name'].values\n",
    "\n",
    "# Using Plotly for an interactive scatter plot\n",
    "fig = px.scatter(principalDf, x='principal component 1', y='principal component 2',\n",
    "                 hover_name='player_name',\n",
    "                 title='PCA of Player Data with Player Names')\n",
    "\n",
    "# Adjust the figure size\n",
    "fig.update_layout(width=1000, height=800)  # Adjust the size as needed\n",
    "\n",
    "# Hide the player_name from being constantly displayed\n",
    "fig.update_traces(textposition='top center', mode='markers')\n",
    "\n",
    "fig.show()\n"
   ]
  },
  {
   "cell_type": "code",
   "execution_count": 13,
   "id": "2a17c36c-46de-4348-8a22-954afb0a505c",
   "metadata": {},
   "outputs": [
    {
     "name": "stdout",
     "output_type": "stream",
     "text": [
      "[t-SNE] Computing 114 nearest neighbors...\n",
      "[t-SNE] Indexed 115 samples in 0.000s...\n",
      "[t-SNE] Computed neighbors for 115 samples in 0.004s...\n",
      "[t-SNE] Computed conditional probabilities for sample 115 / 115\n",
      "[t-SNE] Mean sigma: 3.576741\n",
      "[t-SNE] KL divergence after 250 iterations with early exaggeration: 44.946583\n",
      "[t-SNE] KL divergence after 300 iterations: 0.086231\n"
     ]
    },
    {
     "data": {
      "application/vnd.plotly.v1+json": {
       "config": {
        "plotlyServerURL": "https://plot.ly"
       },
       "data": [
        {
         "hovertemplate": "<b>%{hovertext}</b><br><br>TSNE 1=%{x}<br>TSNE 2=%{y}<extra></extra>",
         "hovertext": [
          "suchislife",
          "sneyking",
          "tofu",
          "cr1t",
          "mc",
          "aui2",
          "mellojul",
          "insania",
          "dm",
          "noname73562326",
          "boxi",
          "All muted",
          "noname86698277.0",
          "arteezy",
          "puppey",
          "ceb",
          "seleri",
          "bzm",
          "malady",
          "fng",
          "topson",
          "fly",
          "xnova",
          "noname94738847",
          "noname94786276",
          "ace",
          "timado",
          "skiter",
          "fy",
          "thiolicor",
          "larl",
          "noname106863163",
          "ori",
          "wzayac",
          "suma1l",
          "miposhka",
          "nefrit",
          "sololeveling",
          "dyrachyo",
          "destroyed",
          "bach",
          "noname119576842",
          "squad1x",
          "respect",
          "nightfall",
          "v1olent",
          "saberlight",
          "crystallis",
          "xxs",
          "sonmorre",
          "noname136421659",
          "whitemon",
          "xm",
          "noname137193239",
          "pyw",
          "jt",
          "davailama",
          "noname140288368",
          "dy",
          "sayuw",
          "zeal",
          "monet",
          "m1cke",
          "abed",
          "knight",
          "fbz",
          "xinq",
          "scofield",
          "yftx",
          "9class",
          "ljcute",
          "k1",
          "miero",
          "yuragi",
          "cloud",
          "kiritych",
          "nothingtosay",
          "swedenstrong",
          "atf",
          "freestariybog",
          "lou",
          "kitrak",
          "boom",
          "shigetsu",
          "noticed",
          "noname199222238",
          "nisha",
          "noname202217968",
          "malik",
          "ghost",
          "boboka",
          "quinn",
          "noname228516683",
          "ekki",
          "noname238239590",
          "mira",
          "kordan",
          "wisper",
          "noname295697470",
          "collapse",
          "chirajunior",
          "noname317880638",
          "yatoro",
          "yopaj",
          "wild",
          "pure",
          "ari",
          "sanctity",
          "taiga",
          "torontotokyo",
          "gpk",
          "malr1ne",
          "ame",
          "munkushi",
          "daze"
         ],
         "legendgroup": "",
         "marker": {
          "color": "#636efa",
          "symbol": "circle"
         },
         "mode": "markers",
         "name": "",
         "orientation": "v",
         "showlegend": false,
         "textposition": "top center",
         "type": "scatter",
         "x": [
          -8.842763900756836,
          -8.121585845947266,
          -8.903831481933594,
          -9.358473777770996,
          2.523327112197876,
          -8.51707935333252,
          3.5664618015289307,
          -8.359086990356445,
          2.716594696044922,
          3.0710206031799316,
          -9.238917350769043,
          -7.800266742706299,
          3.7986414432525635,
          6.3595380783081055,
          -8.69079303741455,
          -8.65843391418457,
          -8.360285758972168,
          4.074359893798828,
          -8.24809741973877,
          -7.997372150421143,
          4.213112831115723,
          -8.316810607910156,
          -7.798660755157471,
          2.367359161376953,
          1.1654466390609741,
          3.4929890632629395,
          5.838963508605957,
          6.580190181732178,
          -9.51021957397461,
          -9.234764099121094,
          4.602139472961426,
          3.652653455734253,
          4.587226390838623,
          -8.634737968444824,
          3.000908374786377,
          -7.959184646606445,
          3.395577907562256,
          3.8477933406829834,
          6.0256500244140625,
          3.25243878364563,
          3.0740580558776855,
          -8.785187721252441,
          5.31284761428833,
          -8.233968734741211,
          6.775747776031494,
          7.656205177307129,
          3.387822151184082,
          5.225665092468262,
          3.441835641860962,
          4.598975658416748,
          -8.319230079650879,
          -8.611540794372559,
          4.278719902038574,
          2.3174116611480713,
          -8.990911483764648,
          3.551119804382324,
          2.9618682861328125,
          2.4330055713653564,
          -8.38577938079834,
          -8.93443489074707,
          1.955187439918518,
          6.971385955810547,
          6.082320690155029,
          4.693325519561768,
          7.087197780609131,
          3.2933995723724365,
          -9.160475730895996,
          -9.378809928894043,
          -7.859156131744385,
          -8.996600151062012,
          4.2975053787231445,
          7.107851028442383,
          3.125523567199707,
          6.381520748138428,
          3.188663959503174,
          6.722169399261475,
          3.528690814971924,
          -9.233635902404785,
          3.8734846115112305,
          4.379388332366943,
          6.748956680297852,
          -8.378637313842773,
          3.3384528160095215,
          6.637625694274902,
          3.400052547454834,
          2.1038808822631836,
          4.85141134262085,
          3.5042946338653564,
          2.0233359336853027,
          4.968070983886719,
          -9.37491512298584,
          4.234933853149414,
          2.1604413986206055,
          -9.002669334411621,
          3.7655882835388184,
          -9.235751152038574,
          4.027814865112305,
          2.9375228881835938,
          -9.432891845703125,
          3.926158905029297,
          4.299508571624756,
          -9.144959449768066,
          7.056877613067627,
          4.8420891761779785,
          -8.169164657592773,
          6.112999439239502,
          -9.46641731262207,
          5.0998334884643555,
          -8.896760940551758,
          -8.120626449584961,
          5.302958965301514,
          5.761746883392334,
          7.032691478729248,
          7.088115692138672,
          -9.962246894836426
         ],
         "xaxis": "x",
         "y": [
          -1.0262829065322876,
          -0.08394500613212585,
          -0.3624287545681,
          -0.42413249611854553,
          -1.1469069719314575,
          0.24077264964580536,
          0.5493694543838501,
          -0.12476377934217453,
          -1.792256474494934,
          -1.1333235502243042,
          -0.2629874646663666,
          -0.5851662158966064,
          -1.0458354949951172,
          -1.3609962463378906,
          -0.7779721617698669,
          0.17006123065948486,
          0.12442663311958313,
          0.709114134311676,
          -0.8075097799301147,
          -0.572687566280365,
          0.25520768761634827,
          -0.6929296851158142,
          -0.3626948893070221,
          -1.2776981592178345,
          -1.2940187454223633,
          -1.4283539056777954,
          -1.263188362121582,
          -1.0295203924179077,
          -0.24665966629981995,
          -0.5901748538017273,
          0.7023431062698364,
          0.5242283344268799,
          0.884035050868988,
          -0.2900260388851166,
          0.7323561310768127,
          -0.38194385170936584,
          -1.0586028099060059,
          0.3442380428314209,
          -1.2701674699783325,
          -1.4124513864517212,
          -0.8382613658905029,
          -1.8520677089691162,
          0.6006052494049072,
          -0.9224475622177124,
          -1.1403082609176636,
          -1.056591510772705,
          -0.9642205238342285,
          -1.1489421129226685,
          -0.9335962533950806,
          1.0106916427612305,
          -1.8802541494369507,
          -0.7647951245307922,
          0.38162174820899963,
          -2.487380027770996,
          -2.149627685546875,
          -0.7776512503623962,
          -0.6876058578491211,
          -0.8192368149757385,
          -0.7719048857688904,
          -0.0736633837223053,
          -1.5148553848266602,
          -1.1288608312606812,
          -1.159867763519287,
          0.6091572046279907,
          -1.7402856349945068,
          -1.5609833002090454,
          -0.04467030614614487,
          -1.3409959077835083,
          -0.9211689829826355,
          -0.9270432591438293,
          -0.4428316652774811,
          -1.1521377563476562,
          -0.7094743847846985,
          -1.0390956401824951,
          -1.3402730226516724,
          -1.1031562089920044,
          0.7215387225151062,
          -0.28973624110221863,
          -0.6035436391830444,
          -1.5827940702438354,
          -1.305901288986206,
          -1.0623036623001099,
          -0.7136346697807312,
          -1.2305986881256104,
          -0.4940199851989746,
          -2.3354146480560303,
          0.4661114811897278,
          -2.2833049297332764,
          -1.3324309587478638,
          -1.5138776302337646,
          -0.17216765880584717,
          0.3307611048221588,
          0.1692534238100052,
          -1.2863364219665527,
          1.3064205646514893,
          -0.7195492386817932,
          0.19470319151878357,
          -0.718766450881958,
          -1.2241369485855103,
          -0.3974364399909973,
          0.668273389339447,
          -0.603364884853363,
          -1.0568097829818726,
          0.5587501525878906,
          -1.4972681999206543,
          -0.9943947196006775,
          -0.8752473592758179,
          1.1675984859466553,
          -1.7729941606521606,
          -0.1808573305606842,
          0.7406885623931885,
          0.9524167776107788,
          -0.43357008695602417,
          -0.45860955119132996,
          -1.4905638694763184
         ],
         "yaxis": "y"
        }
       ],
       "layout": {
        "height": 800,
        "legend": {
         "tracegroupgap": 0
        },
        "template": {
         "data": {
          "bar": [
           {
            "error_x": {
             "color": "#2a3f5f"
            },
            "error_y": {
             "color": "#2a3f5f"
            },
            "marker": {
             "line": {
              "color": "#E5ECF6",
              "width": 0.5
             },
             "pattern": {
              "fillmode": "overlay",
              "size": 10,
              "solidity": 0.2
             }
            },
            "type": "bar"
           }
          ],
          "barpolar": [
           {
            "marker": {
             "line": {
              "color": "#E5ECF6",
              "width": 0.5
             },
             "pattern": {
              "fillmode": "overlay",
              "size": 10,
              "solidity": 0.2
             }
            },
            "type": "barpolar"
           }
          ],
          "carpet": [
           {
            "aaxis": {
             "endlinecolor": "#2a3f5f",
             "gridcolor": "white",
             "linecolor": "white",
             "minorgridcolor": "white",
             "startlinecolor": "#2a3f5f"
            },
            "baxis": {
             "endlinecolor": "#2a3f5f",
             "gridcolor": "white",
             "linecolor": "white",
             "minorgridcolor": "white",
             "startlinecolor": "#2a3f5f"
            },
            "type": "carpet"
           }
          ],
          "choropleth": [
           {
            "colorbar": {
             "outlinewidth": 0,
             "ticks": ""
            },
            "type": "choropleth"
           }
          ],
          "contour": [
           {
            "colorbar": {
             "outlinewidth": 0,
             "ticks": ""
            },
            "colorscale": [
             [
              0,
              "#0d0887"
             ],
             [
              0.1111111111111111,
              "#46039f"
             ],
             [
              0.2222222222222222,
              "#7201a8"
             ],
             [
              0.3333333333333333,
              "#9c179e"
             ],
             [
              0.4444444444444444,
              "#bd3786"
             ],
             [
              0.5555555555555556,
              "#d8576b"
             ],
             [
              0.6666666666666666,
              "#ed7953"
             ],
             [
              0.7777777777777778,
              "#fb9f3a"
             ],
             [
              0.8888888888888888,
              "#fdca26"
             ],
             [
              1,
              "#f0f921"
             ]
            ],
            "type": "contour"
           }
          ],
          "contourcarpet": [
           {
            "colorbar": {
             "outlinewidth": 0,
             "ticks": ""
            },
            "type": "contourcarpet"
           }
          ],
          "heatmap": [
           {
            "colorbar": {
             "outlinewidth": 0,
             "ticks": ""
            },
            "colorscale": [
             [
              0,
              "#0d0887"
             ],
             [
              0.1111111111111111,
              "#46039f"
             ],
             [
              0.2222222222222222,
              "#7201a8"
             ],
             [
              0.3333333333333333,
              "#9c179e"
             ],
             [
              0.4444444444444444,
              "#bd3786"
             ],
             [
              0.5555555555555556,
              "#d8576b"
             ],
             [
              0.6666666666666666,
              "#ed7953"
             ],
             [
              0.7777777777777778,
              "#fb9f3a"
             ],
             [
              0.8888888888888888,
              "#fdca26"
             ],
             [
              1,
              "#f0f921"
             ]
            ],
            "type": "heatmap"
           }
          ],
          "heatmapgl": [
           {
            "colorbar": {
             "outlinewidth": 0,
             "ticks": ""
            },
            "colorscale": [
             [
              0,
              "#0d0887"
             ],
             [
              0.1111111111111111,
              "#46039f"
             ],
             [
              0.2222222222222222,
              "#7201a8"
             ],
             [
              0.3333333333333333,
              "#9c179e"
             ],
             [
              0.4444444444444444,
              "#bd3786"
             ],
             [
              0.5555555555555556,
              "#d8576b"
             ],
             [
              0.6666666666666666,
              "#ed7953"
             ],
             [
              0.7777777777777778,
              "#fb9f3a"
             ],
             [
              0.8888888888888888,
              "#fdca26"
             ],
             [
              1,
              "#f0f921"
             ]
            ],
            "type": "heatmapgl"
           }
          ],
          "histogram": [
           {
            "marker": {
             "pattern": {
              "fillmode": "overlay",
              "size": 10,
              "solidity": 0.2
             }
            },
            "type": "histogram"
           }
          ],
          "histogram2d": [
           {
            "colorbar": {
             "outlinewidth": 0,
             "ticks": ""
            },
            "colorscale": [
             [
              0,
              "#0d0887"
             ],
             [
              0.1111111111111111,
              "#46039f"
             ],
             [
              0.2222222222222222,
              "#7201a8"
             ],
             [
              0.3333333333333333,
              "#9c179e"
             ],
             [
              0.4444444444444444,
              "#bd3786"
             ],
             [
              0.5555555555555556,
              "#d8576b"
             ],
             [
              0.6666666666666666,
              "#ed7953"
             ],
             [
              0.7777777777777778,
              "#fb9f3a"
             ],
             [
              0.8888888888888888,
              "#fdca26"
             ],
             [
              1,
              "#f0f921"
             ]
            ],
            "type": "histogram2d"
           }
          ],
          "histogram2dcontour": [
           {
            "colorbar": {
             "outlinewidth": 0,
             "ticks": ""
            },
            "colorscale": [
             [
              0,
              "#0d0887"
             ],
             [
              0.1111111111111111,
              "#46039f"
             ],
             [
              0.2222222222222222,
              "#7201a8"
             ],
             [
              0.3333333333333333,
              "#9c179e"
             ],
             [
              0.4444444444444444,
              "#bd3786"
             ],
             [
              0.5555555555555556,
              "#d8576b"
             ],
             [
              0.6666666666666666,
              "#ed7953"
             ],
             [
              0.7777777777777778,
              "#fb9f3a"
             ],
             [
              0.8888888888888888,
              "#fdca26"
             ],
             [
              1,
              "#f0f921"
             ]
            ],
            "type": "histogram2dcontour"
           }
          ],
          "mesh3d": [
           {
            "colorbar": {
             "outlinewidth": 0,
             "ticks": ""
            },
            "type": "mesh3d"
           }
          ],
          "parcoords": [
           {
            "line": {
             "colorbar": {
              "outlinewidth": 0,
              "ticks": ""
             }
            },
            "type": "parcoords"
           }
          ],
          "pie": [
           {
            "automargin": true,
            "type": "pie"
           }
          ],
          "scatter": [
           {
            "fillpattern": {
             "fillmode": "overlay",
             "size": 10,
             "solidity": 0.2
            },
            "type": "scatter"
           }
          ],
          "scatter3d": [
           {
            "line": {
             "colorbar": {
              "outlinewidth": 0,
              "ticks": ""
             }
            },
            "marker": {
             "colorbar": {
              "outlinewidth": 0,
              "ticks": ""
             }
            },
            "type": "scatter3d"
           }
          ],
          "scattercarpet": [
           {
            "marker": {
             "colorbar": {
              "outlinewidth": 0,
              "ticks": ""
             }
            },
            "type": "scattercarpet"
           }
          ],
          "scattergeo": [
           {
            "marker": {
             "colorbar": {
              "outlinewidth": 0,
              "ticks": ""
             }
            },
            "type": "scattergeo"
           }
          ],
          "scattergl": [
           {
            "marker": {
             "colorbar": {
              "outlinewidth": 0,
              "ticks": ""
             }
            },
            "type": "scattergl"
           }
          ],
          "scattermapbox": [
           {
            "marker": {
             "colorbar": {
              "outlinewidth": 0,
              "ticks": ""
             }
            },
            "type": "scattermapbox"
           }
          ],
          "scatterpolar": [
           {
            "marker": {
             "colorbar": {
              "outlinewidth": 0,
              "ticks": ""
             }
            },
            "type": "scatterpolar"
           }
          ],
          "scatterpolargl": [
           {
            "marker": {
             "colorbar": {
              "outlinewidth": 0,
              "ticks": ""
             }
            },
            "type": "scatterpolargl"
           }
          ],
          "scatterternary": [
           {
            "marker": {
             "colorbar": {
              "outlinewidth": 0,
              "ticks": ""
             }
            },
            "type": "scatterternary"
           }
          ],
          "surface": [
           {
            "colorbar": {
             "outlinewidth": 0,
             "ticks": ""
            },
            "colorscale": [
             [
              0,
              "#0d0887"
             ],
             [
              0.1111111111111111,
              "#46039f"
             ],
             [
              0.2222222222222222,
              "#7201a8"
             ],
             [
              0.3333333333333333,
              "#9c179e"
             ],
             [
              0.4444444444444444,
              "#bd3786"
             ],
             [
              0.5555555555555556,
              "#d8576b"
             ],
             [
              0.6666666666666666,
              "#ed7953"
             ],
             [
              0.7777777777777778,
              "#fb9f3a"
             ],
             [
              0.8888888888888888,
              "#fdca26"
             ],
             [
              1,
              "#f0f921"
             ]
            ],
            "type": "surface"
           }
          ],
          "table": [
           {
            "cells": {
             "fill": {
              "color": "#EBF0F8"
             },
             "line": {
              "color": "white"
             }
            },
            "header": {
             "fill": {
              "color": "#C8D4E3"
             },
             "line": {
              "color": "white"
             }
            },
            "type": "table"
           }
          ]
         },
         "layout": {
          "annotationdefaults": {
           "arrowcolor": "#2a3f5f",
           "arrowhead": 0,
           "arrowwidth": 1
          },
          "autotypenumbers": "strict",
          "coloraxis": {
           "colorbar": {
            "outlinewidth": 0,
            "ticks": ""
           }
          },
          "colorscale": {
           "diverging": [
            [
             0,
             "#8e0152"
            ],
            [
             0.1,
             "#c51b7d"
            ],
            [
             0.2,
             "#de77ae"
            ],
            [
             0.3,
             "#f1b6da"
            ],
            [
             0.4,
             "#fde0ef"
            ],
            [
             0.5,
             "#f7f7f7"
            ],
            [
             0.6,
             "#e6f5d0"
            ],
            [
             0.7,
             "#b8e186"
            ],
            [
             0.8,
             "#7fbc41"
            ],
            [
             0.9,
             "#4d9221"
            ],
            [
             1,
             "#276419"
            ]
           ],
           "sequential": [
            [
             0,
             "#0d0887"
            ],
            [
             0.1111111111111111,
             "#46039f"
            ],
            [
             0.2222222222222222,
             "#7201a8"
            ],
            [
             0.3333333333333333,
             "#9c179e"
            ],
            [
             0.4444444444444444,
             "#bd3786"
            ],
            [
             0.5555555555555556,
             "#d8576b"
            ],
            [
             0.6666666666666666,
             "#ed7953"
            ],
            [
             0.7777777777777778,
             "#fb9f3a"
            ],
            [
             0.8888888888888888,
             "#fdca26"
            ],
            [
             1,
             "#f0f921"
            ]
           ],
           "sequentialminus": [
            [
             0,
             "#0d0887"
            ],
            [
             0.1111111111111111,
             "#46039f"
            ],
            [
             0.2222222222222222,
             "#7201a8"
            ],
            [
             0.3333333333333333,
             "#9c179e"
            ],
            [
             0.4444444444444444,
             "#bd3786"
            ],
            [
             0.5555555555555556,
             "#d8576b"
            ],
            [
             0.6666666666666666,
             "#ed7953"
            ],
            [
             0.7777777777777778,
             "#fb9f3a"
            ],
            [
             0.8888888888888888,
             "#fdca26"
            ],
            [
             1,
             "#f0f921"
            ]
           ]
          },
          "colorway": [
           "#636efa",
           "#EF553B",
           "#00cc96",
           "#ab63fa",
           "#FFA15A",
           "#19d3f3",
           "#FF6692",
           "#B6E880",
           "#FF97FF",
           "#FECB52"
          ],
          "font": {
           "color": "#2a3f5f"
          },
          "geo": {
           "bgcolor": "white",
           "lakecolor": "white",
           "landcolor": "#E5ECF6",
           "showlakes": true,
           "showland": true,
           "subunitcolor": "white"
          },
          "hoverlabel": {
           "align": "left"
          },
          "hovermode": "closest",
          "mapbox": {
           "style": "light"
          },
          "paper_bgcolor": "white",
          "plot_bgcolor": "#E5ECF6",
          "polar": {
           "angularaxis": {
            "gridcolor": "white",
            "linecolor": "white",
            "ticks": ""
           },
           "bgcolor": "#E5ECF6",
           "radialaxis": {
            "gridcolor": "white",
            "linecolor": "white",
            "ticks": ""
           }
          },
          "scene": {
           "xaxis": {
            "backgroundcolor": "#E5ECF6",
            "gridcolor": "white",
            "gridwidth": 2,
            "linecolor": "white",
            "showbackground": true,
            "ticks": "",
            "zerolinecolor": "white"
           },
           "yaxis": {
            "backgroundcolor": "#E5ECF6",
            "gridcolor": "white",
            "gridwidth": 2,
            "linecolor": "white",
            "showbackground": true,
            "ticks": "",
            "zerolinecolor": "white"
           },
           "zaxis": {
            "backgroundcolor": "#E5ECF6",
            "gridcolor": "white",
            "gridwidth": 2,
            "linecolor": "white",
            "showbackground": true,
            "ticks": "",
            "zerolinecolor": "white"
           }
          },
          "shapedefaults": {
           "line": {
            "color": "#2a3f5f"
           }
          },
          "ternary": {
           "aaxis": {
            "gridcolor": "white",
            "linecolor": "white",
            "ticks": ""
           },
           "baxis": {
            "gridcolor": "white",
            "linecolor": "white",
            "ticks": ""
           },
           "bgcolor": "#E5ECF6",
           "caxis": {
            "gridcolor": "white",
            "linecolor": "white",
            "ticks": ""
           }
          },
          "title": {
           "x": 0.05
          },
          "xaxis": {
           "automargin": true,
           "gridcolor": "white",
           "linecolor": "white",
           "ticks": "",
           "title": {
            "standoff": 15
           },
           "zerolinecolor": "white",
           "zerolinewidth": 2
          },
          "yaxis": {
           "automargin": true,
           "gridcolor": "white",
           "linecolor": "white",
           "ticks": "",
           "title": {
            "standoff": 15
           },
           "zerolinecolor": "white",
           "zerolinewidth": 2
          }
         }
        },
        "title": {
         "text": "TSNE of Player Data with Player Names"
        },
        "width": 1000,
        "xaxis": {
         "anchor": "y",
         "autorange": true,
         "domain": [
          0,
          1
         ],
         "range": [
          -11.039126229907325,
          8.733084512378028
         ],
         "title": {
          "text": "TSNE 1"
         },
         "type": "linear"
        },
        "yaxis": {
         "anchor": "x",
         "autorange": true,
         "domain": [
          0,
          1
         ],
         "range": [
          -2.726861536556975,
          1.5459020734374682
         ],
         "title": {
          "text": "TSNE 2"
         },
         "type": "linear"
        }
       }
      },
      "image/png": "[encoded data removed]",
      "text/html": [
       "<div>                            <div id=\"4e130f20-5b0f-4571-a16b-961ee82f0c48\" class=\"plotly-graph-div\" style=\"height:800px; width:1000px;\"></div>            <script type=\"text/javascript\">                require([\"plotly\"], function(Plotly) {                    window.PLOTLYENV=window.PLOTLYENV || {};                                    if (document.getElementById(\"4e130f20-5b0f-4571-a16b-961ee82f0c48\")) {                    Plotly.newPlot(                        \"4e130f20-5b0f-4571-a16b-961ee82f0c48\",                        [{\"hovertemplate\":\"\\u003cb\\u003e%{hovertext}\\u003c\\u002fb\\u003e\\u003cbr\\u003e\\u003cbr\\u003eTSNE 1=%{x}\\u003cbr\\u003eTSNE 2=%{y}\\u003cextra\\u003e\\u003c\\u002fextra\\u003e\",\"hovertext\":[\"suchislife\",\"sneyking\",\"tofu\",\"cr1t\",\"mc\",\"aui2\",\"mellojul\",\"insania\",\"dm\",\"noname73562326\",\"boxi\",\"All muted\",\"noname86698277.0\",\"arteezy\",\"puppey\",\"ceb\",\"seleri\",\"bzm\",\"malady\",\"fng\",\"topson\",\"fly\",\"xnova\",\"noname94738847\",\"noname94786276\",\"ace\",\"timado\",\"skiter\",\"fy\",\"thiolicor\",\"larl\",\"noname106863163\",\"ori\",\"wzayac\",\"suma1l\",\"miposhka\",\"nefrit\",\"sololeveling\",\"dyrachyo\",\"destroyed\",\"bach\",\"noname119576842\",\"squad1x\",\"respect\",\"nightfall\",\"v1olent\",\"saberlight\",\"crystallis\",\"xxs\",\"sonmorre\",\"noname136421659\",\"whitemon\",\"xm\",\"noname137193239\",\"pyw\",\"jt\",\"davailama\",\"noname140288368\",\"dy\",\"sayuw\",\"zeal\",\"monet\",\"m1cke\",\"abed\",\"knight\",\"fbz\",\"xinq\",\"scofield\",\"yftx\",\"9class\",\"ljcute\",\"k1\",\"miero\",\"yuragi\",\"cloud\",\"kiritych\",\"nothingtosay\",\"swedenstrong\",\"atf\",\"freestariybog\",\"lou\",\"kitrak\",\"boom\",\"shigetsu\",\"noticed\",\"noname199222238\",\"nisha\",\"noname202217968\",\"malik\",\"ghost\",\"boboka\",\"quinn\",\"noname228516683\",\"ekki\",\"noname238239590\",\"mira\",\"kordan\",\"wisper\",\"noname295697470\",\"collapse\",\"chirajunior\",\"noname317880638\",\"yatoro\",\"yopaj\",\"wild\",\"pure\",\"ari\",\"sanctity\",\"taiga\",\"torontotokyo\",\"gpk\",\"malr1ne\",\"ame\",\"munkushi\",\"daze\"],\"legendgroup\":\"\",\"marker\":{\"color\":\"#636efa\",\"symbol\":\"circle\"},\"mode\":\"markers\",\"name\":\"\",\"orientation\":\"v\",\"showlegend\":false,\"x\":[-8.842763900756836,-8.121585845947266,-8.903831481933594,-9.358473777770996,2.523327112197876,-8.51707935333252,3.5664618015289307,-8.359086990356445,2.716594696044922,3.0710206031799316,-9.238917350769043,-7.800266742706299,3.7986414432525635,6.3595380783081055,-8.69079303741455,-8.65843391418457,-8.360285758972168,4.074359893798828,-8.24809741973877,-7.997372150421143,4.213112831115723,-8.316810607910156,-7.798660755157471,2.367359161376953,1.1654466390609741,3.4929890632629395,5.838963508605957,6.580190181732178,-9.51021957397461,-9.234764099121094,4.602139472961426,3.652653455734253,4.587226390838623,-8.634737968444824,3.000908374786377,-7.959184646606445,3.395577907562256,3.8477933406829834,6.0256500244140625,3.25243878364563,3.0740580558776855,-8.785187721252441,5.31284761428833,-8.233968734741211,6.775747776031494,7.656205177307129,3.387822151184082,5.225665092468262,3.441835641860962,4.598975658416748,-8.319230079650879,-8.611540794372559,4.278719902038574,2.3174116611480713,-8.990911483764648,3.551119804382324,2.9618682861328125,2.4330055713653564,-8.38577938079834,-8.93443489074707,1.955187439918518,6.971385955810547,6.082320690155029,4.693325519561768,7.087197780609131,3.2933995723724365,-9.160475730895996,-9.378809928894043,-7.859156131744385,-8.996600151062012,4.2975053787231445,7.107851028442383,3.125523567199707,6.381520748138428,3.188663959503174,6.722169399261475,3.528690814971924,-9.233635902404785,3.8734846115112305,4.379388332366943,6.748956680297852,-8.378637313842773,3.3384528160095215,6.637625694274902,3.400052547454834,2.1038808822631836,4.85141134262085,3.5042946338653564,2.0233359336853027,4.968070983886719,-9.37491512298584,4.234933853149414,2.1604413986206055,-9.002669334411621,3.7655882835388184,-9.235751152038574,4.027814865112305,2.9375228881835938,-9.432891845703125,3.926158905029297,4.299508571624756,-9.144959449768066,7.056877613067627,4.8420891761779785,-8.169164657592773,6.112999439239502,-9.46641731262207,5.0998334884643555,-8.896760940551758,-8.120626449584961,5.302958965301514,5.761746883392334,7.032691478729248,7.088115692138672,-9.962246894836426],\"xaxis\":\"x\",\"y\":[-1.0262829065322876,-0.08394500613212585,-0.3624287545681,-0.42413249611854553,-1.1469069719314575,0.24077264964580536,0.5493694543838501,-0.12476377934217453,-1.792256474494934,-1.1333235502243042,-0.2629874646663666,-0.5851662158966064,-1.0458354949951172,-1.3609962463378906,-0.7779721617698669,0.17006123065948486,0.12442663311958313,0.709114134311676,-0.8075097799301147,-0.572687566280365,0.25520768761634827,-0.6929296851158142,-0.3626948893070221,-1.2776981592178345,-1.2940187454223633,-1.4283539056777954,-1.263188362121582,-1.0295203924179077,-0.24665966629981995,-0.5901748538017273,0.7023431062698364,0.5242283344268799,0.884035050868988,-0.2900260388851166,0.7323561310768127,-0.38194385170936584,-1.0586028099060059,0.3442380428314209,-1.2701674699783325,-1.4124513864517212,-0.8382613658905029,-1.8520677089691162,0.6006052494049072,-0.9224475622177124,-1.1403082609176636,-1.056591510772705,-0.9642205238342285,-1.1489421129226685,-0.9335962533950806,1.0106916427612305,-1.8802541494369507,-0.7647951245307922,0.38162174820899963,-2.487380027770996,-2.149627685546875,-0.7776512503623962,-0.6876058578491211,-0.8192368149757385,-0.7719048857688904,-0.0736633837223053,-1.5148553848266602,-1.1288608312606812,-1.159867763519287,0.6091572046279907,-1.7402856349945068,-1.5609833002090454,-0.04467030614614487,-1.3409959077835083,-0.9211689829826355,-0.9270432591438293,-0.4428316652774811,-1.1521377563476562,-0.7094743847846985,-1.0390956401824951,-1.3402730226516724,-1.1031562089920044,0.7215387225151062,-0.28973624110221863,-0.6035436391830444,-1.5827940702438354,-1.305901288986206,-1.0623036623001099,-0.7136346697807312,-1.2305986881256104,-0.4940199851989746,-2.3354146480560303,0.4661114811897278,-2.2833049297332764,-1.3324309587478638,-1.5138776302337646,-0.17216765880584717,0.3307611048221588,0.1692534238100052,-1.2863364219665527,1.3064205646514893,-0.7195492386817932,0.19470319151878357,-0.718766450881958,-1.2241369485855103,-0.3974364399909973,0.668273389339447,-0.603364884853363,-1.0568097829818726,0.5587501525878906,-1.4972681999206543,-0.9943947196006775,-0.8752473592758179,1.1675984859466553,-1.7729941606521606,-0.1808573305606842,0.7406885623931885,0.9524167776107788,-0.43357008695602417,-0.45860955119132996,-1.4905638694763184],\"yaxis\":\"y\",\"type\":\"scatter\",\"textposition\":\"top center\"}],                        {\"template\":{\"data\":{\"histogram2dcontour\":[{\"type\":\"histogram2dcontour\",\"colorbar\":{\"outlinewidth\":0,\"ticks\":\"\"},\"colorscale\":[[0.0,\"#0d0887\"],[0.1111111111111111,\"#46039f\"],[0.2222222222222222,\"#7201a8\"],[0.3333333333333333,\"#9c179e\"],[0.4444444444444444,\"#bd3786\"],[0.5555555555555556,\"#d8576b\"],[0.6666666666666666,\"#ed7953\"],[0.7777777777777778,\"#fb9f3a\"],[0.8888888888888888,\"#fdca26\"],[1.0,\"#f0f921\"]]}],\"choropleth\":[{\"type\":\"choropleth\",\"colorbar\":{\"outlinewidth\":0,\"ticks\":\"\"}}],\"histogram2d\":[{\"type\":\"histogram2d\",\"colorbar\":{\"outlinewidth\":0,\"ticks\":\"\"},\"colorscale\":[[0.0,\"#0d0887\"],[0.1111111111111111,\"#46039f\"],[0.2222222222222222,\"#7201a8\"],[0.3333333333333333,\"#9c179e\"],[0.4444444444444444,\"#bd3786\"],[0.5555555555555556,\"#d8576b\"],[0.6666666666666666,\"#ed7953\"],[0.7777777777777778,\"#fb9f3a\"],[0.8888888888888888,\"#fdca26\"],[1.0,\"#f0f921\"]]}],\"heatmap\":[{\"type\":\"heatmap\",\"colorbar\":{\"outlinewidth\":0,\"ticks\":\"\"},\"colorscale\":[[0.0,\"#0d0887\"],[0.1111111111111111,\"#46039f\"],[0.2222222222222222,\"#7201a8\"],[0.3333333333333333,\"#9c179e\"],[0.4444444444444444,\"#bd3786\"],[0.5555555555555556,\"#d8576b\"],[0.6666666666666666,\"#ed7953\"],[0.7777777777777778,\"#fb9f3a\"],[0.8888888888888888,\"#fdca26\"],[1.0,\"#f0f921\"]]}],\"heatmapgl\":[{\"type\":\"heatmapgl\",\"colorbar\":{\"outlinewidth\":0,\"ticks\":\"\"},\"colorscale\":[[0.0,\"#0d0887\"],[0.1111111111111111,\"#46039f\"],[0.2222222222222222,\"#7201a8\"],[0.3333333333333333,\"#9c179e\"],[0.4444444444444444,\"#bd3786\"],[0.5555555555555556,\"#d8576b\"],[0.6666666666666666,\"#ed7953\"],[0.7777777777777778,\"#fb9f3a\"],[0.8888888888888888,\"#fdca26\"],[1.0,\"#f0f921\"]]}],\"contourcarpet\":[{\"type\":\"contourcarpet\",\"colorbar\":{\"outlinewidth\":0,\"ticks\":\"\"}}],\"contour\":[{\"type\":\"contour\",\"colorbar\":{\"outlinewidth\":0,\"ticks\":\"\"},\"colorscale\":[[0.0,\"#0d0887\"],[0.1111111111111111,\"#46039f\"],[0.2222222222222222,\"#7201a8\"],[0.3333333333333333,\"#9c179e\"],[0.4444444444444444,\"#bd3786\"],[0.5555555555555556,\"#d8576b\"],[0.6666666666666666,\"#ed7953\"],[0.7777777777777778,\"#fb9f3a\"],[0.8888888888888888,\"#fdca26\"],[1.0,\"#f0f921\"]]}],\"surface\":[{\"type\":\"surface\",\"colorbar\":{\"outlinewidth\":0,\"ticks\":\"\"},\"colorscale\":[[0.0,\"#0d0887\"],[0.1111111111111111,\"#46039f\"],[0.2222222222222222,\"#7201a8\"],[0.3333333333333333,\"#9c179e\"],[0.4444444444444444,\"#bd3786\"],[0.5555555555555556,\"#d8576b\"],[0.6666666666666666,\"#ed7953\"],[0.7777777777777778,\"#fb9f3a\"],[0.8888888888888888,\"#fdca26\"],[1.0,\"#f0f921\"]]}],\"mesh3d\":[{\"type\":\"mesh3d\",\"colorbar\":{\"outlinewidth\":0,\"ticks\":\"\"}}],\"scatter\":[{\"fillpattern\":{\"fillmode\":\"overlay\",\"size\":10,\"solidity\":0.2},\"type\":\"scatter\"}],\"parcoords\":[{\"type\":\"parcoords\",\"line\":{\"colorbar\":{\"outlinewidth\":0,\"ticks\":\"\"}}}],\"scatterpolargl\":[{\"type\":\"scatterpolargl\",\"marker\":{\"colorbar\":{\"outlinewidth\":0,\"ticks\":\"\"}}}],\"bar\":[{\"error_x\":{\"color\":\"#2a3f5f\"},\"error_y\":{\"color\":\"#2a3f5f\"},\"marker\":{\"line\":{\"color\":\"#E5ECF6\",\"width\":0.5},\"pattern\":{\"fillmode\":\"overlay\",\"size\":10,\"solidity\":0.2}},\"type\":\"bar\"}],\"scattergeo\":[{\"type\":\"scattergeo\",\"marker\":{\"colorbar\":{\"outlinewidth\":0,\"ticks\":\"\"}}}],\"scatterpolar\":[{\"type\":\"scatterpolar\",\"marker\":{\"colorbar\":{\"outlinewidth\":0,\"ticks\":\"\"}}}],\"histogram\":[{\"marker\":{\"pattern\":{\"fillmode\":\"overlay\",\"size\":10,\"solidity\":0.2}},\"type\":\"histogram\"}],\"scattergl\":[{\"type\":\"scattergl\",\"marker\":{\"colorbar\":{\"outlinewidth\":0,\"ticks\":\"\"}}}],\"scatter3d\":[{\"type\":\"scatter3d\",\"line\":{\"colorbar\":{\"outlinewidth\":0,\"ticks\":\"\"}},\"marker\":{\"colorbar\":{\"outlinewidth\":0,\"ticks\":\"\"}}}],\"scattermapbox\":[{\"type\":\"scattermapbox\",\"marker\":{\"colorbar\":{\"outlinewidth\":0,\"ticks\":\"\"}}}],\"scatterternary\":[{\"type\":\"scatterternary\",\"marker\":{\"colorbar\":{\"outlinewidth\":0,\"ticks\":\"\"}}}],\"scattercarpet\":[{\"type\":\"scattercarpet\",\"marker\":{\"colorbar\":{\"outlinewidth\":0,\"ticks\":\"\"}}}],\"carpet\":[{\"aaxis\":{\"endlinecolor\":\"#2a3f5f\",\"gridcolor\":\"white\",\"linecolor\":\"white\",\"minorgridcolor\":\"white\",\"startlinecolor\":\"#2a3f5f\"},\"baxis\":{\"endlinecolor\":\"#2a3f5f\",\"gridcolor\":\"white\",\"linecolor\":\"white\",\"minorgridcolor\":\"white\",\"startlinecolor\":\"#2a3f5f\"},\"type\":\"carpet\"}],\"table\":[{\"cells\":{\"fill\":{\"color\":\"#EBF0F8\"},\"line\":{\"color\":\"white\"}},\"header\":{\"fill\":{\"color\":\"#C8D4E3\"},\"line\":{\"color\":\"white\"}},\"type\":\"table\"}],\"barpolar\":[{\"marker\":{\"line\":{\"color\":\"#E5ECF6\",\"width\":0.5},\"pattern\":{\"fillmode\":\"overlay\",\"size\":10,\"solidity\":0.2}},\"type\":\"barpolar\"}],\"pie\":[{\"automargin\":true,\"type\":\"pie\"}]},\"layout\":{\"autotypenumbers\":\"strict\",\"colorway\":[\"#636efa\",\"#EF553B\",\"#00cc96\",\"#ab63fa\",\"#FFA15A\",\"#19d3f3\",\"#FF6692\",\"#B6E880\",\"#FF97FF\",\"#FECB52\"],\"font\":{\"color\":\"#2a3f5f\"},\"hovermode\":\"closest\",\"hoverlabel\":{\"align\":\"left\"},\"paper_bgcolor\":\"white\",\"plot_bgcolor\":\"#E5ECF6\",\"polar\":{\"bgcolor\":\"#E5ECF6\",\"angularaxis\":{\"gridcolor\":\"white\",\"linecolor\":\"white\",\"ticks\":\"\"},\"radialaxis\":{\"gridcolor\":\"white\",\"linecolor\":\"white\",\"ticks\":\"\"}},\"ternary\":{\"bgcolor\":\"#E5ECF6\",\"aaxis\":{\"gridcolor\":\"white\",\"linecolor\":\"white\",\"ticks\":\"\"},\"baxis\":{\"gridcolor\":\"white\",\"linecolor\":\"white\",\"ticks\":\"\"},\"caxis\":{\"gridcolor\":\"white\",\"linecolor\":\"white\",\"ticks\":\"\"}},\"coloraxis\":{\"colorbar\":{\"outlinewidth\":0,\"ticks\":\"\"}},\"colorscale\":{\"sequential\":[[0.0,\"#0d0887\"],[0.1111111111111111,\"#46039f\"],[0.2222222222222222,\"#7201a8\"],[0.3333333333333333,\"#9c179e\"],[0.4444444444444444,\"#bd3786\"],[0.5555555555555556,\"#d8576b\"],[0.6666666666666666,\"#ed7953\"],[0.7777777777777778,\"#fb9f3a\"],[0.8888888888888888,\"#fdca26\"],[1.0,\"#f0f921\"]],\"sequentialminus\":[[0.0,\"#0d0887\"],[0.1111111111111111,\"#46039f\"],[0.2222222222222222,\"#7201a8\"],[0.3333333333333333,\"#9c179e\"],[0.4444444444444444,\"#bd3786\"],[0.5555555555555556,\"#d8576b\"],[0.6666666666666666,\"#ed7953\"],[0.7777777777777778,\"#fb9f3a\"],[0.8888888888888888,\"#fdca26\"],[1.0,\"#f0f921\"]],\"diverging\":[[0,\"#8e0152\"],[0.1,\"#c51b7d\"],[0.2,\"#de77ae\"],[0.3,\"#f1b6da\"],[0.4,\"#fde0ef\"],[0.5,\"#f7f7f7\"],[0.6,\"#e6f5d0\"],[0.7,\"#b8e186\"],[0.8,\"#7fbc41\"],[0.9,\"#4d9221\"],[1,\"#276419\"]]},\"xaxis\":{\"gridcolor\":\"white\",\"linecolor\":\"white\",\"ticks\":\"\",\"title\":{\"standoff\":15},\"zerolinecolor\":\"white\",\"automargin\":true,\"zerolinewidth\":2},\"yaxis\":{\"gridcolor\":\"white\",\"linecolor\":\"white\",\"ticks\":\"\",\"title\":{\"standoff\":15},\"zerolinecolor\":\"white\",\"automargin\":true,\"zerolinewidth\":2},\"scene\":{\"xaxis\":{\"backgroundcolor\":\"#E5ECF6\",\"gridcolor\":\"white\",\"linecolor\":\"white\",\"showbackground\":true,\"ticks\":\"\",\"zerolinecolor\":\"white\",\"gridwidth\":2},\"yaxis\":{\"backgroundcolor\":\"#E5ECF6\",\"gridcolor\":\"white\",\"linecolor\":\"white\",\"showbackground\":true,\"ticks\":\"\",\"zerolinecolor\":\"white\",\"gridwidth\":2},\"zaxis\":{\"backgroundcolor\":\"#E5ECF6\",\"gridcolor\":\"white\",\"linecolor\":\"white\",\"showbackground\":true,\"ticks\":\"\",\"zerolinecolor\":\"white\",\"gridwidth\":2}},\"shapedefaults\":{\"line\":{\"color\":\"#2a3f5f\"}},\"annotationdefaults\":{\"arrowcolor\":\"#2a3f5f\",\"arrowhead\":0,\"arrowwidth\":1},\"geo\":{\"bgcolor\":\"white\",\"landcolor\":\"#E5ECF6\",\"subunitcolor\":\"white\",\"showland\":true,\"showlakes\":true,\"lakecolor\":\"white\"},\"title\":{\"x\":0.05},\"mapbox\":{\"style\":\"light\"}}},\"xaxis\":{\"anchor\":\"y\",\"domain\":[0.0,1.0],\"title\":{\"text\":\"TSNE 1\"}},\"yaxis\":{\"anchor\":\"x\",\"domain\":[0.0,1.0],\"title\":{\"text\":\"TSNE 2\"}},\"legend\":{\"tracegroupgap\":0},\"title\":{\"text\":\"TSNE of Player Data with Player Names\"},\"width\":1000,\"height\":800},                        {\"responsive\": true}                    ).then(function(){\n",
       "                            \n",
       "var gd = document.getElementById('4e130f20-5b0f-4571-a16b-961ee82f0c48');\n",
       "var x = new MutationObserver(function (mutations, observer) {{\n",
       "        var display = window.getComputedStyle(gd).display;\n",
       "        if (!display || display === 'none') {{\n",
       "            console.log([gd, 'removed!']);\n",
       "            Plotly.purge(gd);\n",
       "            observer.disconnect();\n",
       "        }}\n",
       "}});\n",
       "\n",
       "// Listen for the removal of the full notebook cells\n",
       "var notebookContainer = gd.closest('#notebook-container');\n",
       "if (notebookContainer) {{\n",
       "    x.observe(notebookContainer, {childList: true});\n",
       "}}\n",
       "\n",
       "// Listen for the clearing of the current output cell\n",
       "var outputEl = gd.closest('.output');\n",
       "if (outputEl) {{\n",
       "    x.observe(outputEl, {childList: true});\n",
       "}}\n",
       "\n",
       "                        })                };                });            </script>        </div>"
      ]
     },
     "metadata": {},
     "output_type": "display_data"
    }
   ],
   "source": [
    "from sklearn.manifold import TSNE\n",
    "\n",
    "# We'll use the already standardized features from the PCA example\n",
    "tsne = TSNE(n_components=2, verbose=1, perplexity=40, n_iter=300)\n",
    "tsne_results = tsne.fit_transform(features)\n",
    "\n",
    "tsneDf = pd.DataFrame(data=tsne_results, columns=['TSNE 1', 'TSNE 2'])\n",
    "\n",
    "tsneDf['player_name'] = df['player_name'].values\n",
    "\n",
    "# Using Plotly for an interactive scatter plot\n",
    "fig = px.scatter(tsneDf, x='TSNE 1', y='TSNE 2',\n",
    "                 hover_name='player_name',\n",
    "                 title='TSNE of Player Data with Player Names')\n",
    "\n",
    "# Adjust the figure size\n",
    "fig.update_layout(width=1000, height=800)  # Adjust the size as needed\n",
    "\n",
    "# Hide the player_name from being constantly displayed\n",
    "fig.update_traces(textposition='top center', mode='markers')\n",
    "\n",
    "fig.show()"
   ]
  },
  {
   "cell_type": "code",
   "execution_count": null,
   "id": "f7a68d38-b515-4c5d-93e5-8ca29aa820d1",
   "metadata": {},
   "outputs": [],
   "source": []
  }
 ],
 "metadata": {
  "kernelspec": {
   "display_name": "Python 3 (ipykernel)",
   "language": "python",
   "name": "python3"
  },
  "language_info": {
   "codemirror_mode": {
    "name": "ipython",
    "version": 3
   },
   "file_extension": ".py",
   "mimetype": "text/x-python",
   "name": "python",
   "nbconvert_exporter": "python",
   "pygments_lexer": "ipython3",
   "version": "3.11.4"
  }
 },
 "nbformat": 4,
 "nbformat_minor": 5
}
