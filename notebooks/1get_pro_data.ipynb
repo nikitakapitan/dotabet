{
 "cells": [
  {
   "cell_type": "code",
   "execution_count": 1,
   "id": "e4b0e7b6-1057-4dac-9144-d470dfd9351d",
   "metadata": {},
   "outputs": [],
   "source": [
    "import json\n",
    "import yaml\n",
    "import dotabet\n",
    "from dotabet.fetch import fetch_data\n",
    "import datetime\n",
    "\n",
    "endpoint_template = 'https://api.opendota.com/api/matches/{}'\n",
    "meta_file = '../data/1pro_games_meta.yaml'  # Metadata file path\n",
    "\n",
    "keys2keep = \"dire_captain dire_name dire_team_id game_mode leagueid start_time\\\n",
    " lobby_type metadata patch picks_bans players radiant_captain radiant_gold_adv\\\n",
    " radiant_name radiant_score radiant_team_id radiant_win radiant_xp_adv\\\n",
    " tower_status_dire tower_status_radiant version\".split()\n",
    "\n",
    "players_keys2keep = \"account_id actions_per_min ancient_kills assists\\\n",
    " benchmarks buyback_count camps_stacked cluster creeps_stacked deaths denies\\\n",
    " firstblood_claimed gold_per_min gold_t hero_damage hero_healing hero_id hero_kills\\\n",
    " kda kill_streaks kills kills_per_min lane lane_efficiency lane_efficiency_pct\\\n",
    " lane_kills lane_role last_hits lh_t life_state_dead lose multi_kills net_worth\\\n",
    " neutral_kills observers_placed observer_kills patch pings radiant_win rank_tier\\\n",
    " roshan_kills rune_pickups sentry_kills sen_placed teamfight_participation\\\n",
    " total_gold total_xp tower_damage tower_kills win xp_per_min xp_t\".split()\n",
    "\n",
    "def get_filtered_data(fetched_data, match_id):\n",
    "    filtered_data = {'match_id' : match_id}\n",
    "    for key in keys2keep:\n",
    "        if key == 'players':\n",
    "            filtered_data['players'] = []\n",
    "            for player_dict in fetched_data['players']:\n",
    "                filtered_player = {key: player_dict[key] for key in players_keys2keep if key in player_dict}\n",
    "                filtered_data['players'].append(filtered_player)\n",
    "        else:\n",
    "            filtered_data[key] = fetched_data.get(key, None)\n",
    "    return filtered_data"
   ]
  },
  {
   "cell_type": "code",
   "execution_count": 2,
   "id": "2d4da328-cc33-4954-9ff7-9f5150b94253",
   "metadata": {},
   "outputs": [],
   "source": [
    "# CUSTOMIZE:\n",
    "\"\"\"\n",
    "new   : fetch new data and update 1pro_games_new.json\n",
    "old   : continue to fetch old data and update 1pro_games\n",
    "check : check if some matches between max and mix match_id was missing\n",
    "\"\"\"\n",
    "mode = 'new'"
   ]
  },
  {
   "cell_type": "code",
   "execution_count": 3,
   "id": "990b6ee5-b036-46b6-8b53-15a77fe343eb",
   "metadata": {},
   "outputs": [
    {
     "name": "stdout",
     "output_type": "stream",
     "text": [
      "Ready to fetch new. Most recent id: 7686395200 (14 April 2024 18:50)\n"
     ]
    }
   ],
   "source": [
    "if mode == 'new':\n",
    "    output_file = '../data/1pro_games_new.json'\n",
    "    data = dotabet.utils.load_tmp_file(output_file)\n",
    "elif mode == 'old':\n",
    "    output_file = '../data/1pro_games.json'\n",
    "    data = dotabet.utils.get_merged_data(output_file)\n",
    "elif mode == 'check':\n",
    "    output_file = '../data/1pro_games_new.json'\n",
    "    file_paths = ['../data/1pro_games_new.json', '../data/1pro_games.json']\n",
    "    data = dotabet.utils.get_merged_data(file_paths)\n",
    "else:\n",
    "    pass \n",
    "    \n",
    "data_mids = [m['match_id'] for m in data]\n",
    "\n",
    "if mode == 'new':\n",
    "    start_match_id = None \n",
    "    stop_match_id = max(data_mids) \n",
    "    recent_start_time = data[data_mids.index(stop_match_id)]['start_time']\n",
    "    recent_date = datetime.datetime.utcfromtimestamp(recent_start_time)\n",
    "    print(f\"Ready to fetch new. Most recent id: {stop_match_id} ({recent_date.strftime('%d %B %Y %H:%M')})\")\n",
    "elif mode == 'old':\n",
    "    start_match_id = min(data_mids)\n",
    "    stop_match_id = 0\n",
    "    old_start_time = data[data_mids.index(start_match_id)]['start_time']\n",
    "    old_date = datetime.datetime.utcfromtimestamp(old_start_time)\n",
    "    print(f\"Continue fetch old data from {start_match_id} ({old_date.strftime('%d %B %Y %H:%M')})\")\n",
    "elif mode == 'check':\n",
    "    start_match_id = None \n",
    "    stop_match_id = min(data_mids)\n",
    "    old_start_time = data[data_mids.index(stop_match_id)]['start_time']\n",
    "    oldest_date = datetime.datetime.utcfromtimestamp(old_start_time)\n",
    "    print(f\"I will check if any match is missing from the most recent up to {stop_match_id} ({oldest_date.strftime('%d %B %Y %H:%M')})\")\n",
    "else:\n",
    "    assert 0==1, 'unexpected error'"
   ]
  },
  {
   "cell_type": "code",
   "execution_count": 4,
   "id": "d1e965b4-e01b-4804-859a-eb858cc511ad",
   "metadata": {},
   "outputs": [
    {
     "name": "stdout",
     "output_type": "stream",
     "text": [
      "[0] match_id=7688762413✔️[1] match_id=7688681911✔️[2] match_id=7688643820✔️[3] match_id=7688602905✔️[4] match_id=7688597133✔️[5] match_id=7688590357✔️[6] match_id=7688535551✔️[7] match_id=7688509293✔️[8] match_id=7688501462✔️[9] match_id=7688493738✔️[10] match_id=7688491367✔️[11] match_id=7688474328✔️[12] match_id=7688471003✔️[13] match_id=7688461312✔️[14] match_id=7688460624✔️[15] match_id=7688452628✔️[16] match_id=7688433679✔️[17] match_id=7688433609✔️[18] match_id=7688429228✔️[19] match_id=7688426923✔️[20] match_id=7688426697✔️[21] match_id=7688408092✔️[22] match_id=7688395432✔️[23] match_id=7688391111✔️[24] match_id=7688382319✔️[25] match_id=7688374705✔️[26] match_id=7688368536✔️[27] match_id=7688362718✔️[28] match_id=7688338128✔️[29] match_id=7688331628✔️[30] match_id=7688331208✔️[31] match_id=7688330356✔️[32] match_id=7688307349✔️[33] match_id=7688303275✔️[34] match_id=7688301527✔️[35] match_id=7688275166✔️[36] match_id=7688273404✔️[37] match_id=7688271437✔️[38] match_id=7688244697✔️[39] match_id=7688244558✔️[40] match_id=7688242079✔️[41] match_id=7688220889✔️[42] match_id=7688220651✔️[43] match_id=7688211181✔️[44] match_id=7688177150✔️[45] match_id=7688111885✔️[46] match_id=7688100602✔️[47] match_id=7688082662✔️[48] match_id=7688079883✔️[49] match_id=7688054176✔️[50] match_id=7688051508✔️[51] match_id=7688027340✔️[52] match_id=7688014871✔️[53] match_id=7687995666✔️[54] match_id=7687958436✔️[55] match_id=7687957356✔️[56] match_id=7687914589✔️[57] match_id=7687897475✔️[58] match_id=7687873819✔️[59] match_id=7687840905✔️[60] match_id=7687774565✔️[61] match_id=7687758066✔️[62] match_id=7687678198✔️[63] match_id=7687669340✔️[64] match_id=7687586099✔️[65] match_id=7687573924✔️[66] match_id=7687489160✔️[67] match_id=7687471979✔️[68] match_id=7687280811✔️[69] match_id=7687238766✔️[70] match_id=7687173121✔️[71] match_id=7687170716✔️[72] match_id=7687147824✔️[73] match_id=7687140731✔️[74] match_id=7687094663✔️[75] match_id=7687083838✔️[76] match_id=7687082854✔️[77] match_id=7687068011✔️[78] match_id=7687066777✔️[79] match_id=7687060618✔️[80] match_id=7687049103✔️[81] match_id=7687046287✔️[82] match_id=7687037481✔️[83] match_id=7687023935✔️[84] match_id=7687013166✔️[85] match_id=7687009228✔️[86] match_id=7687009015✔️[87] match_id=7687002651✔️[88] match_id=7686991920✔️[89] match_id=7686974386✔️[90] match_id=7686972508✔️[91] match_id=7686968352✔️[92] match_id=7686963719✔️[93] match_id=7686956525✔️[94] match_id=7686942714✔️[95] match_id=7686926505✔️[96] match_id=7686923552✔️Request failed: 429 Client Error: Too Many Requests for url: https://api.opendota.com/api/matches/7686921489, attempt 1/7. Retry in 10 sec...\n",
      "Request failed: 429 Client Error: Too Many Requests for url: https://api.opendota.com/api/matches/7686921489, attempt 2/7. Retry in 10 sec...\n",
      "[97] match_id=7686921489✔️[98] match_id=7686902876✔️[99] match_id=7686888638✔️Next 💯\n",
      "[0] match_id=7686887409✔️[1] match_id=7686881098✔️[2] match_id=7686880938✔️[3] match_id=7686851655✔️[4] match_id=7686851538✔️[5] match_id=7686851213✔️[6] match_id=7686849436✔️[7] match_id=7686829041✔️[8] match_id=7686828993✔️[9] match_id=7686812463✔️[10] match_id=7686805094✔️[11] match_id=7686797379✔️[12] match_id=7686775887✔️[13] match_id=7686723688✔️[14] match_id=7686699458✔️[15] match_id=7686668452✔️[16] match_id=7686641777✔️[17] match_id=7686611430✔️[18] match_id=7686576598✔️[19] match_id=7686535739✔️[20] match_id=7686486497✔️[21] match_id=7686429332✔️Stop! Reached match_id=7686342256\n"
     ]
    }
   ],
   "source": [
    "stop = False\n",
    "if start_match_id:\n",
    "    endpoint_proMatches = f\"https://api.opendota.com/api/proMatches?less_than_match_id={start_match_id}\"\n",
    "else:\n",
    "    endpoint_proMatches = \"https://api.opendota.com/api/proMatches\"\n",
    "\n",
    "while 1:\n",
    "    fetched_proMatches = fetch_data(endpoint_proMatches)\n",
    "    fetched_mids = [m['match_id'] for m in fetched_proMatches]\n",
    "    for i,match_id in enumerate(fetched_mids):\n",
    "        if match_id in data_mids:\n",
    "            continue\n",
    "        if match_id <= stop_match_id:\n",
    "            stop = True\n",
    "            print(f\"Stop! Reached {match_id=}\")\n",
    "            break\n",
    "            \n",
    "        endpoint = endpoint_template.format(match_id)\n",
    "        fetched_data = fetch_data(endpoint)\n",
    "        if fetched_data:\n",
    "            if mode == 'check':\n",
    "                print(f\"Catched missing match! {match_id}\")\n",
    "            filtered_data = get_filtered_data(fetched_data, match_id)\n",
    "            with open(output_file, 'a') as file:\n",
    "                json.dump(filtered_data, file)\n",
    "                file.write(',') \n",
    "            print(f\"[{i}] {match_id=}✔️\", end='')  \n",
    "        else:\n",
    "            print(\"No new data fetched. Ending loop.\")\n",
    "            break\n",
    "    if stop:\n",
    "        break\n",
    "    endpoint_proMatches = f\"https://api.opendota.com/api/proMatches?less_than_match_id={match_id}\"\n",
    "    print(\"Next 💯\")"
   ]
  },
  {
   "cell_type": "code",
   "execution_count": null,
   "id": "747f54f7-529b-47e6-9b9a-043d26d1df23",
   "metadata": {},
   "outputs": [],
   "source": []
  }
 ],
 "metadata": {
  "kernelspec": {
   "display_name": "Python 3 (ipykernel)",
   "language": "python",
   "name": "python3"
  },
  "language_info": {
   "codemirror_mode": {
    "name": "ipython",
    "version": 3
   },
   "file_extension": ".py",
   "mimetype": "text/x-python",
   "name": "python",
   "nbconvert_exporter": "python",
   "pygments_lexer": "ipython3",
   "version": "3.11.4"
  }
 },
 "nbformat": 4,
 "nbformat_minor": 5
}
