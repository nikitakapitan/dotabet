{
 "cells": [
  {
   "cell_type": "code",
   "execution_count": 1,
   "id": "e4b0e7b6-1057-4dac-9144-d470dfd9351d",
   "metadata": {},
   "outputs": [],
   "source": [
    "import json\n",
    "import yaml\n",
    "import dotabet\n",
    "from dotabet.fetch import fetch_data\n",
    "import datetime\n",
    "\n",
    "endpoint_template = 'https://api.opendota.com/api/matches/{}'\n",
    "meta_file = '../data/1pro_games_meta.yaml'  # Metadata file path\n",
    "\n",
    "keys2keep = \"dire_captain dire_name dire_team_id game_mode leagueid start_time\\\n",
    " lobby_type metadata patch picks_bans players radiant_captain radiant_gold_adv\\\n",
    " radiant_name radiant_score radiant_team_id radiant_win radiant_xp_adv\\\n",
    " tower_status_dire tower_status_radiant version\".split()\n",
    "\n",
    "players_keys2keep = \"account_id actions_per_min ancient_kills assists\\\n",
    " benchmarks buyback_count camps_stacked cluster creeps_stacked deaths denies\\\n",
    " firstblood_claimed gold_per_min gold_t hero_damage hero_healing hero_id hero_kills\\\n",
    " kda kill_streaks kills kills_per_min lane lane_efficiency lane_efficiency_pct\\\n",
    " lane_kills lane_role last_hits lh_t life_state_dead lose multi_kills net_worth\\\n",
    " neutral_kills observers_placed observer_kills patch pings radiant_win rank_tier\\\n",
    " roshan_kills rune_pickups sentry_kills sen_placed teamfight_participation\\\n",
    " total_gold total_xp tower_damage tower_kills win xp_per_min xp_t\".split()\n",
    "\n",
    "def get_filtered_data(fetched_data, match_id):\n",
    "    filtered_data = {'match_id' : match_id}\n",
    "    for key in keys2keep:\n",
    "        if key == 'players':\n",
    "            filtered_data['players'] = []\n",
    "            for player_dict in fetched_data['players']:\n",
    "                filtered_player = {key: player_dict[key] for key in players_keys2keep if key in player_dict}\n",
    "                filtered_data['players'].append(filtered_player)\n",
    "        else:\n",
    "            filtered_data[key] = fetched_data.get(key, None)\n",
    "    return filtered_data"
   ]
  },
  {
   "cell_type": "code",
   "execution_count": 2,
   "id": "2d4da328-cc33-4954-9ff7-9f5150b94253",
   "metadata": {},
   "outputs": [],
   "source": [
    "# CUSTOMIZE:\n",
    "\"\"\"\n",
    "new   : fetch new data and update 1pro_games_new.json\n",
    "old   : continue to fetch old data and update 1pro_games\n",
    "check : check if some matches between max and min match_id was missing\n",
    "\"\"\"\n",
    "mode = 'check'"
   ]
  },
  {
   "cell_type": "code",
   "execution_count": 3,
   "id": "990b6ee5-b036-46b6-8b53-15a77fe343eb",
   "metadata": {},
   "outputs": [
    {
     "name": "stdout",
     "output_type": "stream",
     "text": [
      "I will check if any match is missing from 7718374515(03 May 2024) to 7150928783(12 May 2023)\n"
     ]
    }
   ],
   "source": [
    "if mode == 'new':\n",
    "    output_file = '../data/1pro_games_tmp.json'\n",
    "    data = dotabet.utils.load_tmp_file(output_file)\n",
    "elif mode == 'old':\n",
    "    output_file = '../data/1pro_games.json'\n",
    "    data = dotabet.utils.get_merged_data(output_file)\n",
    "elif mode == 'check':\n",
    "    output_file = '../data/1pro_games_tmp.json'\n",
    "    file_paths = ['../data/1pro_games_2.json', '../data/1pro_games_1.json']\n",
    "    data = dotabet.utils.get_merged_data(file_paths)\n",
    "else:\n",
    "    pass \n",
    "    \n",
    "data_mids = [m['match_id'] for m in data]\n",
    "\n",
    "if mode == 'new':\n",
    "    start_match_id = None # the most recent\n",
    "    stop_match_id = max(data_mids) # the newest available\n",
    "    recent_start_time = data[data_mids.index(stop_match_id)]['start_time']\n",
    "    recent_date = datetime.datetime.utcfromtimestamp(recent_start_time)\n",
    "    print(f\"Ready to fetch the Newest. Most recent id: {stop_match_id} ({recent_date.strftime('%d %B %Y %H:%M')})\")\n",
    "elif mode == 'old':\n",
    "    start_match_id = min(data_mids)\n",
    "    stop_match_id = 0\n",
    "    old_start_time = data[data_mids.index(start_match_id)]['start_time']\n",
    "    old_date = datetime.datetime.utcfromtimestamp(old_start_time)\n",
    "    print(f\"Continue fetch old data from {start_match_id} ({old_date.strftime('%d %B %Y %H:%M')})\")\n",
    "elif mode == 'check':\n",
    "    start_match_id = max(data_mids) # the most recent available\n",
    "    stop_match_id = min(data_mids) # the oldest available\n",
    "    newest_start_time = data[data_mids.index(start_match_id)]['start_time']\n",
    "    newest_date = datetime.datetime.utcfromtimestamp(newest_start_time).strftime('%d %B %Y')\n",
    "    old_start_time = data[data_mids.index(stop_match_id)]['start_time']\n",
    "    oldest_date = datetime.datetime.utcfromtimestamp(old_start_time).strftime('%d %B %Y')\n",
    "    print(f\"I will check if any match is missing from {start_match_id}({newest_date}) to {stop_match_id}({oldest_date})\")\n",
    "else:\n",
    "    assert 0==1, 'unexpected error'"
   ]
  },
  {
   "cell_type": "code",
   "execution_count": null,
   "id": "d1e965b4-e01b-4804-859a-eb858cc511ad",
   "metadata": {},
   "outputs": [],
   "source": [
    "stop = False\n",
    "if start_match_id:\n",
    "    endpoint_proMatches = f\"https://api.opendota.com/api/proMatches?less_than_match_id={start_match_id}\"\n",
    "else:\n",
    "    endpoint_proMatches = \"https://api.opendota.com/api/proMatches\"\n",
    "\n",
    "while 1: # loop over API batches of 100 before stop_match_id is reached.\n",
    "    fetched_proMatches = fetch_data(endpoint_proMatches)\n",
    "    fetched_mids = [m['match_id'] for m in fetched_proMatches]\n",
    "    for i,match_id in enumerate(fetched_mids):\n",
    "        if match_id in data_mids:\n",
    "            continue\n",
    "        if match_id <= stop_match_id:\n",
    "            stop = True\n",
    "            print(f\"Stop! Reached {match_id=}\")\n",
    "            break\n",
    "            \n",
    "        endpoint = endpoint_template.format(match_id)\n",
    "        fetched_data = fetch_data(endpoint)\n",
    "        if fetched_data:\n",
    "            if mode == 'check':\n",
    "                print(f\"Catched missing match🚩 {match_id} Process to parsing 🆕\")\n",
    "            filtered_data = get_filtered_data(fetched_data, match_id)\n",
    "            with open(output_file, 'a') as file:\n",
    "                json.dump(filtered_data, file)\n",
    "                file.write(',') \n",
    "            print(f\"[{i}] {match_id=}✔️\", end='')  \n",
    "        else:\n",
    "            print(\"No new data fetched. Ending loop.\")\n",
    "            break\n",
    "    if stop:\n",
    "        break\n",
    "    endpoint_proMatches = f\"https://api.opendota.com/api/proMatches?less_than_match_id={match_id}\"\n",
    "    print(\"Next 💯\", end=' ')"
   ]
  },
  {
   "cell_type": "code",
   "execution_count": null,
   "id": "747f54f7-529b-47e6-9b9a-043d26d1df23",
   "metadata": {},
   "outputs": [],
   "source": []
  }
 ],
 "metadata": {
  "kernelspec": {
   "display_name": "Python 3 (ipykernel)",
   "language": "python",
   "name": "python3"
  },
  "language_info": {
   "codemirror_mode": {
    "name": "ipython",
    "version": 3
   },
   "file_extension": ".py",
   "mimetype": "text/x-python",
   "name": "python",
   "nbconvert_exporter": "python",
   "pygments_lexer": "ipython3",
   "version": "3.11.4"
  }
 },
 "nbformat": 4,
 "nbformat_minor": 5
}
