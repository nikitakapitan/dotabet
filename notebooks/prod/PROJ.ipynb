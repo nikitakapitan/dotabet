{
 "cells": [
  {
   "cell_type": "code",
   "execution_count": 1,
   "id": "be7525f6-18da-47c4-ae29-ed5bc25d18f5",
   "metadata": {},
   "outputs": [],
   "source": [
    "# Go To https://api.opendota.com/api/leagues AND find LEAGUE_ID\n",
    "LEAGUE_ID = 16669\n",
    "\n",
    "import dotabet\n",
    "import os\n",
    "\n",
    "dir_path = r\"D:\\WORKSPACE\\dotabet\\data\\top_teams\"\n",
    "\n",
    "league_name = dotabet.utils.fetch_league_name(LEAGUE_ID)\n",
    "project = '_'.join(league_name.split()[:4]+[str(LEAGUE_ID)])\n",
    "project_path = os.path.join(dir_path, project)\n",
    "if not os.path.exists(project_path):\n",
    "    os.makedirs(project_path)\n",
    "\n",
    "\n",
    "league_teams_csv_path = fr\"D:\\WORKSPACE\\dotabet\\data\\top_teams\\{project}\\teams.csv\"\n",
    "all_player_csv_path = fr\"D:\\WORKSPACE\\dotabet\\data\\top_teams\\all_players.csv\"\n",
    "all_player_clean_csv_path = fr\"D:\\WORKSPACE\\dotabet\\data\\top_teams\\{project}\\all_players_clean.csv\"\n",
    "features_csv_path = fr\"D:\\WORKSPACE\\dotabet\\data\\top_teams\\{project}\\features.csv\"\n",
    "composed_teams_csv_path = fr\"D:\\WORKSPACE\\dotabet\\data\\top_teams\\{project}\\composed_teams.csv\"\n",
    "const_teams_csv_path = fr\"D:\\WORKSPACE\\dotabet\\constants\\teams.csv\"\n",
    "\n",
    "if not os.path.exists(league_teams_csv_path):\n",
    "    dotabet.league.prepare_league_teams_csv(LEAGUE_ID, const_teams_csv_path, league_teams_csv_path) # PROJECT/teams.csv\""
   ]
  },
  {
   "cell_type": "code",
   "execution_count": 2,
   "id": "8394ae2f-da34-456a-bdb2-f24da3cb0262",
   "metadata": {},
   "outputs": [
    {
     "name": "stdout",
     "output_type": "stream",
     "text": [
      "(filter) Removed non-csv teams: 3557/3288 matches have a non-top opponent\n",
      "Number of matches with csv teams before cleanup: 2349\n",
      "-------------------------\n",
      "Cleaning: [nan]\n",
      "radiant_name                   > 2    camps_stacked                  > 27   lh_t                           > 27   sen_placed                     > 27   \n",
      "dire_name                      > 7    gold_t                         > 27   neutral_kills                  > 27   teamfight_participation        > 27   \n",
      "radiant_team_id                > 2    hero_damage                    > 18   observer_kills                 > 27   total_xp                       > 1    \n",
      "dire_team_id                   > 7    hero_healing                   > 18   roshan_kills                   > 27   tower_damage                   > 18   \n",
      "actions_per_min                > 27   hero_kills                     > 27   rune_pickups                   > 27   tower_kills                    > 27   \n",
      "ancient_kills                  > 27   lane_efficiency                > 33   sentry_kills                   > 27   xp_t                           > 27   \n",
      "Total matches removed due to nan : 43 (+43 unique)\n",
      "-------------------------\n",
      "Cleaning: [non_monotonic]\n",
      "Total matches removed due to non_monotonic : 0 (+0 unique)\n",
      "-------------------------\n",
      "Cleaning: [too_high_first]\n",
      "gold_t                         > 43   xp_t                           > 52   lh_t                           > 65   \n",
      "Total matches removed due to too_high_first : 65 (+60 unique)\n",
      "-------------------------\n",
      "Cleaning: [more60]\n",
      "more60                         > 133  \n",
      "Total matches removed due to more60 : 133 (+132 unique)\n",
      "-------------------------\n",
      "Cleaning: [less15]\n",
      "less15                         > 10   \n",
      "Total matches removed due to less15 : 10 (+3 unique)\n",
      "-------------------------\n",
      "TOTAL UNIQUE MATCHES TO CLEAN: 238 / 2349 or 10.13%\n",
      "FINAL NUMBER OF MATCHES: 2111\n"
     ]
    }
   ],
   "source": [
    "# top_teams/all_players.csv -> top_teams/PROEJCT/all_players_clean.csv\n",
    "dotabet.cleanup.clean(all_player_csv_path, all_player_clean_csv_path, league_teams_csv_path) "
   ]
  },
  {
   "cell_type": "code",
   "execution_count": 2,
   "id": "7c96a6ee-43c4-49a3-9a65-86e555a5163f",
   "metadata": {},
   "outputs": [],
   "source": [
    "# PROJECT folder:\n",
    "dotabet.features.make_features(all_player_clean_csv_path, features_csv_path) # all_players_clean.csv -> features.csv\n",
    "dotabet.groupby.groupby_team_composition(features_csv_path, const_teams_csv_path) # features.csv -> composed_teams.csv\n",
    "# dotabet.filter.filter_current_team_composition(features_csv_path, teams_csv_path) # features.csv -> features_cur_teams.csv"
   ]
  },
  {
   "cell_type": "code",
   "execution_count": 4,
   "id": "8c15bb9b-ee21-4513-ab40-1a27baf62f89",
   "metadata": {},
   "outputs": [
    {
     "name": "stdout",
     "output_type": "stream",
     "text": [
      "all_players.csv (1/1).✅ All matches has exactly 10 rows\n",
      "all_players_clean.csv (1/1) ✅ features doesnt have any NaN\n",
      "features.csv (1/3).✅No missing data\n",
      "features.csv (2/3)✅For each composition team, all matches has only 5 different accounts\n",
      "features.csv (3/3)✅ has passed 10rows-consistency\n"
     ]
    }
   ],
   "source": [
    "if False: # require API calls\n",
    "    dotabet.consistency.check_team_csv_consistency(const_teams_csv_path, features_csv_path)\n",
    "dotabet.consistency.check_all_player_csv_consistency(all_player_csv_path)    \n",
    "dotabet.consistency.check_all_player_clean_csv_consistency(all_player_clean_csv_path)\n",
    "dotabet.consistency.check_features_consistency(features_csv_path, only10rows=False)"
   ]
  },
  {
   "cell_type": "code",
   "execution_count": 7,
   "id": "18299615-b8ef-4eca-9874-d2c296ae7235",
   "metadata": {},
   "outputs": [
    {
     "name": "stdout",
     "output_type": "stream",
     "text": [
      "🗑️Files from G:\\My Drive\\dotabet\\ESL_UK_2024 was fully deleted\n",
      "File copied successfully to G:\\My Drive\\dotabet\\ESL_UK_2024\n",
      "File copied successfully to G:\\My Drive\\dotabet\\ESL_UK_2024\n",
      "File copied successfully to G:\\My Drive\\dotabet\\ESL_UK_2024\n",
      "File copied successfully to G:\\My Drive\\dotabet\\ESL_UK_2024\n",
      "File copied successfully to G:\\My Drive\\dotabet\\ESL_UK_2024\n"
     ]
    }
   ],
   "source": [
    "# Google Drive\n",
    "dotabet.utils.remove_files_only(fr\"G:\\My Drive\\dotabet\\{project}\")\n",
    "\n",
    "proj_dir = fr\"D:\\WORKSPACE\\dotabet\\data\\top_teams\\{project}\"\n",
    "gdrive_dir =  fr\"G:\\My Drive\\dotabet\\{project}\"\n",
    "files = os.listdir(proj_dir)\n",
    "\n",
    "for file in files:\n",
    "    dotabet.utils.copy_to_drive(os.path.join(proj_dir, file), os.path.join(gdrive_dir, file))"
   ]
  }
 ],
 "metadata": {
  "kernelspec": {
   "display_name": "Python 3 (ipykernel)",
   "language": "python",
   "name": "python3"
  },
  "language_info": {
   "codemirror_mode": {
    "name": "ipython",
    "version": 3
   },
   "file_extension": ".py",
   "mimetype": "text/x-python",
   "name": "python",
   "nbconvert_exporter": "python",
   "pygments_lexer": "ipython3",
   "version": "3.11.4"
  }
 },
 "nbformat": 4,
 "nbformat_minor": 5
}
