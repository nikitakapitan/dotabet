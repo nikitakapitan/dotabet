{
 "cells": [
  {
   "cell_type": "code",
   "execution_count": 1,
   "id": "be7525f6-18da-47c4-ae29-ed5bc25d18f5",
   "metadata": {},
   "outputs": [],
   "source": [
    "import dotabet\n",
    "project = \"ESL_UK_2024\"\n",
    "\n",
    "teams_csv_path = fr\"D:\\WORKSPACE\\dotabet\\data\\top_teams\\{project}\\teams.csv\"\n",
    "pro_games_json_path = r\"D:\\WORKSPACE\\dotabet\\data\\top_teams\\1pro_games.json\"\n",
    "all_player_csv_path = fr\"D:\\WORKSPACE\\dotabet\\data\\top_teams\\all_players.csv\"\n",
    "all_player_clean_csv_path = fr\"D:\\WORKSPACE\\dotabet\\data\\top_teams\\{project}\\all_players_clean.csv\"\n",
    "features_csv_path = fr\"D:\\WORKSPACE\\dotabet\\data\\top_teams\\{project}\\features.csv\"\n",
    "composed_teams_csv_path = fr\"D:\\WORKSPACE\\dotabet\\data\\top_teams\\{project}\\composed_teams.csv\""
   ]
  },
  {
   "cell_type": "code",
   "execution_count": 2,
   "id": "8394ae2f-da34-456a-bdb2-f24da3cb0262",
   "metadata": {},
   "outputs": [
    {
     "name": "stdout",
     "output_type": "stream",
     "text": [
      "(filter) Removed non-csv teams: 1159/3004 matches doesnt have opponent\n",
      "Number of matches with csv teams before cleanup: 1845\n",
      "-------------------------\n",
      "Cleaning: [nan]\n",
      "radiant_name                   > 1    camps_stacked                  > 21   lh_t                           > 21   sen_placed                     > 21   \n",
      "dire_name                      > 5    gold_t                         > 21   neutral_kills                  > 21   teamfight_participation        > 21   \n",
      "radiant_team_id                > 1    hero_damage                    > 16   observer_kills                 > 21   total_xp                       > 1    \n",
      "dire_team_id                   > 5    hero_healing                   > 16   roshan_kills                   > 21   tower_damage                   > 16   \n",
      "actions_per_min                > 21   hero_kills                     > 21   rune_pickups                   > 21   tower_kills                    > 21   \n",
      "ancient_kills                  > 21   lane_efficiency                > 25   sentry_kills                   > 21   xp_t                           > 21   \n",
      "Total matches removed due to nan : 31 (+31 unique)\n",
      "-------------------------\n",
      "Cleaning: [non_monotonic]\n",
      "Total matches removed due to non_monotonic : 0 (+0 unique)\n",
      "-------------------------\n",
      "Cleaning: [too_high_first]\n",
      "gold_t                         > 37   xp_t                           > 37   lh_t                           > 50   \n",
      "Total matches removed due to too_high_first : 53 (+49 unique)\n",
      "-------------------------\n",
      "Cleaning: [more60]\n",
      "more60                         > 105  \n",
      "Total matches removed due to more60 : 105 (+102 unique)\n",
      "-------------------------\n",
      "Cleaning: [less15]\n",
      "less15                         > 7    \n",
      "Total matches removed due to less15 : 7 (+1 unique)\n",
      "-------------------------\n",
      "TOTAL UNIQUE MATCHES TO CLEAN: 183 / 1845 or 9.92%\n",
      "FINAL NUMBER OF MATCHES: 1662\n"
     ]
    }
   ],
   "source": [
    "# top_teams/all_players.csv -> top_teams/PROEJCT/all_players_clean.csv\n",
    "dotabet.cleanup.clean(all_player_csv_path, all_player_clean_csv_path, teams_csv_path) "
   ]
  },
  {
   "cell_type": "code",
   "execution_count": 2,
   "id": "7c96a6ee-43c4-49a3-9a65-86e555a5163f",
   "metadata": {},
   "outputs": [],
   "source": [
    "# PROJECT folder:\n",
    "dotabet.features.make_features(all_player_clean_csv_path, features_csv_path) # all_players_clean.csv -> features.csv\n",
    "dotabet.groupby.groupby_team_composition(features_csv_path) # features.csv -> composed_teams.csv\n",
    "dotabet.filter.filter_cur_team_composition(features_csv_path, teams_csv_path) # features.csv -> features_cur_teams.csv"
   ]
  },
  {
   "cell_type": "code",
   "execution_count": 4,
   "id": "8c15bb9b-ee21-4513-ab40-1a27baf62f89",
   "metadata": {},
   "outputs": [
    {
     "name": "stdout",
     "output_type": "stream",
     "text": [
      "all_players.csv (1/1).✅ All matches has exactly 10 rows\n",
      "all_players_clean.csv (1/1) ✅ features doesnt have any NaN\n",
      "features.csv (1/3).✅No missing data\n",
      "features.csv (2/3)✅For each composition team, all matches has only 5 different accounts\n",
      "features.csv (3/3)✅ has passed 10rows-consistency\n"
     ]
    }
   ],
   "source": [
    "if False: # require API calls\n",
    "    dotabet.consistency.check_team_csv_consistency(teams_csv_path, features_csv_path)\n",
    "dotabet.consistency.check_all_player_csv_consistency(all_player_csv_path)    \n",
    "dotabet.consistency.check_all_player_clean_csv_consistency(all_player_clean_csv_path)\n",
    "dotabet.consistency.check_features_consistency(features_csv_path, only10rows=False)"
   ]
  },
  {
   "cell_type": "code",
   "execution_count": 7,
   "id": "18299615-b8ef-4eca-9874-d2c296ae7235",
   "metadata": {},
   "outputs": [
    {
     "name": "stdout",
     "output_type": "stream",
     "text": [
      "🗑️Files from G:\\My Drive\\dotabet\\ESL_UK_2024 was fully deleted\n",
      "File copied successfully to G:\\My Drive\\dotabet\\ESL_UK_2024\n",
      "File copied successfully to G:\\My Drive\\dotabet\\ESL_UK_2024\n",
      "File copied successfully to G:\\My Drive\\dotabet\\ESL_UK_2024\n",
      "File copied successfully to G:\\My Drive\\dotabet\\ESL_UK_2024\n",
      "File copied successfully to G:\\My Drive\\dotabet\\ESL_UK_2024\n"
     ]
    }
   ],
   "source": [
    "# Google Drive\n",
    "dotabet.utils.remove_files_only(fr\"G:\\My Drive\\dotabet\\{project}\")\n",
    "\n",
    "proj_dir = fr\"D:\\WORKSPACE\\dotabet\\data\\top_teams\\{project}\"\n",
    "gdrive_dir =  fr\"G:\\My Drive\\dotabet\\{project}\"\n",
    "files = os.listdir(proj_dir)\n",
    "\n",
    "for file in files:\n",
    "    dotabet.utils.copy_to_drive(os.path.join(proj_dir, file), os.path.join(gdrive_dir, file))"
   ]
  }
 ],
 "metadata": {
  "kernelspec": {
   "display_name": "Python 3 (ipykernel)",
   "language": "python",
   "name": "python3"
  },
  "language_info": {
   "codemirror_mode": {
    "name": "ipython",
    "version": 3
   },
   "file_extension": ".py",
   "mimetype": "text/x-python",
   "name": "python",
   "nbconvert_exporter": "python",
   "pygments_lexer": "ipython3",
   "version": "3.11.4"
  }
 },
 "nbformat": 4,
 "nbformat_minor": 5
}
