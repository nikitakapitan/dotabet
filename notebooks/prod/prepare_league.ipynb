{
 "cells": [
  {
   "cell_type": "code",
   "execution_count": 1,
   "id": "9259bf14-be53-4cd8-8d12-3ba5540af713",
   "metadata": {},
   "outputs": [
    {
     "name": "stdout",
     "output_type": "stream",
     "text": [
      "Data written to D:\\WORKSPACE\\dotabet\\data\\top_teams\\TMP_PGL_Wallachia\\teams.csv\n"
     ]
    }
   ],
   "source": [
    "import csv\n",
    "import dotabet\n",
    "\n",
    "LEAGUE_ID = 16518\n",
    "data = dotabet.fetch.fetch_data(f\"https://api.opendota.com/api/leagues/{LEAGUE_ID}/teams\")\n",
    "\n",
    "# Specify the CSV file name\n",
    "filename = r'D:\\WORKSPACE\\dotabet\\data\\top_teams\\TMP_PGL_Wallachia\\teams.csv'\n",
    "\n",
    "def prepare_league_teams_csv(LEAGUE_ID,  teams_csv_path, project_teams_csv_path):\n",
    "    data = dotabet.fetch.fetch_data(f\"https://api.opendota.com/api/leagues/{LEAGUE_ID}/teams\")\n",
    "    league_df = pd.DataFrame(data)\n",
    "    constants_df = pd.read_csv(teams_csv_path)\n",
    "\n",
    "    merged_df = pd.merge(project_df, constants_df, on='team_id')#, suffixes=('_proj', '_const'))\n",
    "    merged_df.to_csv(project_teams_csv_path, index=False)\n",
    "\n"
   ]
  },
  {
   "cell_type": "code",
   "execution_count": 2,
   "id": "2baf87a0-b36d-48b9-8b96-bbb727884f01",
   "metadata": {},
   "outputs": [
    {
     "ename": "NameError",
     "evalue": "name 'teams_csv_path' is not defined",
     "output_type": "error",
     "traceback": [
      "\u001b[1;31m---------------------------------------------------------------------------\u001b[0m",
      "\u001b[1;31mNameError\u001b[0m                                 Traceback (most recent call last)",
      "Cell \u001b[1;32mIn[2], line 4\u001b[0m\n\u001b[0;32m      2\u001b[0m data \u001b[38;5;241m=\u001b[39m dotabet\u001b[38;5;241m.\u001b[39mfetch\u001b[38;5;241m.\u001b[39mfetch_data(\u001b[38;5;124mf\u001b[39m\u001b[38;5;124m\"\u001b[39m\u001b[38;5;124mhttps://api.opendota.com/api/leagues/\u001b[39m\u001b[38;5;132;01m{\u001b[39;00mLEAGUE_ID\u001b[38;5;132;01m}\u001b[39;00m\u001b[38;5;124m/teams\u001b[39m\u001b[38;5;124m\"\u001b[39m)\n\u001b[0;32m      3\u001b[0m league_df \u001b[38;5;241m=\u001b[39m pd\u001b[38;5;241m.\u001b[39mDataFrame(data)\n\u001b[1;32m----> 4\u001b[0m constants_df \u001b[38;5;241m=\u001b[39m pd\u001b[38;5;241m.\u001b[39mread_csv(\u001b[43mteams_csv_path\u001b[49m)\n\u001b[0;32m      6\u001b[0m merged_df \u001b[38;5;241m=\u001b[39m pd\u001b[38;5;241m.\u001b[39mmerge(project_df, constants_df, on\u001b[38;5;241m=\u001b[39m\u001b[38;5;124m'\u001b[39m\u001b[38;5;124mteam_id\u001b[39m\u001b[38;5;124m'\u001b[39m)\u001b[38;5;66;03m#, suffixes=('_proj', '_const'))\u001b[39;00m\n\u001b[0;32m      7\u001b[0m merged_df\u001b[38;5;241m.\u001b[39mto_csv(project_teams_csv_path, index\u001b[38;5;241m=\u001b[39m\u001b[38;5;28;01mFalse\u001b[39;00m)\n",
      "\u001b[1;31mNameError\u001b[0m: name 'teams_csv_path' is not defined"
     ]
    }
   ],
   "source": [
    "import pandas as pd\n",
    "data = dotabet.fetch.fetch_data(f\"https://api.opendota.com/api/leagues/{LEAGUE_ID}/teams\")\n",
    "league_df = pd.DataFrame(data)\n",
    "constants_df = pd.read_csv(teams_csv_path)\n",
    "\n",
    "merged_df = pd.merge(project_df, constants_df, on='team_id')#, suffixes=('_proj', '_const'))\n",
    "merged_df.to_csv(project_teams_csv_path, index=False)"
   ]
  },
  {
   "cell_type": "code",
   "execution_count": null,
   "id": "05200ef3-06fa-4960-9c79-65a283feb945",
   "metadata": {},
   "outputs": [],
   "source": []
  }
 ],
 "metadata": {
  "kernelspec": {
   "display_name": "Python 3 (ipykernel)",
   "language": "python",
   "name": "python3"
  },
  "language_info": {
   "codemirror_mode": {
    "name": "ipython",
    "version": 3
   },
   "file_extension": ".py",
   "mimetype": "text/x-python",
   "name": "python",
   "nbconvert_exporter": "python",
   "pygments_lexer": "ipython3",
   "version": "3.11.4"
  }
 },
 "nbformat": 4,
 "nbformat_minor": 5
}
