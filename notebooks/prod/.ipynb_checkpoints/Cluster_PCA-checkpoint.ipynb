{
 "cells": [
  {
   "cell_type": "code",
   "execution_count": null,
   "id": "7ea4e481-8cb5-4cb6-bf53-cc35bedf41cd",
   "metadata": {},
   "outputs": [],
   "source": [
    "import pandas as pd\n",
    "import numpy as np\n",
    "from sklearn.preprocessing import StandardScaler\n",
    "from sklearn.decomposition import PCA\n",
    "from sklearn.cluster import KMeans\n",
    "import plotly.express as px"
   ]
  },
  {
   "cell_type": "code",
   "execution_count": null,
   "id": "6a262cd2-4edb-4122-9d7a-8c1af9c49a83",
   "metadata": {},
   "outputs": [],
   "source": [
    "df = pd.read_csv('cur12.csv')\n",
    "\n",
    "# Prepare features, excluding 'deaths' and 'player_team_name'\n",
    "X = df.drop(columns=['deaths', 'player_team_name'])\n",
    "team_names = df['player_team_name']"
   ]
  },
  {
   "cell_type": "code",
   "execution_count": null,
   "id": "fcef439c-7384-4f8f-a548-24bebaa515b6",
   "metadata": {},
   "outputs": [],
   "source": [
    "# Normalize features (higher is better)\n",
    "scaler = StandardScaler()\n",
    "X_scaled = scaler.fit_transform(X)\n",
    "\n",
    "# Inverse scaling for 'deaths' (lower is better)\n",
    "deaths = df['deaths'].values.reshape(-1, 1)\n",
    "scaler_deaths = StandardScaler()\n",
    "deaths_scaled = -scaler_deaths.fit_transform(deaths)\n",
    "\n",
    "# Combine back the scaled data\n",
    "X_scaled = np.hstack((X_scaled, deaths_scaled))"
   ]
  },
  {
   "cell_type": "code",
   "execution_count": null,
   "id": "b524a46b-eb55-4a0d-874b-aa1f70426b15",
   "metadata": {},
   "outputs": [],
   "source": [
    "# Applying K-means clustering\n",
    "kmeans = KMeans(n_clusters=3, random_state=0)\n",
    "clusters = kmeans.fit_predict(X_scaled)\n",
    "\n",
    "# PCA for dimensionality reduction\n",
    "pca = PCA(n_components=2)\n",
    "X_pca = pca.fit_transform(X_scaled)"
   ]
  },
  {
   "cell_type": "code",
   "execution_count": null,
   "id": "03d3749e-de5e-49f3-9776-a63e2971ac86",
   "metadata": {},
   "outputs": [],
   "source": [
    "# Creating a DataFrame for the PCA results\n",
    "pca_df = pd.DataFrame(data = X_pca, columns = ['PC1', 'PC2'])\n",
    "pca_df['Cluster'] = clusters\n",
    "pca_df['Team Name'] = team_names\n",
    "\n",
    "# Plotting using Plotly Express\n",
    "fig = px.scatter(pca_df, x='PC1', y='PC2', color='Cluster', text='Team Name',\n",
    "                 title=\"PCA of Team Data (Clustered)\",\n",
    "                 labels={'PC1': 'Principal Component 1', 'PC2': 'Principal Component 2'},\n",
    "                 hover_data=['Team Name'])\n",
    "fig.update_traces(textposition='top center')\n",
    "fig.update_layout(width=1000, height=600)"
   ]
  }
 ],
 "metadata": {
  "kernelspec": {
   "display_name": "Python 3 (ipykernel)",
   "language": "python",
   "name": "python3"
  },
  "language_info": {
   "codemirror_mode": {
    "name": "ipython",
    "version": 3
   },
   "file_extension": ".py",
   "mimetype": "text/x-python",
   "name": "python",
   "nbconvert_exporter": "python",
   "pygments_lexer": "ipython3",
   "version": "3.11.4"
  }
 },
 "nbformat": 4,
 "nbformat_minor": 5
}
