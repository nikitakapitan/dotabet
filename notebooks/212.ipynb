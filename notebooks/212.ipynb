{
 "cells": [
  {
   "cell_type": "code",
   "execution_count": 170,
   "id": "58048e6a-635b-4bbd-849c-a2dc47e51cfb",
   "metadata": {},
   "outputs": [
    {
     "name": "stdout",
     "output_type": "stream",
     "text": [
      "For the period of 0.33 years\n",
      "\t Balance/Invested 5.46%\n",
      "\t Averaged Annual Rate 11.16%\n",
      "Annually:\n",
      "\t Balance/Invested 16.46%\n",
      "\t Averaged Annual Rate: 33.68%\n"
     ]
    }
   ],
   "source": [
    "import pandas as pd\n",
    "from datetime import datetime\n",
    "from scipy.optimize import fsolve\n",
    "\n",
    "# Define constants and file paths\n",
    "path212 = r\"C:\\Users\\nikit\\Downloads\\212.csv\"\n",
    "ticker212 = {\n",
    "    \"Xtrackers MSCI World Information Technology (Acc)\" : \"XDWT\",\n",
    "    \"iShares Edge MSCI World Quality Factor (Acc)\" : \"IWFQ\",\n",
    "    \"Lyxor DJ Global Titans 50\" : \"MGT\",\n",
    "    \"iShares Core S&P 500 (Acc)\" : \"SXR8\",\n",
    "    \"Invesco EQQQ Nasdaq-100 (Dist)\" : \"EQQQ\",\n",
    "    \"iShares USD Short Duration High Yield Corp Bond (Dist)\" : \"SDHY\",\n",
    "    \"Xtrackers MSCI Japan (Acc)\" : \"XMK9\",\n",
    "    \"iShares Core EURO STOXX 50 DE (Dist)\" : \"EXW1\",\n",
    "    \"Amundi Msci Emerging Markets (Acc)\" : \"AUEG\",\n",
    "}\n",
    "\n",
    "# Function to load and preprocess data\n",
    "def load_and_preprocess_data(path, ticker_dict):\n",
    "    df = pd.read_csv(path)\n",
    "    df = df[df['Ticker'].isin(ticker_dict.values())]\n",
    "    df['Time'] = pd.to_datetime(df['Time'].apply(lambda x: datetime.strptime(x, \"%Y-%m-%d %H:%M:%S.%f\").strftime(\"%Y-%m-%d\")))\n",
    "    return df\n",
    "\n",
    "# Function to calculate invested amount\n",
    "def calculate_invested(df):\n",
    "    df_copy = df.copy()\n",
    "    df_copy = df_copy.drop(columns=['Ticker', \"No. of shares\", 'Price / share', 'Exchange rate'])\n",
    "    gdf = df_copy.groupby(['Time']).sum().reset_index()\n",
    "    return gdf, gdf['Total'].sum()\n",
    "\n",
    "# Function to calculate current balance\n",
    "def calculate_balance(df, recent_date):\n",
    "    df_copy = df.copy()\n",
    "    df_copy = df_copy.drop(columns=['Time', 'Total'])\n",
    "    df_grouped = df_copy.groupby(['Ticker']).sum().reset_index()\n",
    "    today_prices = df[df['Time'] == recent_date].copy()\n",
    "    today_prices['price_eur'] = today_prices['Price / share'] / today_prices['Exchange rate']\n",
    "    today_prices = today_prices[['Ticker', 'price_eur']]\n",
    "    merged_df = pd.merge(df_grouped, today_prices, on='Ticker')\n",
    "    merged_df['Capitalisation'] = merged_df['No. of shares'] * merged_df['price_eur']\n",
    "    return merged_df['Capitalisation'].sum()\n",
    "\n",
    "# Function to solve for the annual rate\n",
    "def solve_annual_rate(df, balance, current_date):\n",
    "    df['Days'] = (current_date - df['Time']).dt.days\n",
    "    df['Years'] = df['Days'] / 365\n",
    "\n",
    "    def equation(r):\n",
    "        return sum(df['Total'] * (1 + r) ** df['Years']) - balance\n",
    "\n",
    "    initial_guess = 0.1\n",
    "    annual_rate_solution = fsolve(equation, initial_guess)[0]\n",
    "    return annual_rate_solution\n",
    "\n",
    "# Main function to orchestrate the workflow\n",
    "def main():\n",
    "    df = load_and_preprocess_data(path212, ticker212)\n",
    "    recent_date = df['Time'].max()\n",
    "    gdfs, invested = calculate_invested(df)\n",
    "    balance = calculate_balance(df, recent_date)\n",
    "    annual_rate = solve_annual_rate(gdfs, balance, recent_date)\n",
    "    \n",
    "    # Save the preprocessed data\n",
    "    gdfs.to_csv(r\"C:\\Users\\nikit\\Downloads\\lol.csv\", index=False)\n",
    "    \n",
    "    total_period = gdfs['Years'].max() - gdfs['Years'].min()\n",
    "    print(f\"For the period of {total_period:.2f} years\")\n",
    "    print(f\"\\t Balance/Invested {100*(balance/invested - 1):.2f}%\")\n",
    "    print(f\"\\t Averaged Annual Rate {total_period * 100*annual_rate:.2f}%\")\n",
    "    print(\"Annually:\")\n",
    "    print(f\"\\t Balance/Invested {100*(balance/invested - 1)/total_period:.2f}%\")\n",
    "    print(f\"\\t Averaged Annual Rate: {100*annual_rate:.2f}%\")\n",
    "\n",
    "if __name__ == \"__main__\":\n",
    "    main()\n"
   ]
  },
  {
   "cell_type": "code",
   "execution_count": null,
   "id": "4d542d63-16ae-44be-a205-07bdfacae627",
   "metadata": {},
   "outputs": [],
   "source": [
    "# 12/06/2024\n",
    "# For the period of 0.33 years\n",
    "# \t Balance/Invested 5.46%\n",
    "# \t Averaged Annual Rate 11.16%\n",
    "# Annually:\n",
    "# \t Balance/Invested 16.46%\n",
    "# \t Averaged Annual Rate: 33.68%"
   ]
  },
  {
   "cell_type": "code",
   "execution_count": null,
   "id": "2b3c2134-5fb2-4011-b390-ebd6fa41f86d",
   "metadata": {},
   "outputs": [],
   "source": []
  }
 ],
 "metadata": {
  "kernelspec": {
   "display_name": "Python 3 (ipykernel)",
   "language": "python",
   "name": "python3"
  },
  "language_info": {
   "codemirror_mode": {
    "name": "ipython",
    "version": 3
   },
   "file_extension": ".py",
   "mimetype": "text/x-python",
   "name": "python",
   "nbconvert_exporter": "python",
   "pygments_lexer": "ipython3",
   "version": "3.11.4"
  }
 },
 "nbformat": 4,
 "nbformat_minor": 5
}
