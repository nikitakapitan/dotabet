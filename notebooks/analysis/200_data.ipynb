{
 "cells": [
  {
   "cell_type": "code",
   "execution_count": 3,
   "id": "b83c8cc0-1fcd-4ab5-87d1-e80b8eaa26dc",
   "metadata": {},
   "outputs": [],
   "source": [
    "import json\n",
    "\n",
    "pro_matches_file = '../../data/0pro_games.json'\n",
    "\n",
    "with open(pro_matches_file, 'r', encoding='utf-8') as file:\n",
    "    # pro_data = file.read()\n",
    "    pro_data = json.load(file)"
   ]
  },
  {
   "cell_type": "code",
   "execution_count": 4,
   "id": "7b9def03-dd68-4e4b-8ab0-68190ac219dd",
   "metadata": {},
   "outputs": [],
   "source": [
    "match_ids = [d['match_id'] for d in pro_data if 'match_id' in d]\n",
    "    "
   ]
  },
  {
   "cell_type": "code",
   "execution_count": 6,
   "id": "da9188a7-986e-4db8-8ed7-312ee137f5e9",
   "metadata": {},
   "outputs": [
    {
     "data": {
      "text/plain": [
       "3623"
      ]
     },
     "execution_count": 6,
     "metadata": {},
     "output_type": "execute_result"
    }
   ],
   "source": [
    "match_ids.index(7558129623)"
   ]
  },
  {
   "cell_type": "code",
   "execution_count": 8,
   "id": "9281b9c4-1908-4f5b-9663-cef115899cb5",
   "metadata": {},
   "outputs": [
    {
     "data": {
      "text/plain": [
       "0.019869474607875397"
      ]
     },
     "execution_count": 8,
     "metadata": {},
     "output_type": "execute_result"
    }
   ],
   "source": [
    "3623/len(match_ids)"
   ]
  },
  {
   "cell_type": "code",
   "execution_count": 9,
   "id": "87c880e4-0b95-4b96-99f7-f2e6ce3775f2",
   "metadata": {},
   "outputs": [
    {
     "data": {
      "text/plain": [
       "4.0"
      ]
     },
     "execution_count": 9,
     "metadata": {},
     "output_type": "execute_result"
    }
   ],
   "source": [
    "0.08/0.02"
   ]
  },
  {
   "cell_type": "code",
   "execution_count": null,
   "id": "b1ddd407-722f-4898-9534-0dcca03275cc",
   "metadata": {},
   "outputs": [],
   "source": []
  }
 ],
 "metadata": {
  "kernelspec": {
   "display_name": "Python 3 (ipykernel)",
   "language": "python",
   "name": "python3"
  },
  "language_info": {
   "codemirror_mode": {
    "name": "ipython",
    "version": 3
   },
   "file_extension": ".py",
   "mimetype": "text/x-python",
   "name": "python",
   "nbconvert_exporter": "python",
   "pygments_lexer": "ipython3",
   "version": "3.11.4"
  }
 },
 "nbformat": 4,
 "nbformat_minor": 5
}
