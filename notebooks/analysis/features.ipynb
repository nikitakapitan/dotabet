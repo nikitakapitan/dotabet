{
 "cells": [
  {
   "cell_type": "code",
   "execution_count": 1,
   "id": "fda90e92-dd73-47c4-bb63-58500fc3f2fc",
   "metadata": {},
   "outputs": [],
   "source": [
    "import pandas as pd\n",
    "import dotabet\n",
    "import os\n",
    "features_csv_path = r\"D:\\WORKSPACE\\dotabet\\data\\top_teams\\features.csv\"\n",
    "\n",
    "matchups = pd.read_csv(features_csv_path)\n"
   ]
  },
  {
   "cell_type": "code",
   "execution_count": 2,
   "id": "1e9e2ba9-b530-4b63-b095-58112db6ad55",
   "metadata": {},
   "outputs": [
    {
     "data": {
      "text/plain": [
       "Index(['player_name', 'start_time', 'league_name', 'radiant_name', 'dire_name',\n",
       "       'player_team_name', 'match_id', 'leagueid', 'player_team_id',\n",
       "       'radiant_team_id', 'dire_team_id', 'account_id', 'actions_per_min',\n",
       "       'ancient_kills', 'assists', 'camps_stacked', 'deaths', 'denies',\n",
       "       'gold_per_min', 'hero_damage', 'hero_healing', 'hero_id', 'hero_kills',\n",
       "       'kda', 'lane_efficiency', 'win', 'last_hits', 'net_worth',\n",
       "       'neutral_kills', 'observer_kills', 'roshan_kills', 'rune_pickups',\n",
       "       'sentry_kills', 'sen_placed', 'teamfight_participation', 'total_gold',\n",
       "       'total_xp', 'tower_damage', 'tower_kills', 'xp_per_min', 'game_mode',\n",
       "       'missing_data', 'gold10', 'gold15', 'gold20', 'gold25', 'gold30',\n",
       "       'gold40', 'xp10', 'xp15', 'xp20', 'xp25', 'xp30', 'xp40', 'lh10',\n",
       "       'lh15', 'lh20', 'lh25', 'lh30', 'lh40', 'minutes', 'player_position',\n",
       "       'team_composition_id', 'team_composition'],\n",
       "      dtype='object')"
      ]
     },
     "execution_count": 2,
     "metadata": {},
     "output_type": "execute_result"
    }
   ],
   "source": [
    "matchups.keys()"
   ]
  },
  {
   "cell_type": "code",
   "execution_count": 2,
   "id": "8e6265e0-2061-4746-a262-74ecfc3b18da",
   "metadata": {},
   "outputs": [
    {
     "name": "stdout",
     "output_type": "stream",
     "text": [
      "All matchups len(matchups)=26000\n",
      "Only current teams: len(matchups)=8510\n",
      "Only selected top current teams: len(matchups)=5290\n"
     ]
    }
   ],
   "source": [
    "composed_teams_path = r\"D:\\WORKSPACE\\dotabet\\data\\top_teams\\composed_teams.csv\"\n",
    "teams= pd.read_csv(composed_teams_path)\n",
    "\n",
    "cur_composed_teams = \"1520430061\t1467011456\t544418787\t1218507308\t881243827\t981108963\t830106289\t573090428\t918882067\t867226903\t788139073\t1099587569\t729347663\t950760809\t672389004\t763176420\t674165279\t665401822\t658631980\t2397260668\t610792065\t1017575994\t600312343\t1234052947\".split()\n",
    "cur_composed_teams = [int(s) for s in cur_composed_teams]\n",
    "\n",
    "cur_teams_id = \"8255888\t8261500\t8599101\t9247354\t36\t9255706\t39\t2163\t2586976\t8291895\t1838315\t7119388\t8724984\t9255039\t8574561\t5\t9303484\t8894818\t8605863\t7422789\t7554697\t8597976\t8728920\t7732977\".split()\n",
    "cur_teams_id = [int(s) for s in cur_teams_id]\n",
    "\n",
    "lookup = teams[teams['team_composition_id'].isin(cur_composed_teams)]\n",
    "\n",
    "print(f\"All matchups {len(matchups)=}\")\n",
    "matchups = matchups[matchups['team_composition_id'].isin(cur_composed_teams)]\n",
    "print(f\"Only current teams: {len(matchups)=}\")\n",
    "matchups = matchups[matchups['dire_team_id'].isin(cur_teams_id) & matchups['radiant_team_id'].isin(cur_teams_id)]\n",
    "print(f\"Only selected top current teams: {len(matchups)=}\")\n"
   ]
  },
  {
   "cell_type": "code",
   "execution_count": 7,
   "id": "d87a6bb4-844f-4906-8aab-d3097bef4859",
   "metadata": {},
   "outputs": [],
   "source": [
    "num_cols = matchups.select_dtypes(include=['int', 'float']).columns\n",
    "str_cols = matchups.select_dtypes(include=['object']).columns\n",
    "\n",
    "str_agg = lambda x: x.mode()[0] if not x.empty else None\n",
    "agg_dict = {col: 'mean' for col in num_cols}  \n",
    "agg_dict.update({col: str_agg for col in str_cols}) \n",
    "\n",
    "matches_group = matchups.groupby('match_id') \n",
    "matches = matches_group.agg(agg_dict)\n",
    "\n",
    "matches = matches[['radiant_team_id', 'dire_team_id', 'win']]"
   ]
  },
  {
   "cell_type": "code",
   "execution_count": 8,
   "id": "2c0768ec-7c73-4545-9471-da5faa316435",
   "metadata": {},
   "outputs": [
    {
     "data": {
      "text/html": [
       "<div>\n",
       "<style scoped>\n",
       "    .dataframe tbody tr th:only-of-type {\n",
       "        vertical-align: middle;\n",
       "    }\n",
       "\n",
       "    .dataframe tbody tr th {\n",
       "        vertical-align: top;\n",
       "    }\n",
       "\n",
       "    .dataframe thead th {\n",
       "        text-align: right;\n",
       "    }\n",
       "</style>\n",
       "<table border=\"1\" class=\"dataframe\">\n",
       "  <thead>\n",
       "    <tr style=\"text-align: right;\">\n",
       "      <th></th>\n",
       "      <th>radiant_team_id</th>\n",
       "      <th>dire_team_id</th>\n",
       "      <th>win</th>\n",
       "    </tr>\n",
       "    <tr>\n",
       "      <th>match_id</th>\n",
       "      <th></th>\n",
       "      <th></th>\n",
       "      <th></th>\n",
       "    </tr>\n",
       "  </thead>\n",
       "  <tbody>\n",
       "    <tr>\n",
       "      <th>7156055428</th>\n",
       "      <td>8599101.0</td>\n",
       "      <td>8894818.0</td>\n",
       "      <td>1.0</td>\n",
       "    </tr>\n",
       "    <tr>\n",
       "      <th>7156165506</th>\n",
       "      <td>8599101.0</td>\n",
       "      <td>8894818.0</td>\n",
       "      <td>0.0</td>\n",
       "    </tr>\n",
       "    <tr>\n",
       "      <th>7156260357</th>\n",
       "      <td>8599101.0</td>\n",
       "      <td>8894818.0</td>\n",
       "      <td>1.0</td>\n",
       "    </tr>\n",
       "    <tr>\n",
       "      <th>7161283873</th>\n",
       "      <td>1838315.0</td>\n",
       "      <td>8599101.0</td>\n",
       "      <td>0.0</td>\n",
       "    </tr>\n",
       "    <tr>\n",
       "      <th>7161403818</th>\n",
       "      <td>8599101.0</td>\n",
       "      <td>1838315.0</td>\n",
       "      <td>1.0</td>\n",
       "    </tr>\n",
       "    <tr>\n",
       "      <th>...</th>\n",
       "      <td>...</td>\n",
       "      <td>...</td>\n",
       "      <td>...</td>\n",
       "    </tr>\n",
       "    <tr>\n",
       "      <th>7658738730</th>\n",
       "      <td>8574561.0</td>\n",
       "      <td>5.0</td>\n",
       "      <td>0.5</td>\n",
       "    </tr>\n",
       "    <tr>\n",
       "      <th>7658876235</th>\n",
       "      <td>2586976.0</td>\n",
       "      <td>8291895.0</td>\n",
       "      <td>0.5</td>\n",
       "    </tr>\n",
       "    <tr>\n",
       "      <th>7658998362</th>\n",
       "      <td>8291895.0</td>\n",
       "      <td>2586976.0</td>\n",
       "      <td>0.5</td>\n",
       "    </tr>\n",
       "    <tr>\n",
       "      <th>7659099702</th>\n",
       "      <td>2586976.0</td>\n",
       "      <td>8291895.0</td>\n",
       "      <td>0.5</td>\n",
       "    </tr>\n",
       "    <tr>\n",
       "      <th>7659223160</th>\n",
       "      <td>8291895.0</td>\n",
       "      <td>2586976.0</td>\n",
       "      <td>0.5</td>\n",
       "    </tr>\n",
       "  </tbody>\n",
       "</table>\n",
       "<p>711 rows × 3 columns</p>\n",
       "</div>"
      ],
      "text/plain": [
       "            radiant_team_id  dire_team_id  win\n",
       "match_id                                      \n",
       "7156055428        8599101.0     8894818.0  1.0\n",
       "7156165506        8599101.0     8894818.0  0.0\n",
       "7156260357        8599101.0     8894818.0  1.0\n",
       "7161283873        1838315.0     8599101.0  0.0\n",
       "7161403818        8599101.0     1838315.0  1.0\n",
       "...                     ...           ...  ...\n",
       "7658738730        8574561.0           5.0  0.5\n",
       "7658876235        2586976.0     8291895.0  0.5\n",
       "7658998362        8291895.0     2586976.0  0.5\n",
       "7659099702        2586976.0     8291895.0  0.5\n",
       "7659223160        8291895.0     2586976.0  0.5\n",
       "\n",
       "[711 rows x 3 columns]"
      ]
     },
     "execution_count": 8,
     "metadata": {},
     "output_type": "execute_result"
    }
   ],
   "source": [
    "matches"
   ]
  },
  {
   "cell_type": "code",
   "execution_count": null,
   "id": "e9f5b3ba-b9c9-4a4f-ac3f-0cf9f1788591",
   "metadata": {},
   "outputs": [],
   "source": [
    "import pandas as pd\n",
    "import dotabet\n",
    "\n",
    "features_csv_path = r\"D:\\WORKSPACE\\dotabet\\data\\top_teams\\features.csv\"\n",
    "\n",
    "df = pd.read_csv(features_csv_path)\n",
    "\n",
    "cols_to_drop = df.select_dtypes(include='object').columns.difference(['match_id', '])\n",
    "df = df.drop(columns=cols_to_drop)"
   ]
  }
 ],
 "metadata": {
  "kernelspec": {
   "display_name": "Python 3 (ipykernel)",
   "language": "python",
   "name": "python3"
  },
  "language_info": {
   "codemirror_mode": {
    "name": "ipython",
    "version": 3
   },
   "file_extension": ".py",
   "mimetype": "text/x-python",
   "name": "python",
   "nbconvert_exporter": "python",
   "pygments_lexer": "ipython3",
   "version": "3.11.4"
  }
 },
 "nbformat": 4,
 "nbformat_minor": 5
}
