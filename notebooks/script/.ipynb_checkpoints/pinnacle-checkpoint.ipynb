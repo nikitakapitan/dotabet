{
 "cells": [
  {
   "cell_type": "code",
   "execution_count": null,
   "id": "c5cd887b-15a4-4037-a4b9-b5d9d4d6ca82",
   "metadata": {},
   "outputs": [],
   "source": [
    "from dotabet.ui import send_telegram_message\n",
    "from dotabet.script.pinnacle import scrape_dota2_odds   \n",
    "from dotabet.script.recommend import recommend_elo  \n",
    "\n",
    "parse_token = \"7416284654:AAGhRdKNgUlwDrBRPp_xRaMO151aMMh11jY\"\n",
    "chat_id = \"333091706\"\n",
    "\n",
    "\n",
    "tg_msg = scrape_dota2_odds()\n",
    "send_telegram_message(parse_token, chat_id, ''.join(tg_msg))\n",
    "\n",
    "# dota2_rec_bot\n",
    "rec_token = \"7227209457:AAHHtQ2mSnHyK6zzyIjQZFyrLd4CXBZn3_o\"\n",
    "tg_msg_rec = recommend_elo()  \n",
    "send_telegram_message(rec_token, chat_id, ''.join(tg_msg_rec))"
   ]
  }
 ],
 "metadata": {
  "kernelspec": {
   "display_name": "Python 3 (ipykernel)",
   "language": "python",
   "name": "python3"
  },
  "language_info": {
   "codemirror_mode": {
    "name": "ipython",
    "version": 3
   },
   "file_extension": ".py",
   "mimetype": "text/x-python",
   "name": "python",
   "nbconvert_exporter": "python",
   "pygments_lexer": "ipython3",
   "version": "3.11.4"
  }
 },
 "nbformat": 4,
 "nbformat_minor": 5
}
