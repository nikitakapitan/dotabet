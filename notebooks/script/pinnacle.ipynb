{
 "cells": [
  {
   "cell_type": "code",
   "execution_count": 6,
   "id": "c5cd887b-15a4-4037-a4b9-b5d9d4d6ca82",
   "metadata": {},
   "outputs": [
    {
     "name": "stdout",
     "output_type": "stream",
     "text": [
      "HTML MATCH!\n",
      "block[0/18]=Match_date: 2024-08-08\n",
      "block[1/18]=League_name: CCT SERIES\n",
      "block[2/18]=<Skip non-(Match)> \n",
      "block[3/18]=<Skip non-(Match)> \n",
      "block[4/18]=<Skip non-(Match)> \n",
      "block[5/18]=<Skip non-(Match)> \n",
      "❗Data already exist in CSV: \n",
      "block[6/18]=Match_odds: data=['2024-08-08', 'CCT SERIES', 'l1ga (kills)', '1.757', 'night pulse (kills)', '1.917', '(Map 1)', None, None, None, None]\n",
      "block[7/18]=<Skip non-(Match)> \n",
      "block[8/18]=<Skip non-(Match)> \n",
      "❗Data already exist in CSV: \n",
      "block[9/18]=Match_odds: data=['2024-08-08', 'CCT SERIES', 'l1ga', '1.751', 'night pulse', '2.010', '(Match)', None, None, None, None]\n",
      "❗Data already exist in CSV: \n",
      "block[10/18]=Match_odds: data=['2024-08-08', 'CCT SERIES', 'l1ga', '1.787', 'night pulse', '1.961', '(Map 1)', None, None, None, None]\n",
      "block[11/18]=<Skip non-(Match)> \n",
      "block[12/18]=<Skip non-(Match)> \n",
      "block[13/18]=League_name: EUROPEAN PRO LEAGUE\n",
      "❗Data already exist in CSV: \n",
      "block[14/18]=Match_odds: data=['2024-08-08', 'EUROPEAN PRO LEAGUE', 'dms', '4.320', 'avulus', '1.192', '(Match)', None, None, None, None]\n",
      "❗Data already exist in CSV: \n",
      "block[15/18]=Match_odds: data=['2024-08-08', 'EUROPEAN PRO LEAGUE', 'dms', '3.110', 'avulus', '1.334', '(Map 1)', None, None, None, None]\n",
      "block[16/18]=<Skip non-(Match)> \n",
      "block[17/18]=<Skip non-(Match)> \n",
      "Message sent successfully.\n",
      "Message sent successfully.\n"
     ]
    }
   ],
   "source": [
    "from dotabet.ui import send_telegram_message\n",
    "from dotabet.script.pinnacle import scrape_dota2_odds   \n",
    "from dotabet.script.recommend import recommend_elo  \n",
    "\n",
    "parse_token = \"7416284654:AAGhRdKNgUlwDrBRPp_xRaMO151aMMh11jY\"\n",
    "chat_id = \"333091706\"\n",
    "\n",
    "\n",
    "tg_msg = scrape_dota2_odds()\n",
    "send_telegram_message(parse_token, chat_id, ''.join(tg_msg))\n",
    "\n",
    "# dota2_rec_bot\n",
    "rec_token = \"7227209457:AAHHtQ2mSnHyK6zzyIjQZFyrLd4CXBZn3_o\"\n",
    "tg_msg_rec = recommend_elo()  \n",
    "send_telegram_message(rec_token, chat_id, ''.join(tg_msg_rec))"
   ]
  },
  {
   "cell_type": "code",
   "execution_count": 1,
   "id": "4125ba51-6760-4a4f-b533-c31183e9489d",
   "metadata": {},
   "outputs": [],
   "source": [
    "from dotabet.script.pinnacle import *\n",
    "from selenium import webdriver\n",
    "from selenium.webdriver.chrome.service import Service\n",
    "from selenium.webdriver.chrome.options import Options\n",
    "from selenium.common.exceptions import NoSuchElementException\n",
    "from webdriver_manager.chrome import ChromeDriverManager\n",
    "from selenium.webdriver.common.by import By\n",
    "import time\n",
    "from datetime import datetime, timedelta\n",
    "import locale\n",
    "import csv\n",
    "import os\n",
    "import dotabet"
   ]
  },
  {
   "cell_type": "code",
   "execution_count": 2,
   "id": "160b68bd-9358-41cc-a0ca-d8b12b43cd60",
   "metadata": {},
   "outputs": [],
   "source": [
    "telegram_msg = []\n",
    "odds_file = r\"D:\\WORKSPACE\\dotabet\\data\\odds\\pinnacle.csv\"\n",
    "\n",
    "chrome_driver_path = r\"D:\\PROGRAMS\\chromedriver-win64\\chromedriver.exe\" # Update this to your path\n",
    "chrome_options = Options()\n",
    "chrome_options.add_argument(\"--start-maximized\")  # Start browser maximized\n",
    "chrome_options.add_argument(\"--disable-infobars\")  # Disables the \"Chrome is being controlled by automated software\" info bar\n",
    "chrome_options.add_argument(\"--disable-extensions\")  # Disables extensions\n",
    "chrome_options.add_argument(\"--disable-gpu\")  # Applicable to Windows OS only\n",
    "chrome_options.add_argument(\"--no-sandbox\")  # Bypass OS security model\n",
    "# chrome_options.add_argument(\"--headless\")  # Run browser in headless mode (without GUI)\n",
    "driver = webdriver.Chrome(service=Service(chrome_driver_path), options=chrome_options)\n",
    "\n",
    "# driver = webdriver.Chrome(service=Service(ChromeDriverManager().install()))\n",
    "driver.get(\"https://www.pinnacle.com/en/esports/games/dota-2/matchups\")\n",
    "time.sleep(5) \n",
    "\n"
   ]
  },
  {
   "cell_type": "code",
   "execution_count": 3,
   "id": "c8334f5b-aa69-4243-aa51-705357b3793e",
   "metadata": {},
   "outputs": [],
   "source": [
    "square = driver.find_element(By.CSS_SELECTOR, \"div.contentBlock.square > div.contentBlock.square\")"
   ]
  },
  {
   "cell_type": "code",
   "execution_count": 4,
   "id": "0b80a03c-2117-4d09-bf8a-85f23e5014ca",
   "metadata": {},
   "outputs": [
    {
     "name": "stdout",
     "output_type": "stream",
     "text": [
      "HTML MATCH!\n"
     ]
    }
   ],
   "source": [
    "possibilities = [\n",
    "        {'html_class_name': \"div[class^='style_']\",\n",
    "         'attributes' : {'date':'style_dateBar__1adEH', \n",
    "                         'league':'style_row__yBzX8 style_row__3l5MS', \n",
    "                         'league_name': \"div.style_metadata__3MrIC > a > span\",\n",
    "                         'match':'style_row__yBzX8 style_row__12oAB'},\n",
    "        'get_match_odds' : {\n",
    "            'game_info' : \"div.style_gameInfoLabel__2m_fI > span\",\n",
    "            'button' : \"div.style_moneyline__2xTld > div > button\",\n",
    "            'price' : \"span.style_price__3Haa9\",\n",
    "        }\n",
    "        },\n",
    "        \n",
    "        {'html_class_name': \"div[class*='dateBar-'], div[class*='row-']\",\n",
    "         'attributes' : {\n",
    "                        'date':'dateBar-b83858329620e87b99fb',\n",
    "                        'league':'row-bbd1776fd58233709296 row-ac8af553db5a3ea5e320',\n",
    "                         'league_name': \"div.metadata-d9074d0152100423acd2 > a > span\",\n",
    "                        'match':'row-bbd1776fd58233709296 row-d92d06fbd3b09cc856bc'},\n",
    "          'get_match_odds' : {\n",
    "            'game_info' : \"div.gameInfoLabel-d8bf9c447dde89f4b6d3 > span\",\n",
    "              'button' : \"div.moneyline-b659033c444c08949788 > div.button-wrapper-ba44ec5a25fd38fc661c > button\",\n",
    "              'price' : \"span.price-af9054d329c985ad490f\",\n",
    "        }\n",
    "        },\n",
    "    ]\n",
    "     \n",
    "current_html_names = {}\n",
    "for possible_html_name in possibilities:\n",
    "    content_blocks_all = square.find_elements(By.CSS_SELECTOR, possible_html_name['html_class_name'])\n",
    "    content_blocks = [cb for cb in content_blocks_all if cb.get_attribute(\"class\") in possible_html_name['attributes'].values()]\n",
    "    n = len(content_blocks)\n",
    "    if content_blocks:\n",
    "        print(\"HTML MATCH!\")\n",
    "        current_html_names = possible_html_name\n",
    "        break"
   ]
  },
  {
   "cell_type": "code",
   "execution_count": 5,
   "id": "229f3bf5-41a6-469c-a56b-f3b06f42d673",
   "metadata": {},
   "outputs": [
    {
     "name": "stdout",
     "output_type": "stream",
     "text": [
      "block[0/18]=Match_date: 2024-08-08\n",
      "block[1/18]=League_name: CCT SERIES\n",
      "block[2/18]=<Skip non-(Match)> \n",
      "block[3/18]=<Skip non-(Match)> \n",
      "block[4/18]=<Skip non-(Match)> \n",
      "block[5/18]=<Skip non-(Match)> \n",
      "block[6/18]=Match_odds: data=['2024-08-08', 'CCT SERIES', 'l1ga (kills)', '1.757', 'night pulse (kills)', '1.917', '(Map 1)', None, None, None, None]\n",
      "block[7/18]=<Skip non-(Match)> \n",
      "block[8/18]=<Skip non-(Match)> \n",
      "block[9/18]=Match_odds: data=['2024-08-08', 'CCT SERIES', 'l1ga', '1.751', 'night pulse', '2.010', '(Match)', None, None, None, None]\n",
      "❗Data already exist in CSV: \n",
      "block[10/18]=Match_odds: data=['2024-08-08', 'CCT SERIES', 'l1ga', '1.787', 'night pulse', '1.961', '(Map 1)', None, None, None, None]\n",
      "block[11/18]=<Skip non-(Match)> \n",
      "block[12/18]=<Skip non-(Match)> \n",
      "block[13/18]=League_name: EUROPEAN PRO LEAGUE\n",
      "block[14/18]=Match_odds: data=['2024-08-08', 'EUROPEAN PRO LEAGUE', 'dms', '4.320', 'avulus', '1.192', '(Match)', None, None, None, None]\n",
      "❗Data already exist in CSV: \n",
      "block[15/18]=Match_odds: data=['2024-08-08', 'EUROPEAN PRO LEAGUE', 'dms', '3.110', 'avulus', '1.334', '(Map 1)', None, None, None, None]\n",
      "block[16/18]=<Skip non-(Match)> \n",
      "block[17/18]=<Skip non-(Match)> \n"
     ]
    }
   ],
   "source": [
    "for i, block in enumerate(content_blocks):\n",
    "    if block.get_attribute(\"class\") == current_html_names['attributes']['date']: # TODAY, TOMMOROW or DATE\n",
    "        date_ymd = get_date_ymd(block)\n",
    "        print(f\"block[{i}/{n}]=Match_date: {date_ymd}\")\n",
    "        continue\n",
    "    elif block.get_attribute(\"class\") == current_html_names['attributes']['league']: # LEAGUE NAME\n",
    "        league_name = block.find_element(By.CSS_SELECTOR, current_html_names['attributes']['league_name']).text\n",
    "        print(f\"block[{i}/{n}]=League_name: {league_name}\")\n",
    "        continue\n",
    "    elif block.get_attribute(\"class\") == current_html_names['attributes']['match']: # MATCH ODDS\n",
    "        odd_data = get_match_odds(block, html_names=current_html_names['get_match_odds'])\n",
    "        if odd_data and odd_data[1]: # (Match) or (Map 1) and non-empty\n",
    "            data = [date_ymd, league_name] + odd_data + [None, None] # None for eloc1, eloc2 to pinnacle.csv\n",
    "            if append_to_csv(odds_file, data):\n",
    "                telegram_msg.append(f\"\\n✅New:{data}\")\n",
    "            else:\n",
    "                telegram_msg.append(\"🔄\")\n",
    "            print(f\"block[{i}/{n}]=Match_odds: {data=}\")\n",
    "        elif odd_data and not odd_data[1]: # (Match) but empty odds\n",
    "            print(f\"block[{i}/{n}] = (Match) but blocked odds🚫\")\n",
    "            telegram_msg.append(\"🚫\")\n",
    "        else:\n",
    "            print(f\"block[{i}/{n}]=<Skip non-(Match)> \")\n",
    "    else:\n",
    "        unknown_block = block.get_attribute(\"class\")\n",
    "        print(f\"block {i}/{n} Unknown {unknown_block}\")"
   ]
  },
  {
   "cell_type": "code",
   "execution_count": null,
   "id": "c4ed7228-9594-4954-b65a-d50ae004322b",
   "metadata": {},
   "outputs": [],
   "source": []
  }
 ],
 "metadata": {
  "kernelspec": {
   "display_name": "Python 3 (ipykernel)",
   "language": "python",
   "name": "python3"
  },
  "language_info": {
   "codemirror_mode": {
    "name": "ipython",
    "version": 3
   },
   "file_extension": ".py",
   "mimetype": "text/x-python",
   "name": "python",
   "nbconvert_exporter": "python",
   "pygments_lexer": "ipython3",
   "version": "3.11.4"
  }
 },
 "nbformat": 4,
 "nbformat_minor": 5
}
