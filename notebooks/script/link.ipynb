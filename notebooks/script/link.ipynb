{
 "cells": [
  {
   "cell_type": "code",
   "execution_count": 3,
   "id": "9da590db-45b7-4307-8849-737505cbf205",
   "metadata": {},
   "outputs": [],
   "source": [
    "from dotabet.ui import send_telegram_message\n",
    "from dotabet.script.link import link  \n",
    "import dotabet\n",
    "import pandas as pd\n",
    "from datetime import datetime\n",
    "from dotabet.script.link import get_score, standardize_index, get_team_id, determine_winner"
   ]
  },
  {
   "cell_type": "code",
   "execution_count": 4,
   "id": "cced9443-053c-42ca-8e76-45fc22feaec1",
   "metadata": {},
   "outputs": [
    {
     "name": "stdout",
     "output_type": "stream",
     "text": [
      "Message sent successfully.\n"
     ]
    }
   ],
   "source": [
    "kapitan_chat_id='333091706'\n",
    "\n",
    "# Dotabet_link\n",
    "link_token = '7074261020:AAG5hh_xsFvGXW7gBDnwH4ocwJzrmCGYSPY'\n",
    "link_msg = link(api_pages=50)\n",
    "send_telegram_message(link_token, kapitan_chat_id, ''.join(link_msg))"
   ]
  },
  {
   "cell_type": "code",
   "execution_count": 45,
   "id": "3d069c23-fdf4-4f2c-becf-00f722732f29",
   "metadata": {},
   "outputs": [
    {
     "data": {
      "text/plain": [
       "datetime.datetime(2024, 7, 11, 7, 37)"
      ]
     },
     "execution_count": 45,
     "metadata": {},
     "output_type": "execute_result"
    }
   ],
   "source": [
    "datetime.utcfromtimestamp(1720683420)"
   ]
  },
  {
   "cell_type": "code",
   "execution_count": 5,
   "id": "83d1215f-637a-44eb-96d0-27cf8f0b0546",
   "metadata": {},
   "outputs": [
    {
     "name": "stdout",
     "output_type": "stream",
     "text": [
      "0: 2024-07-22 04:55:49 - 2024-07-19 19:55:15 match0['match_id']=7858684126 matchl['match_id']=7854484586\n",
      "1: 2024-07-19 19:52:57 - 2024-07-18 09:58:01 match0['match_id']=7854480389 matchl['match_id']=7851898926\n",
      "2: 2024-07-18 09:21:32 - 2024-07-17 01:10:32 match0['match_id']=7851871709 matchl['match_id']=7849839836\n",
      "3: 2024-07-17 00:23:18 - 2024-07-15 13:39:30 match0['match_id']=7849809493 matchl['match_id']=7847279026\n",
      "4: 2024-07-15 13:18:52 - 2024-07-14 12:32:16 match0['match_id']=7847239641 matchl['match_id']=7845398858\n",
      "5: 2024-07-14 12:30:00 - 2024-07-13 08:07:20 match0['match_id']=7845398650 matchl['match_id']=7843027550\n",
      "6: 2024-07-13 07:58:21 - 2024-07-12 06:35:59 match0['match_id']=7843016159 matchl['match_id']=7841061621\n",
      "7: 2024-07-12 06:28:50 - 2024-07-11 07:37:00 match0['match_id']=7841053399 matchl['match_id']=7839354565\n",
      "8: 2024-07-11 07:04:10 - 2024-07-10 08:14:22 match0['match_id']=7839318388 matchl['match_id']=7837629070\n",
      "9: 2024-07-10 07:57:28 - 2024-07-09 00:32:35 match0['match_id']=7837611084 matchl['match_id']=7835779203\n",
      "10: 2024-07-09 00:16:46 - 2024-07-07 14:44:16 match0['match_id']=7835768636 matchl['match_id']=7833562621\n",
      "11: 2024-07-07 13:57:40 - 2024-07-05 22:58:22 match0['match_id']=7833483769 matchl['match_id']=7830838144\n",
      "12: 2024-07-05 22:27:49 - 2024-07-04 22:46:20 match0['match_id']=7830812293 matchl['match_id']=7829337645\n",
      "13: 2024-07-04 22:36:38 - 2024-07-03 20:01:46 match0['match_id']=7829330472 matchl['match_id']=7827707513\n",
      "14: 2024-07-03 20:01:25 - 2024-07-02 11:01:53 match0['match_id']=7827704785 matchl['match_id']=7825420255\n",
      "15: 2024-07-02 10:27:18 - 2024-07-01 08:01:28 match0['match_id']=7825382339 matchl['match_id']=7823750264\n",
      "16: 2024-07-01 07:56:33 - 2024-06-29 23:23:27 match0['match_id']=7823744365 matchl['match_id']=7821635440\n",
      "17: 2024-06-29 23:09:03 - 2024-06-28 15:49:45 match0['match_id']=7821624482 matchl['match_id']=7819343874\n",
      "18: 2024-06-28 15:46:20 - 2024-06-27 18:24:42 match0['match_id']=7819332376 matchl['match_id']=7818027318\n",
      "19: 2024-06-27 18:14:24 - 2024-06-26 19:49:57 match0['match_id']=7818013090 matchl['match_id']=7816615052\n",
      "20: 2024-06-26 19:31:39 - 2024-06-25 18:04:25 match0['match_id']=7816589720 matchl['match_id']=7814943754\n",
      "21: 2024-06-25 17:38:12 - 2024-06-24 21:57:55 match0['match_id']=7814906609 matchl['match_id']=7813674834\n",
      "22: 2024-06-24 21:52:59 - 2024-06-24 05:36:17 match0['match_id']=7813670806 matchl['match_id']=7812408839\n",
      "23: 2024-06-24 05:26:42 - 2024-06-22 18:34:46 match0['match_id']=7812403475 matchl['match_id']=7809944421\n",
      "24: 2024-06-22 18:14:09 - 2024-06-21 11:28:34 match0['match_id']=7809912466 matchl['match_id']=7807412205\n"
     ]
    }
   ],
   "source": [
    "endpoint_matches = \"https://api.opendota.com/api/proMatches?less_than_match_id=7858690256\"\n",
    "for _ in range(25):\n",
    "    fetched_matches = dotabet.fetch.fetch_data(endpoint_matches)\n",
    "    match0 = fetched_matches[0]\n",
    "    matchl = fetched_matches[-1]\n",
    "    print(f\"{_}: {datetime.utcfromtimestamp(match0['start_time'])} - {datetime.utcfromtimestamp(matchl['start_time'])} {match0['match_id']=} {matchl['match_id']=}\")\n",
    "    endpoint_matches = f\"https://api.opendota.com/api/proMatches?less_than_match_id={fetched_matches[-1]['match_id']}\""
   ]
  }
 ],
 "metadata": {
  "kernelspec": {
   "display_name": "Python 3 (ipykernel)",
   "language": "python",
   "name": "python3"
  },
  "language_info": {
   "codemirror_mode": {
    "name": "ipython",
    "version": 3
   },
   "file_extension": ".py",
   "mimetype": "text/x-python",
   "name": "python",
   "nbconvert_exporter": "python",
   "pygments_lexer": "ipython3",
   "version": "3.11.4"
  }
 },
 "nbformat": 4,
 "nbformat_minor": 5
}
