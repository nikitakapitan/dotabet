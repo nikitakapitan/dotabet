{
 "cells": [
  {
   "cell_type": "code",
   "execution_count": null,
   "id": "451d41b7-e836-4361-b60c-fbaf333f864f",
   "metadata": {},
   "outputs": [],
   "source": [
    "import requests\n",
    "import pandas as pd\n",
    "from datetime import datetime\n",
    "import os\n",
    "import time\n",
    "\n",
    "file_path = r\"D:\\WORKSPACE\\dotabet\\data\\simple_matches_less2022.csv\"\n",
    "\n",
    "def fetch_matches(last_match_id=None):\n",
    "    url = \"https://api.opendota.com/api/proMatches\"\n",
    "    if last_match_id:\n",
    "        url += f\"?less_than_match_id={last_match_id}\"\n",
    "    \n",
    "    max_retries = 2\n",
    "    retries = 0\n",
    "\n",
    "    while retries < max_retries:\n",
    "        response = requests.get(url)\n",
    "        if response.status_code == 200:\n",
    "            return response.json()\n",
    "        elif response.status_code == 429:  # Too Many Requests\n",
    "            print(f\"Too Many Requests: {response.status_code} {response.text} Wait for 60 secs\")\n",
    "            time.sleep(60)  \n",
    "            retries += 1\n",
    "        elif response.status_code == 502: # Bad Gateway Error\n",
    "            print(f\"Bad Gateway Error: {response.status_code} {response.text} Wait for MORE secs\")\n",
    "            time.sleep(60 * (retries + 1))\n",
    "            retries += 1\n",
    "        else:\n",
    "            raise Exception(f\"Failed to fetch data: {response.status_code} {response.text}\")\n",
    "\n",
    "    raise Exception(\"API request failed after maximum retries.\")\n",
    "\n",
    "def parse_matches(matches):\n",
    "    parsed_data = []\n",
    "    for match in matches:\n",
    "        match_data = {\n",
    "            \"match_id\": match.get(\"match_id\"),\n",
    "            \"duration\": match.get(\"duration\"),\n",
    "            \"start_time\": datetime.fromtimestamp(match.get(\"start_time\")).strftime('%d-%m-%Y'),\n",
    "            \"radiant_team_id\": match.get(\"radiant_team_id\"),\n",
    "            \"radiant_name\": match.get(\"radiant_name\"),\n",
    "            \"dire_team_id\": match.get(\"dire_team_id\"),\n",
    "            \"dire_name\": match.get(\"dire_name\"),\n",
    "            \"leagueid\": match.get(\"leagueid\"),\n",
    "            \"league_name\": match.get(\"league_name\"),\n",
    "            \"series_id\": match.get(\"series_id\", \"NaN\"),\n",
    "            \"series_type\": match.get(\"series_type\", \"NaN\"),\n",
    "            \"radiant_score\": match.get(\"radiant_score\"),\n",
    "            \"dire_score\": match.get(\"dire_score\"),\n",
    "            \"radiant_win\": match.get(\"radiant_win\"),\n",
    "            \"version\": match.get(\"version\", \"NaN\")\n",
    "        }\n",
    "        parsed_data.append(match_data)\n",
    "    return parsed_data\n",
    "\n",
    "def main():\n",
    "    # Determine the starting last_match_id\n",
    "    if os.path.exists(file_path):\n",
    "        df = pd.read_csv(file_path)\n",
    "        last_match_id = df['match_id'].iloc[-1]\n",
    "    else:\n",
    "        last_match_id = None\n",
    "        # Initialize an empty CSV if it doesn't exist to set headers and handle empty file scenario\n",
    "        pd.DataFrame(columns=[\"match_id\", \"duration\", \"start_time\", \"radiant_team_id\", \"radiant_name\", \n",
    "                              \"dire_team_id\", \"dire_name\", \"leagueid\", \"league_name\", \"series_id\", \n",
    "                              \"series_type\", \"radiant_score\", \"dire_score\", \"radiant_win\", \"version\"]).to_csv(file_path, index=False)\n",
    "\n",
    "    year_reached = False\n",
    "\n",
    "    while not year_reached:\n",
    "        matches = fetch_matches(last_match_id)\n",
    "        if not matches:\n",
    "            break\n",
    "        parsed_matches_data = parse_matches(matches)\n",
    "        \n",
    "        # Append new matches to DataFrame\n",
    "        new_df = pd.DataFrame(parsed_matches_data)\n",
    "        # Append new data to the CSV file in append mode with headers off after the first write\n",
    "        new_df.to_csv(file_path, mode='a', header=False, index=False)\n",
    "\n",
    "        # Update the last_match_id for the next API request\n",
    "        last_match_id = matches[-1][\"match_id\"]\n",
    "\n",
    "        # Check if the last match's year is 2023, if so, stop fetching more data\n",
    "        last_match_date = datetime.fromtimestamp(matches[-1][\"start_time\"])\n",
    "        print(f\"Succesfully appended data up to {last_match_date} into csv\")\n",
    "        if last_match_date.year <= 2013:\n",
    "            year_reached = True\n",
    "\n",
    "if __name__ == \"__main__\":\n",
    "    main()\n"
   ]
  },
  {
   "cell_type": "code",
   "execution_count": 20,
   "id": "6b626771-9e3d-4044-b6d3-0334a7a0f0a8",
   "metadata": {},
   "outputs": [],
   "source": [
    "nik = pd.read_csv(file_path)"
   ]
  },
  {
   "cell_type": "code",
   "execution_count": 21,
   "id": "c7d6097f-5aed-4c42-9a23-f99400f97155",
   "metadata": {},
   "outputs": [
    {
     "data": {
      "text/plain": [
       "6912090798"
      ]
     },
     "execution_count": 21,
     "metadata": {},
     "output_type": "execute_result"
    }
   ],
   "source": [
    "nik['match_id'].min()"
   ]
  },
  {
   "cell_type": "code",
   "execution_count": 17,
   "id": "5c0d3180-7c15-456d-9c72-34c364442d92",
   "metadata": {},
   "outputs": [
    {
     "data": {
      "text/plain": [
       "6945774688"
      ]
     },
     "execution_count": 17,
     "metadata": {},
     "output_type": "execute_result"
    }
   ],
   "source": [
    "list(nik['match_id'].values)[-1]"
   ]
  },
  {
   "cell_type": "code",
   "execution_count": null,
   "id": "d7aa0012-b296-4b69-82c7-b7004e41b4bd",
   "metadata": {},
   "outputs": [],
   "source": []
  }
 ],
 "metadata": {
  "kernelspec": {
   "display_name": "Python 3 (ipykernel)",
   "language": "python",
   "name": "python3"
  },
  "language_info": {
   "codemirror_mode": {
    "name": "ipython",
    "version": 3
   },
   "file_extension": ".py",
   "mimetype": "text/x-python",
   "name": "python",
   "nbconvert_exporter": "python",
   "pygments_lexer": "ipython3",
   "version": "3.11.4"
  }
 },
 "nbformat": 4,
 "nbformat_minor": 5
}
