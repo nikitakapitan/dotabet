{
 "cells": [
  {
   "cell_type": "code",
   "execution_count": 2,
   "id": "95ab5cd5-cd9c-4a87-b489-5cf6c141e101",
   "metadata": {},
   "outputs": [],
   "source": [
    "# GET PRO GAMES (MATCH ID) -> data/pro_games.json\n",
    "import os\n",
    "import requests\n",
    "import json\n",
    "import time\n",
    "import yaml \n",
    "\n",
    "from dotabet.fetch import fetch_data\n",
    "\n",
    "endpoint_template = \"https://api.opendota.com/api/proMatches?less_than_match_id={}\"\n",
    "filename = \"../data/0pro_games.json\"\n",
    "meta_filename = \"../data/0pro_games_meta.yaml\""
   ]
  },
  {
   "cell_type": "code",
   "execution_count": null,
   "id": "070d5fc3-0959-4b0a-99cf-03f19f6d554c",
   "metadata": {},
   "outputs": [],
   "source": [
    "### PARSE MATCH_IDS\n",
    "\n",
    "with open(meta_filename, 'r') as file:\n",
    "    last_match_id = yaml.safe_load(file).get('last_id')\n",
    "\n",
    "for _ in range(1000):  # Consider a more dynamic condition based on your needs\n",
    "    endpoint = endpoint_template.format(last_match_id)\n",
    "    fetched_data = fetch_data(endpoint)\n",
    "    if fetched_data:\n",
    "        print(f'iter {_}: +{len(fetched_data)}')\n",
    "        \n",
    "        with open(filename, 'a') as file:\n",
    "            json.dump(fetched_data, file)\n",
    "        last_match_id = min(item['match_id'] for item in fetched_data)\n",
    "    else:\n",
    "        print(\"No new data fetched. Ending loop.\")\n",
    "        break\n",
    "\n",
    "    \n",
    "with open(meta_filename, 'w') as file:\n",
    "    yaml.dump({'last_id': last_match_id}, file)\n"
   ]
  }
 ],
 "metadata": {
  "kernelspec": {
   "display_name": "Python 3 (ipykernel)",
   "language": "python",
   "name": "python3"
  },
  "language_info": {
   "codemirror_mode": {
    "name": "ipython",
    "version": 3
   },
   "file_extension": ".py",
   "mimetype": "text/x-python",
   "name": "python",
   "nbconvert_exporter": "python",
   "pygments_lexer": "ipython3",
   "version": "3.11.4"
  }
 },
 "nbformat": 4,
 "nbformat_minor": 5
}
