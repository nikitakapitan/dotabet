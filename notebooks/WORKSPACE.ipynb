{
 "cells": [
  {
   "cell_type": "code",
   "execution_count": 1,
   "id": "372f7e5a-a9bd-4caa-bcfd-9a72388d1a7f",
   "metadata": {},
   "outputs": [
    {
     "data": {
      "text/plain": [
       "datetime.datetime(2024, 4, 14, 18, 50, 12)"
      ]
     },
     "execution_count": 1,
     "metadata": {},
     "output_type": "execute_result"
    }
   ],
   "source": [
    "import datetime\n",
    "import dotabet\n",
    "import json\n",
    "import pandas as pd\n",
    "\n",
    "\n",
    "datetime.datetime.utcfromtimestamp(1713120612)"
   ]
  },
  {
   "cell_type": "code",
   "execution_count": 3,
   "id": "c3ee2a5d-130e-48fa-b72b-f4f73591073c",
   "metadata": {},
   "outputs": [],
   "source": [
    "with open('../data/1pro_games.json', 'r', encoding='utf-8') as file:\n",
    "        data = file.read()\n",
    "        data = '[' + data[:-1] + ']'\n",
    "        data = json.loads(data)\n",
    "        mids = [m['match_id'] for m in data]"
   ]
  },
  {
   "cell_type": "code",
   "execution_count": 12,
   "id": "8d999250-f4e0-470a-92e4-ba52698dad66",
   "metadata": {},
   "outputs": [],
   "source": [
    "all_player_csv_path = r\"D:\\WORKSPACE\\dotabet\\data\\top_teams\\all_players.csv\"\n",
    "all_player_clean_csv_path = r\"D:\\WORKSPACE\\dotabet\\data\\top_teams\\cleaned_all_players.csv\"\n",
    "features_csv_path = r\"D:\\WORKSPACE\\dotabet\\data\\top_teams\\features.csv\"\n",
    "\n",
    "players = pd.read_csv(all_player_csv_path)\n",
    "players_clean = pd.read_csv(all_player_clean_csv_path)\n",
    "features = pd.read_csv(features_csv_path)"
   ]
  },
  {
   "cell_type": "code",
   "execution_count": 13,
   "id": "3a153bb1-0b2f-46f1-88c0-6138b440d0e6",
   "metadata": {},
   "outputs": [
    {
     "data": {
      "text/plain": [
       "(27852, 26000, 26787)"
      ]
     },
     "execution_count": 13,
     "metadata": {},
     "output_type": "execute_result"
    }
   ],
   "source": [
    "len(players), len(players_clean), len(features)"
   ]
  },
  {
   "cell_type": "code",
   "execution_count": 1,
   "id": "f4fdbe3a-50ef-4a63-a289-1a1e62f2504d",
   "metadata": {},
   "outputs": [],
   "source": [
    "data = \"\"\"\n",
    "Rest Farmers\t+285\tTalon\t-435\t2024-03-31 11:00\n",
    "Heroic\t+143\tOG\t-186\t2024-04-03 16:00\t\n",
    "Virtus.pro\t-225\tNouns\t+166\t2024-04-03 16:00\t\n",
    "Talon\t+125\tPSG Quest\t-165\t2024-04-03 19:00\t\n",
    "Team Secret\t-136\tNigma Galaxy\t+105\t2024-04-03 19:00\t\n",
    "Team Secret\t+265\tVirtus.pro\t-400\t2024-03-31 11:00\t\n",
    "9 Pandas\t+260\tEntity Gaming\t-350\t2024-03-31 14:00\t\n",
    "Heroic\t+225\tTundra Esports\t-310\t2024-03-31 14:00\t\n",
    "Boom Esports\t+165\tPSG Quest\t-220\t2024-03-31 17:00\t\n",
    "Nigma Galaxy\t+250\tTeam AURORA\t-360\t2024-03-31 17:00\t\n",
    "KEV\t+176\tNouns\t-240\t2024-03-31 20:00\t\n",
    "OG\t-310\tBlacklist\t+230\t2024-03-31 20:00\t\n",
    "Rest Farmers\t+275\tTalon\t-400\t2024-03-31 11:00\t\n",
    "Team Secret\t+250\tVirtus.pro\t-375\t2024-03-31 11:00\t\n",
    "9 Pandas\t+260\tEntity Gaming\t-350\t2024-03-31 14:00\t\n",
    "Heroic\t+225\tTundra Esports\t-310\t2024-03-31 14:00\t\n",
    "Boom Esports\t+160\tPSG Quest\t-210\t2024-03-31 17:00\t\n",
    "Nigma Galaxy\t+230\tTeam AURORA\t-325\t2024-03-31 17:00\t\n",
    "KEV\t+172\tNouns\t-230\t2024-03-31 20:00\t\n",
    "OG\t-310\tBlacklist\t+230\t2024-03-31 20:00\t\n",
    "Rest Farmers\t+285\tTalon\t-400\t2024-03-31 11:00\t\n",
    "Team Secret\t+250\tVirtus.pro\t-375\t2024-03-31 11:00\t\n",
    "9 Pandas\t+260\tEntity Gaming\t-350\t2024-03-31 14:00\t\n",
    "Heroic\t+225\tTundra Esports\t-310\t2024-03-31 14:00\t\n",
    "Boom Esports\t+160\tPSG Quest\t-210\t2024-03-31 17:00\t\n",
    "Nigma Galaxy\t+230\tTeam AURORA\t-325\t2024-03-31 17:00\t\n",
    "KEV\t+172\tNouns\t-230\t2024-03-31 20:00\t\n",
    "OG\t-310\tBlacklist\t+230\t2024-03-31 20:00\t\n",
    "Rest Farmers\t+290\tTalon\t-435\t2024-03-31 11:00\t\n",
    "Team Secret\t+250\tVirtus.pro\t-345\t2024-03-31 11:00\t\n",
    "9 Pandas\t+260\tEntity Gaming\t-350\t2024-03-31 14:00\t\n",
    "Heroic\t+230\tTundra Esports\t-325\t2024-03-31 14:00\t\n",
    "Boom Esports\t+160\tPSG Quest\t-210\t2024-03-31 17:00\t\n",
    "Nigma Galaxy\t+260\tTeam AURORA\t-375\t2024-03-31 17:00\t\n",
    "KEV\t+172\tNouns\t-230\t2024-03-31 20:00\t\n",
    "OG\t-310\tBlacklist\t+230\t2024-03-31 20:00\t\n",
    "Rest Farmers\t+290\tTalon\t-435\t2024-03-31 11:00\t\n",
    "Team Secret\t+250\tVirtus.pro\t-345\t2024-03-31 11:00\t\n",
    "9 Pandas\t+260\tEntity Gaming\t-350\t2024-03-31 14:00\t\n",
    "Heroic\t+230\tTundra Esports\t-325\t2024-03-31 14:00\t\n",
    "Boom Esports\t+160\tPSG Quest\t-210\t2024-03-31 17:00\t\n",
    "Nigma Galaxy\t+260\tTeam AURORA\t-375\t2024-03-31 17:00\t\n",
    "KEV\t+172\tNouns\t-230\t2024-03-31 20:00\t\n",
    "OG\t-310\tBlacklist\t+230\t2024-03-31 20:00\t\n",
    "Rest Farmers\t+290\tTalon\t-435\t2024-03-31 11:00\t\n",
    "Team Secret\t+250\tVirtus.pro\t-345\t2024-03-31 11:00\t\n",
    "9 Pandas\t+260\tEntity Gaming\t-350\t2024-03-31 14:00\t\n",
    "Heroic\t+230\tTundra Esports\t-325\t2024-03-31 14:00\t\n",
    "Boom Esports\t+160\tPSG Quest\t-210\t2024-03-31 17:00\t\n",
    "Nigma Galaxy\t+260\tTeam AURORA\t-375\t2024-03-31 17:00\t\n",
    "KEV\t+172\tNouns\t-230\t2024-03-31 20:00\t\n",
    "OG\t-310\tBlacklist\t+230\t2024-03-31 20:00\t\n",
    "Rest Farmers\t+275\tTalon\t-400\t2024-03-31 11:00\t\n",
    "Team Secret\t+250\tVirtus.pro\t-345\t2024-03-31 11:00\t\n",
    "9 Pandas\t+260\tEntity Gaming\t-350\t2024-03-31 14:00\t\n",
    "Heroic\t+260\tTundra Esports\t-350\t2024-03-31 14:00\t\n",
    "Boom Esports\t+158\tPSG Quest\t-205\t2024-03-31 17:00\t\n",
    "Nigma Galaxy\t+260\tTeam AURORA\t-375\t2024-03-31 17:00\t\n",
    "KEV\t+172\tNouns\t-230\t2024-03-31 20:00\t\n",
    "OG\t-300\tBlacklist\t+225\t2024-03-31 20:00\t\n",
    "Rest Farmers\t+275\tTalon\t-400\t2024-03-31 11:00\t\n",
    "Team Secret\t+250\tVirtus.pro\t-345\t2024-03-31 11:00\t\n",
    "9 Pandas\t+260\tEntity Gaming\t-350\t2024-03-31 14:00\t\n",
    "Boom Esports\t+175\tPSG Quest\t-230\t2024-03-31 17:00\t\n",
    "Nigma Galaxy\t+275\tTeam AURORA\t-375\t2024-03-31 17:00\t\n",
    "KEV\t+185\tNouns\t-250\t2024-03-31 20:00\t\n",
    "OG\t-275\tBlacklist\t+200\t2024-03-31 20:00\t\n",
    "Nouns\t+134\tPSG Quest\t-182\t2024-04-02 20:00\t\n",
    "Talon\t-120\tBoom Esports\t-110\t2024-04-02 20:00\t\n",
    "Nouns\t+148\tPSG Quest\t-190\t2024-04-02 20:00\t\n",
    "KEV\t+250\tTeam AURORA\t-360\t2024-04-03 13:00\t\n",
    "Tundra Esports\t-325\tBlacklist\t+230\t2024-04-03 13:00\t\n",
    "KEV\t+265\tTeam AURORA\t-400\t2024-04-03 13:00\t\n",
    "Tundra Esports\t-325\tBlacklist\t+235\t2024-04-03 13:00\t\n",
    "\"\"\"\n",
    "\n",
    "lines = data.strip().split(\"\\n\")\n",
    "\n",
    "# Initialize the output list\n",
    "odds_table = []\n",
    "\n",
    "# Parse each line\n",
    "for line in lines:\n",
    "    # Split the line into components based on tab or multiple spaces\n",
    "    parts = line.split()\n",
    "    # The last part is the time, the parts before are team names and odds\n",
    "    match_time = parts[-1]\n",
    "    team1 = \" \".join(parts[0:-3:4])  # Every fourth item starting from 0, up to the last 3 items\n",
    "    team2 = \" \".join(parts[2:-1:4])  # Every fourth item starting from 2, up to the last item\n",
    "    # Append the tuple to the list\n",
    "    odds_table.append((team1, team2, match_time))"
   ]
  },
  {
   "cell_type": "code",
   "execution_count": 4,
   "id": "f9095651-3b66-482d-bc18-c79307650a15",
   "metadata": {},
   "outputs": [
    {
     "data": {
      "text/plain": [
       "74"
      ]
     },
     "execution_count": 4,
     "metadata": {},
     "output_type": "execute_result"
    }
   ],
   "source": [
    "len(odds_table)"
   ]
  },
  {
   "cell_type": "code",
   "execution_count": 2,
   "id": "89f2a09a-fb54-4cc1-93c1-15c058aadd9f",
   "metadata": {},
   "outputs": [
    {
     "ename": "KeyError",
     "evalue": "'Rest'",
     "output_type": "error",
     "traceback": [
      "\u001b[1;31m---------------------------------------------------------------------------\u001b[0m",
      "\u001b[1;31mKeyError\u001b[0m                                  Traceback (most recent call last)",
      "Cell \u001b[1;32mIn[2], line 52\u001b[0m\n\u001b[0;32m     50\u001b[0m updated_odds_table \u001b[38;5;241m=\u001b[39m []\n\u001b[0;32m     51\u001b[0m \u001b[38;5;28;01mfor\u001b[39;00m team1, team2, date \u001b[38;5;129;01min\u001b[39;00m odds_table:\n\u001b[1;32m---> 52\u001b[0m     winner \u001b[38;5;241m=\u001b[39m \u001b[43mdetermine_winner\u001b[49m\u001b[43m(\u001b[49m\u001b[43mteam1\u001b[49m\u001b[43m,\u001b[49m\u001b[43m \u001b[49m\u001b[43mteam2\u001b[49m\u001b[43m)\u001b[49m\n\u001b[0;32m     53\u001b[0m     updated_odds_table\u001b[38;5;241m.\u001b[39mappend((team1, team2, winner, date))\n\u001b[0;32m     55\u001b[0m updated_odds_table\n",
      "Cell \u001b[1;32mIn[2], line 23\u001b[0m, in \u001b[0;36mdetermine_winner\u001b[1;34m(team1, team2)\u001b[0m\n\u001b[0;32m     22\u001b[0m \u001b[38;5;28;01mdef\u001b[39;00m \u001b[38;5;21mdetermine_winner\u001b[39m(team1, team2):\n\u001b[1;32m---> 23\u001b[0m     record1 \u001b[38;5;241m=\u001b[39m \u001b[43mswiss_results\u001b[49m\u001b[43m[\u001b[49m\u001b[43mteam1\u001b[49m\u001b[43m]\u001b[49m[\u001b[38;5;241m0\u001b[39m]\n\u001b[0;32m     24\u001b[0m     record2 \u001b[38;5;241m=\u001b[39m swiss_results[team2][\u001b[38;5;241m0\u001b[39m]\n\u001b[0;32m     25\u001b[0m     wins1, _ \u001b[38;5;241m=\u001b[39m \u001b[38;5;28mmap\u001b[39m(\u001b[38;5;28mint\u001b[39m, record1\u001b[38;5;241m.\u001b[39msplit(\u001b[38;5;124m'\u001b[39m\u001b[38;5;124m-\u001b[39m\u001b[38;5;124m'\u001b[39m))\n",
      "\u001b[1;31mKeyError\u001b[0m: 'Rest'"
     ]
    }
   ],
   "source": [
    "# Swiss standings simplified data extraction (each entry is: Team: [W-L, Opponents and results])\n",
    "swiss_results = {\n",
    "    \"BOOM Esports\": [\"3-0\", [(\"PSG Quest\", \"2:1\"), (\"Team Secret\", \"2:0\"), (\"Talon Esports\", \"2:1\")]],\n",
    "    \"Entity\": [\"3-0\", [(\"9Pandas\", \"2:0\"), (\"HEROIC\", \"2:0\"), (\"OG\", \"2:0\")]],\n",
    "    \"OG\": [\"3-1\", [(\"Blacklist International\", \"2:1\"), (\"nouns\", \"2:0\"), (\"Entity\", \"0:2\"), (\"HEROIC\", \"2:1\")]],\n",
    "    \"PSG Quest\": [\"3-1\", [(\"BOOM Esports\", \"1:2\"), (\"KEV\", \"2:0\"), (\"nouns\", \"2:1\"), (\"Talon Esports\", \"2:1\")]],\n",
    "    \"Tundra Esports\": [\"3-1\", [(\"HEROIC\", \"1:2\"), (\"9Pandas\", \"2:0\"), (\"Nigma Galaxy\", \"2:0\"), (\"Blacklist International\", \"2:1\")]],\n",
    "    \"Aurora\": [\"3-2\", [(\"Nigma Galaxy\", \"1:2\"), (\"Virtus.pro\", \"2:0\"), (\"HEROIC\", \"0:2\"), (\"KEV\", \"2:0\"), (\"Team Secret\", \"2:1\")]],\n",
    "    \"Blacklist International\": [\"3-2\", [(\"OG\", \"1:2\"), (\"Rest Farmers\", \"2:0\"), (\"Team Secret\", \"2:0\"), (\"Tundra Esports\", \"1:2\"), (\"Virtus.pro\", \"2:0\")]],\n",
    "    \"HEROIC\": [\"3-2\", [(\"Tundra Esports\", \"2:1\"), (\"Entity\", \"0:2\"), (\"Aurora\", \"2:0\"), (\"OG\", \"1:2\"), (\"Talon Esports\", \"2:1\")]],\n",
    "    \"Talon Esports\": [\"2-3\", [(\"Rest Farmers\", \"2:1\"), (\"Nigma Galaxy\", \"2:1\"), (\"BOOM Esports\", \"1:2\"), (\"PSG Quest\", \"1:2\"), (\"HEROIC\", \"1:2\")]],\n",
    "    \"Team Secret\": [\"2-3\", [(\"Virtus.pro\", \"2:0\"), (\"BOOM Esports\", \"0:2\"), (\"Blacklist International\", \"0:2\"), (\"Nigma Galaxy\", \"2:0\"), (\"Aurora\", \"1:2\")]],\n",
    "    \"Virtus.pro\": [\"2-3\", [(\"Team Secret\", \"0:2\"), (\"Aurora\", \"0:2\"), (\"Rest Farmers\", \"2:0\"), (\"nouns\", \"2:0\"), (\"Blacklist International\", \"0:2\")]],\n",
    "    \"KEV\": [\"1-3\", [(\"nouns\", \"0:2\"), (\"PSG Quest\", \"0:2\"), (\"9Pandas\", \"2:1\"), (\"Aurora\", \"0:2\")]],\n",
    "    \"Nigma Galaxy\": [\"1-3\", [(\"Aurora\", \"2:1\"), (\"Talon Esports\", \"1:2\"), (\"Tundra Esports\", \"0:2\"), (\"Team Secret\", \"0:2\")]],\n",
    "    \"nouns\": [\"1-3\", [(\"KEV\", \"2:0\"), (\"OG\", \"0:2\"), (\"PSG Quest\", \"1:2\"), (\"Virtus.pro\", \"0:2\")]],\n",
    "    \"9Pandas\": [\"0-3\", [(\"Entity\", \"0:2\"), (\"Tundra Esports\", \"0:2\"), (\"KEV\", \"1:2\")]],\n",
    "    \"Rest Farmers\": [\"0-3\", [(\"Talon Esports\", \"1:2\"), (\"Blacklist International\", \"0:2\"), (\"Virtus.pro\", \"0:2\")]]\n",
    "}\n",
    "\n",
    "# Let's create a function to determine the winner based on the standings results\n",
    "def determine_winner(team1, team2):\n",
    "    record1 = swiss_results[team1][0]\n",
    "    record2 = swiss_results[team2][0]\n",
    "    wins1, _ = map(int, record1.split('-'))\n",
    "    wins2, _ = map(int, record2.split('-'))\n",
    "    \n",
    "    # If one team has more wins, they are the winner\n",
    "    if wins1 > wins2:\n",
    "        return team1\n",
    "    elif wins2 > wins1:\n",
    "        return team2\n",
    "    else:\n",
    "        # If tied, compare losses or specific match outcome if available\n",
    "        for opponent, result in swiss_results[team1][1]:\n",
    "            if opponent == team2:\n",
    "                if result.startswith(\"2\"):\n",
    "                    return team1\n",
    "                else:\n",
    "                    return team2\n",
    "        for opponent, result in swiss_results[team2][1]:\n",
    "            if opponent == team1:\n",
    "                if result.startswith(\"2\"):\n",
    "                    return team2\n",
    "                else:\n",
    "                    return team1\n",
    "    return None  # In case something goes wrong\n",
    "\n",
    "\n",
    "updated_odds_table = []\n",
    "for team1, team2, date in odds_table:\n",
    "    winner = determine_winner(team1, team2)\n",
    "    updated_odds_table.append((team1, team2, winner, date))\n",
    "\n",
    "updated_odds_table\n"
   ]
  },
  {
   "cell_type": "code",
   "execution_count": null,
   "id": "5f4cca2c-bfba-4408-aaf9-d590c3cc3ede",
   "metadata": {},
   "outputs": [],
   "source": []
  }
 ],
 "metadata": {
  "kernelspec": {
   "display_name": "Python 3 (ipykernel)",
   "language": "python",
   "name": "python3"
  },
  "language_info": {
   "codemirror_mode": {
    "name": "ipython",
    "version": 3
   },
   "file_extension": ".py",
   "mimetype": "text/x-python",
   "name": "python",
   "nbconvert_exporter": "python",
   "pygments_lexer": "ipython3",
   "version": "3.11.4"
  }
 },
 "nbformat": 4,
 "nbformat_minor": 5
}
