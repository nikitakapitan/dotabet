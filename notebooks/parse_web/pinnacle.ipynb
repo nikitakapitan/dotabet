{
 "cells": [
  {
   "cell_type": "code",
   "execution_count": 37,
   "id": "1754d642-15d2-41c9-870d-2cf211512a86",
   "metadata": {},
   "outputs": [
    {
     "name": "stdout",
     "output_type": "stream",
     "text": [
      "Date: 2024-05-03\n",
      "League: EUROPEAN PRO LEAGUE\n",
      "Teams and Odds:\n",
      "Level UP MB: 6.870\n",
      "Nemiga: 1.066\n",
      "----------\n",
      "Date: 2024-05-03\n",
      "League: RES REGIONAL SERIES LATAM\n",
      "Teams and Odds:\n",
      "Estar Backs: 1.561\n",
      "Infinity: 2.330\n",
      "----------\n",
      "Date: 2024-05-03\n",
      "League: RES REGIONAL SERIES LATAM\n",
      "Teams and Odds:\n",
      "beastcoast: 1.400\n",
      "Qhali: 2.810\n",
      "----------\n"
     ]
    }
   ],
   "source": [
    "from selenium import webdriver\n",
    "from selenium.webdriver.chrome.service import Service\n",
    "from webdriver_manager.chrome import ChromeDriverManager\n",
    "from selenium.webdriver.common.by import By\n",
    "import time\n",
    "from datetime import date, timedelta\n",
    "import csv\n",
    "import os\n",
    "\n",
    "odds_file = r\"D:\\WORKSPACE\\dotabet\\data\\odds\\pinnacle.csv\"\n",
    "if not os.path.isfile(odds_file):\n",
    "    with open(odds_file, mode='w', newline='') as file:\n",
    "        writer = csv.writer(file)\n",
    "        header = [\"Match_Date\", \"League_Name\", \"Team_1\", \"Odd_1\", \"Team_2\", \"Odd_2\"]\n",
    "        writer.writerow(header)\n",
    "\n",
    "today = date.today()\n",
    "today_date = today.strftime('%Y-%m-%d')\n",
    "tommorow_date = today + timedelta(days=1)\n",
    "\n",
    "# Initialize WebDriver\n",
    "driver = webdriver.Chrome(service=Service(ChromeDriverManager().install()))\n",
    "\n",
    "try:\n",
    "    # Navigate to the webpage\n",
    "    driver.get(\"https://www.pinnacle.com/en/esports/games/dota-2/matchups\")\n",
    "\n",
    "    # Allow some time for the page to load\n",
    "    time.sleep(5)  # Adjust time based on your internet speed\n",
    "\n",
    "    # Find all content blocks that might contain match details for Today or Tomorrow\n",
    "    date_blocks = driver.find_elements(By.CSS_SELECTOR, \"div.contentBlock.square > div.contentBlock.square\")\n",
    "\n",
    "    for date_block in date_blocks:\n",
    "        # Extract the date (e.g., Today, Tomorrow)\n",
    "        date = date_block.find_element(By.CSS_SELECTOR, \"div.style_dateBar__1adEH\").text.split(' ')[0]\n",
    "        if date.split('\\n')[0] == \"TODAY\":\n",
    "            date_ymd = today_date\n",
    "        elif date.split('\\n')[0] == \"TOMMOROW\":\n",
    "            date_ymd = tommorow_date\n",
    "        else:\n",
    "            date_ymd = None\n",
    "        \n",
    "        # Find all league blocks within the date block\n",
    "        league_blocks = date_block.find_elements(By.CSS_SELECTOR, \"div.style_row__yBzX8.style_row__3l5MS\")\n",
    "\n",
    "        for league_block in league_blocks:\n",
    "            # Extract the league name\n",
    "            league_name = league_block.find_element(By.CSS_SELECTOR, \"div.style_metadata__3MrIC > a > span\").text\n",
    "\n",
    "            # Extract match rows within the league block\n",
    "            match_blocks = league_block.find_elements(By.XPATH, \"following-sibling::div\")\n",
    "\n",
    "            for match in match_blocks:\n",
    "                # Stop if we hit another league block or end of date section\n",
    "                if match.get_attribute(\"class\") == \"style_row__yBzX8 style_row__3l5MS\":\n",
    "                    break\n",
    "\n",
    "                # Filter only rows with '(Match)' in the participant name\n",
    "                participants = match.find_elements(By.CSS_SELECTOR, \"div.style_gameInfoLabel__2m_fI > span\")\n",
    "                match_info = [p.text for p in participants if '(Match)' in p.text]\n",
    "\n",
    "                if match_info:\n",
    "                    # Extract Money Line odds\n",
    "                    money_line_buttons = match.find_elements(By.CSS_SELECTOR, \"div.style_moneyline__2xTld > div > button\")\n",
    "                    odds = [btn.find_element(By.CSS_SELECTOR, \"span.style_price__3Haa9\").text for btn in money_line_buttons]\n",
    "\n",
    "                    \n",
    "                    print(f\"Date: {date_ymd}\")\n",
    "                    print(f\"League: {league_name}\")\n",
    "                    print(\"Teams and Odds:\")\n",
    "                    data = [date_ymd, league_name]\n",
    "                    for team, odd in zip(match_info, odds):\n",
    "                        team = team.split(' (Match)')[0]\n",
    "                        data.extend([team, odd])\n",
    "                        print(f\"{team}: {odd}\")\n",
    "                    print(\"----------\")\n",
    "                    with open(odds_file, mode='a', newline='') as file:\n",
    "                        writer = csv.writer(file)\n",
    "                        writer.writerow(data)\n",
    "except Exception as e:\n",
    "    print(f\"An error occurred: {e}\")\n",
    "finally:\n",
    "    # Clean up: close the browser\n",
    "    driver.quit()\n"
   ]
  },
  {
   "cell_type": "code",
   "execution_count": 36,
   "id": "281fae97-3206-4259-9586-0de297a423fe",
   "metadata": {},
   "outputs": [
    {
     "data": {
      "text/plain": [
       "'Level UP MB'"
      ]
     },
     "execution_count": 36,
     "metadata": {},
     "output_type": "execute_result"
    }
   ],
   "source": [
    "nik = 'Level UP MB (Match)'\n",
    "nik = nik.split(' (Match)')[0]\n",
    "nik"
   ]
  },
  {
   "cell_type": "code",
   "execution_count": 1,
   "id": "73dc249f-3a8a-43a4-9cb2-cc132dcf3c35",
   "metadata": {},
   "outputs": [
    {
     "name": "stdout",
     "output_type": "stream",
     "text": [
      "date_ymd='2024-05-03'\n",
      " league_name='EUROPEAN PRO LEAGUE'\n",
      " team1='Level UP MB' odd1='6.470' \n",
      " team2='Nemiga' odd2='1.074'\n",
      "----------\n",
      "\n",
      "❗Data already exist in CSV\n",
      "date_ymd='2024-05-03'\n",
      " league_name='RES REGIONAL SERIES LATAM'\n",
      " team1='Estar Backs' odd1='1.578' \n",
      " team2='Infinity' odd2='2.300'\n",
      "----------\n",
      "\n",
      "❗Data already exist in CSV\n",
      "date_ymd='2024-05-03'\n",
      " league_name='RES REGIONAL SERIES LATAM'\n",
      " team1='beastcoast' odd1='1.400' \n",
      " team2='Qhali' odd2='2.810'\n",
      "----------\n",
      "\n",
      "❗Data already exist in CSV\n",
      "Message sent successfully.\n"
     ]
    }
   ],
   "source": [
    "import os\n",
    "import requests\n",
    "import requests\n",
    "import subprocess\n",
    "from datetime import datetime\n",
    "from dotabet.script.pinnacle import scrape_dota2_odds\n",
    "\n",
    "def send_telegram_message(token, chat_id, message):\n",
    "    url = f\"https://api.telegram.org/bot{token}/sendMessage\"\n",
    "    payload = {\n",
    "        'chat_id': chat_id,\n",
    "        'text': message\n",
    "    }\n",
    "    response = requests.post(url, data=payload)\n",
    "    if response.status_code == 200:\n",
    "        print(\"Message sent successfully.\")\n",
    "    else:\n",
    "        print(\"Failed to send message.\")\n",
    "\n",
    "token = \"6056809505:AAEci0XQUkG86E0PV1P0ujabDfYqkyUHtso\"\n",
    "chat_id = \"333091706\"\n",
    "telegram_msg = scrape_dota2_odds()\n",
    "send_telegram_message(token, chat_id, \"\\n\\n\".join(telegram_msg))\n",
    "    "
   ]
  },
  {
   "cell_type": "code",
   "execution_count": null,
   "id": "f62008a1-3774-4b30-a849-d92f29e196ab",
   "metadata": {},
   "outputs": [],
   "source": []
  }
 ],
 "metadata": {
  "kernelspec": {
   "display_name": "Python 3 (ipykernel)",
   "language": "python",
   "name": "python3"
  },
  "language_info": {
   "codemirror_mode": {
    "name": "ipython",
    "version": 3
   },
   "file_extension": ".py",
   "mimetype": "text/x-python",
   "name": "python",
   "nbconvert_exporter": "python",
   "pygments_lexer": "ipython3",
   "version": "3.11.4"
  }
 },
 "nbformat": 4,
 "nbformat_minor": 5
}
