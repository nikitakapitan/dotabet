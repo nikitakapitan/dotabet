{
 "cells": [
  {
   "cell_type": "code",
   "execution_count": 1,
   "id": "0767ba5e-9215-4a0e-8cc9-dd7a71b2e6af",
   "metadata": {},
   "outputs": [],
   "source": [
    "URL = \"https://www.opendota.com/teams/7119388/matches\""
   ]
  },
  {
   "cell_type": "code",
   "execution_count": 3,
   "id": "ba04883a-8b86-44d1-9898-52d679a18672",
   "metadata": {},
   "outputs": [],
   "source": [
    "from selenium import webdriver\n",
    "from selenium.webdriver.common.by import By\n",
    "from selenium.webdriver.chrome.service import Service\n",
    "from selenium.webdriver.support.ui import WebDriverWait\n",
    "from selenium.webdriver.support import expected_conditions as EC\n",
    "from selenium.webdriver.common.keys import Keys\n",
    "from webdriver_manager.chrome import ChromeDriverManager\n",
    "from bs4 import BeautifulSoup\n",
    "import time\n",
    "\n",
    "# Initialize Selenium WebDriver\n",
    "driver = webdriver.Chrome(service=Service(ChromeDriverManager().install()))\n",
    "\n",
    "# Open the page\n",
    "driver.get(URL)\n",
    "\n",
    "all_match_ids = []\n",
    "\n",
    "total_pages = 42  # Assuming you know or find out the total number of pages\n",
    "\n",
    "for current_page in range(1,total_pages+1):\n",
    "    # Wait for the dynamic content of the current page to load\n",
    "    # WebDriverWait(driver, 10).until(EC.presence_of_all_elements_located((By.CSS_SELECTOR, 'button[class*=\"sc-eqI\"]')))\n",
    "    time.sleep(3)\n",
    "\n",
    "    # Parse the page with BeautifulSoup\n",
    "    soup = BeautifulSoup(driver.page_source, 'html.parser')\n",
    "    match_links = soup.find_all('a', href=True)\n",
    "    match_ids = [link['href'].split('/')[-1] for link in match_links if 'matches' in link['href'] and link['href'].split('/')[-1].isdigit()]\n",
    "    all_match_ids.extend(match_ids)\n",
    "\n",
    "    # Move to the next page by clicking the pagination button\n",
    "    if current_page < total_pages:\n",
    "        try:\n",
    "            # Find and click the next page button by its text (which matches the next page number)\n",
    "            next_page_button = driver.find_element(By.XPATH, f\"//button[.//div[text()='{current_page + 1}']]\")\n",
    "            next_page_button.click()\n",
    "            \n",
    "            # Wait for the next page's content to load\n",
    "            time.sleep(2)  # Adjust based on the actual page load time\n",
    "        except Exception as e:\n",
    "            print(f\"Error navigating to page {current_page}: {e}\")\n",
    "            break\n",
    "\n",
    "# Quit the driver to clean up resources\n",
    "driver.quit()\n",
    "\n",
    "# Print all collected match IDs\n",
    "print(all_match_ids)\n"
   ]
  },
  {
   "cell_type": "code",
   "execution_count": 3,
   "id": "d0fc3a95-9926-4837-95a3-3649c7c87517",
   "metadata": {},
   "outputs": [
    {
     "name": "stdout",
     "output_type": "stream",
     "text": [
      "Match IDs saved to team_spirit_match_ids.txt\n"
     ]
    }
   ],
   "source": [
    "def save_match_ids(match_ids, filename):\n",
    "    with open(filename, 'w') as file:\n",
    "        for match_id in match_ids:\n",
    "            file.write(str(match_id) + '\\n')\n",
    "\n",
    "\n",
    "# Save the match IDs to a file\n",
    "filename = \"team_spirit_match_ids.txt\"\n",
    "save_match_ids(all_match_ids, filename)\n",
    "\n",
    "print(\"Match IDs saved to\", filename)\n"
   ]
  },
  {
   "cell_type": "code",
   "execution_count": null,
   "id": "9be7ea7a-aee5-4704-bd80-d9a07442ef54",
   "metadata": {},
   "outputs": [],
   "source": []
  }
 ],
 "metadata": {
  "kernelspec": {
   "display_name": "Python 3 (ipykernel)",
   "language": "python",
   "name": "python3"
  },
  "language_info": {
   "codemirror_mode": {
    "name": "ipython",
    "version": 3
   },
   "file_extension": ".py",
   "mimetype": "text/x-python",
   "name": "python",
   "nbconvert_exporter": "python",
   "pygments_lexer": "ipython3",
   "version": "3.11.4"
  }
 },
 "nbformat": 4,
 "nbformat_minor": 5
}
