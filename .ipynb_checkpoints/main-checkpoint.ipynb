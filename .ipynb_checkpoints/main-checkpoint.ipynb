{
 "cells": [
  {
   "cell_type": "code",
   "execution_count": 1,
   "id": "451c09ee-458e-40da-830d-7720805cee63",
   "metadata": {},
   "outputs": [],
   "source": [
    "import numpy as np\n",
    "import torch\n",
    "import torch.nn as nn\n",
    "import json\n",
    "from sklearn.model_selection import train_test_split\n",
    "from dotabet.TransformerClassifier import TransformerClassifier\n",
    "import matplotlib.pyplot as plt\n",
    "from torch.utils.data import TensorDataset, DataLoader\n"
   ]
  },
  {
   "cell_type": "code",
   "execution_count": 11,
   "id": "e6d52aaf-e735-4a57-a218-9e0b51c74683",
   "metadata": {},
   "outputs": [],
   "source": [
    "def preprocess_and_split(data, test_size=0.2, holdout_size=0.1):\n",
    "    X = np.array([d['radiant_team'] + d['dire_team'] for d in data])\n",
    "    y = np.array([1 if d['radiant_win'] else 0 for d in data])\n",
    "    \n",
    "     # First split: separate out the holdout set\n",
    "    X_temp, X_holdout, y_temp, y_holdout = train_test_split(X, y, test_size=holdout_size, random_state=42)\n",
    "    \n",
    "    adjusted_test_size = test_size / (1 - holdout_size)\n",
    "\n",
    "    # Second split\n",
    "    X_train, X_test, y_train, y_test = train_test_split(X_temp, y_temp, test_size=adjusted_test_size, random_state=42)\n",
    "    \n",
    "    return X_train, X_test, X_holdout, y_train, y_test, y_holdout\n",
    "\n",
    "\n",
    "with open('pub_games.json', 'r') as file:\n",
    "    data = json.load(file)\n",
    "\n",
    "X_train, X_test, X_holdout, y_train, y_test, y_holdout = preprocess_and_split(data, test_size=0.2, holdout_size=0.1)\n",
    "\n",
    "X_train_tensor, X_test_tensor, X_holdout_tensor = map(lambda x: torch.tensor(x, dtype=torch.long), (X_train, X_test, X_holdout))\n",
    "y_train_tensor, y_test_tensor, y_holdout_tensor = map(lambda x: torch.tensor(x, dtype=torch.float32), (y_train, y_test, y_holdout))\n",
    "\n",
    "train_dataset = TensorDataset(X_train_tensor, y_train_tensor)\n",
    "teset_dataset = TensorDataset(X_test_tensor, y_test_tensor)\n",
    "holdout_dataset = TensorDataset(X_holdout_tensor, y_holdout_tensor)\n",
    "\n",
    "train_loader = DataLoader(train_dataset, batch_size=32, shuffle=True)\n",
    "test_loader = DataLoader(teset_dataset, batch_size=32, shuffle=True)\n",
    "holdout_loader = DataLoader(holdout_dataset, batch_size=32, shuffle=False)\n",
    "\n",
    "device = torch.device(\"cuda\" if torch.cuda.is_available() else \"cpu\")\n",
    "\n",
    "print(f'{len(train_dataset)=} {len(teset_dataset)=} {len(holdout_dataset)=}')\n",
    "\n",
    "N, seq_len = X_train.shape"
   ]
  },
  {
   "cell_type": "code",
   "execution_count": 9,
   "id": "7d772455-22d7-4f0b-b65f-7dd5e606ac3a",
   "metadata": {},
   "outputs": [
    {
     "name": "stdout",
     "output_type": "stream",
     "text": [
      "Trainable Parameters: 279521\n",
      "Total Model Size: 1.07 MB\n"
     ]
    }
   ],
   "source": [
    "\n",
    "vocab_size = 140\n",
    "emb_dim = 32\n",
    "num_heads = 4\n",
    "num_layers = 2\n",
    "d_ff = 4*emb_dim\n",
    "batch_size = 32\n",
    "lr = 1e-3\n",
    "num_epochs = 10\n",
    "\n",
    "\n",
    "model = TransformerClassifier(vocab_size, emb_dim, num_heads, num_layers)\n",
    "criterion = nn.BCELoss()\n",
    "optimizer = torch.optim.Adam(model.parameters(), lr=lr)\n",
    "\n",
    "def evaluate_model(model, data_loader, criterion):\n",
    "    model.eval()  # Set the model to evaluation mode\n",
    "    total_loss = 0.0\n",
    "    with torch.no_grad():  # No gradient computation\n",
    "        for inputs, labels in data_loader:\n",
    "            outputs = model(inputs)\n",
    "            loss = criterion(outputs, labels)\n",
    "            total_loss += loss.item() * inputs.size(0)\n",
    "    return total_loss / len(data_loader.dataset)\n",
    "\n",
    "def count_trainable_parameters(model):\n",
    "    for p in model.parameters():\n",
    "        \n",
    "    return sum(p.numel() for p in model.parameters() if p.requires_grad)\n",
    "\n",
    "trainable_params = count_trainable_parameters(model)\n",
    "print(f\"Trainable Parameters: {trainable_params}\")\n",
    "print(f\"Total Model Size: {trainable_params*4/(1024**2):.2f} MB\")"
   ]
  },
  {
   "cell_type": "code",
   "execution_count": 12,
   "id": "96639e4c-bab4-4d5a-b17b-237fbe122152",
   "metadata": {},
   "outputs": [
    {
     "name": "stdout",
     "output_type": "stream",
     "text": [
      "None\n"
     ]
    }
   ],
   "source": [
    "for p in model.parameters():\n",
    "    print(p.name)\n",
    "    break"
   ]
  },
  {
   "cell_type": "code",
   "execution_count": 19,
   "id": "22032d43-7193-46b4-a595-d929ff282595",
   "metadata": {},
   "outputs": [
    {
     "data": {
      "text/plain": [
       "TransformerClassifier(\n",
       "  (embedding): Embedding(140, 32)\n",
       "  (transformer_encoder): TransformerEncoder(\n",
       "    (layers): ModuleList(\n",
       "      (0-1): 2 x TransformerEncoderLayer(\n",
       "        (self_attn): MultiheadAttention(\n",
       "          (out_proj): NonDynamicallyQuantizableLinear(in_features=32, out_features=32, bias=True)\n",
       "        )\n",
       "        (linear1): Linear(in_features=32, out_features=2048, bias=True)\n",
       "        (dropout): Dropout(p=0.1, inplace=False)\n",
       "        (linear2): Linear(in_features=2048, out_features=32, bias=True)\n",
       "        (norm1): LayerNorm((32,), eps=1e-05, elementwise_affine=True)\n",
       "        (norm2): LayerNorm((32,), eps=1e-05, elementwise_affine=True)\n",
       "        (dropout1): Dropout(p=0.1, inplace=False)\n",
       "        (dropout2): Dropout(p=0.1, inplace=False)\n",
       "      )\n",
       "    )\n",
       "  )\n",
       "  (fc): Linear(in_features=32, out_features=1, bias=True)\n",
       ")"
      ]
     },
     "execution_count": 19,
     "metadata": {},
     "output_type": "execute_result"
    }
   ],
   "source": [
    "model"
   ]
  },
  {
   "cell_type": "code",
   "execution_count": 18,
   "id": "5b7d4478-a3cf-4027-ad88-57ed88459104",
   "metadata": {},
   "outputs": [
    {
     "ename": "AttributeError",
     "evalue": "'Parameter' object has no attribute 'nam'",
     "output_type": "error",
     "traceback": [
      "\u001b[1;31m---------------------------------------------------------------------------\u001b[0m",
      "\u001b[1;31mAttributeError\u001b[0m                            Traceback (most recent call last)",
      "Cell \u001b[1;32mIn[18], line 1\u001b[0m\n\u001b[1;32m----> 1\u001b[0m \u001b[43mp\u001b[49m\u001b[38;5;241;43m.\u001b[39;49m\u001b[43mnam\u001b[49m\n",
      "\u001b[1;31mAttributeError\u001b[0m: 'Parameter' object has no attribute 'nam'"
     ]
    }
   ],
   "source": []
  },
  {
   "cell_type": "code",
   "execution_count": null,
   "id": "9a825d3f-a20b-4b7e-9f2f-e9288510d022",
   "metadata": {},
   "outputs": [],
   "source": [
    "%%time\n",
    "\n",
    "train_losses = []\n",
    "test_losses = []\n",
    "\n",
    "for epoch in range(num_epochs):\n",
    "    model.train()\n",
    "    total_train_loss = 0.0\n",
    "    for inputs, labels in train_loader:\n",
    "        optimizer.zero_grad()\n",
    "        outputs = model(inputs)\n",
    "        loss = criterion(outputs, labels)\n",
    "        loss.backward()\n",
    "        optimizer.step()\n",
    "        total_train_loss += loss.item() * inputs.size(0)\n",
    "        \n",
    "     # Calculate average losses\n",
    "    avg_train_loss = total_train_loss / len(train_loader.dataset)\n",
    "    avg_test_loss = evaluate_model(model, test_loader, criterion)\n",
    "\n",
    "    # Append to lists\n",
    "    train_losses.append(avg_train_loss)\n",
    "    test_losses.append(avg_test_loss)\n",
    "    \n",
    "    print(f'Epoch {epoch+1}, {avg_train_loss=:.4f}, {avg_test_loss=:.4f}')\n",
    "\n"
   ]
  },
  {
   "cell_type": "code",
   "execution_count": null,
   "id": "b841a754-a91f-41e9-8222-0b330adfd3d2",
   "metadata": {},
   "outputs": [],
   "source": [
    "plt.figure(figsize=(10, 6))\n",
    "plt.plot(train_losses, label='Train Loss')\n",
    "plt.plot(test_losses, label='Test Loss')\n",
    "plt.xlabel('Epochs')\n",
    "plt.ylabel('Loss')\n",
    "plt.title('Learning Curve')\n",
    "plt.legend()"
   ]
  }
 ],
 "metadata": {
  "kernelspec": {
   "display_name": "Python 3 (ipykernel)",
   "language": "python",
   "name": "python3"
  },
  "language_info": {
   "codemirror_mode": {
    "name": "ipython",
    "version": 3
   },
   "file_extension": ".py",
   "mimetype": "text/x-python",
   "name": "python",
   "nbconvert_exporter": "python",
   "pygments_lexer": "ipython3",
   "version": "3.11.4"
  }
 },
 "nbformat": 4,
 "nbformat_minor": 5
}
